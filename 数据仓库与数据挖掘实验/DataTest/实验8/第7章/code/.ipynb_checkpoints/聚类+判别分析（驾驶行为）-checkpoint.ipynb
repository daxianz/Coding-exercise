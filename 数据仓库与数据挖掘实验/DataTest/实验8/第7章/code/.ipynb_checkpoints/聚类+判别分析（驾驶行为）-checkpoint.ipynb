{
 "cells": [
  {
   "cell_type": "markdown",
   "metadata": {},
   "source": [
    "一、导入所需要的包"
   ]
  },
  {
   "cell_type": "code",
   "execution_count": 1,
   "metadata": {},
   "outputs": [
    {
     "name": "stderr",
     "output_type": "stream",
     "text": [
      "C:\\Users\\lenovo\\anaconda3\\lib\\site-packages\\sklearn\\utils\\deprecation.py:143: FutureWarning: The sklearn.datasets.samples_generator module is  deprecated in version 0.22 and will be removed in version 0.24. The corresponding classes / functions should instead be imported from sklearn.datasets. Anything that cannot be imported from sklearn.datasets is now part of the private API.\n",
      "  warnings.warn(message, FutureWarning)\n"
     ]
    }
   ],
   "source": [
    "import sklearn as ak\n",
    "import pandas as pd\n",
    "import numpy as np\n",
    "import matplotlib.pyplot as plt\n",
    "import time\n",
    "import warnings\n",
    "import sklearn\n",
    "from sklearn import cluster,datasets,mixture\n",
    "from sklearn.neighbors import kneighbors_graph\n",
    "from sklearn.preprocessing import StandardScaler\n",
    "from itertools import cycle,islice\n",
    "from numpy import unique\n",
    "from numpy import where\n",
    "from sklearn.datasets import make_classification\n",
    "from sklearn.datasets.samples_generator import make_blobs\n",
    "from sklearn.cluster import DBSCAN"
   ]
  },
  {
   "cell_type": "code",
   "execution_count": 50,
   "metadata": {},
   "outputs": [
    {
     "data": {
      "text/html": [
       "<div>\n",
       "<style scoped>\n",
       "    .dataframe tbody tr th:only-of-type {\n",
       "        vertical-align: middle;\n",
       "    }\n",
       "\n",
       "    .dataframe tbody tr th {\n",
       "        vertical-align: top;\n",
       "    }\n",
       "\n",
       "    .dataframe thead th {\n",
       "        text-align: right;\n",
       "    }\n",
       "</style>\n",
       "<table border=\"1\" class=\"dataframe\">\n",
       "  <thead>\n",
       "    <tr style=\"text-align: right;\">\n",
       "      <th></th>\n",
       "      <th>车辆编码</th>\n",
       "      <th>mileage</th>\n",
       "      <th>avg_speed</th>\n",
       "      <th>sd_speed</th>\n",
       "      <th>sd_speed_diff</th>\n",
       "      <th>speed_plus</th>\n",
       "      <th>speed_minus</th>\n",
       "      <th>tired</th>\n",
       "      <th>slip</th>\n",
       "      <th>dscs</th>\n",
       "      <th>plus_rate</th>\n",
       "      <th>minus_rate</th>\n",
       "      <th>tired_rate</th>\n",
       "      <th>slip_rate</th>\n",
       "      <th>dscs_rate</th>\n",
       "    </tr>\n",
       "  </thead>\n",
       "  <tbody>\n",
       "    <tr>\n",
       "      <th>0</th>\n",
       "      <td>AA00001</td>\n",
       "      <td>6513</td>\n",
       "      <td>62.798773</td>\n",
       "      <td>27.034993</td>\n",
       "      <td>1.565298</td>\n",
       "      <td>10</td>\n",
       "      <td>11</td>\n",
       "      <td>15</td>\n",
       "      <td>71</td>\n",
       "      <td>301</td>\n",
       "      <td>0.001535</td>\n",
       "      <td>0.001689</td>\n",
       "      <td>0.002303</td>\n",
       "      <td>0.010901</td>\n",
       "      <td>0.046215</td>\n",
       "    </tr>\n",
       "    <tr>\n",
       "      <th>1</th>\n",
       "      <td>AA00002</td>\n",
       "      <td>749</td>\n",
       "      <td>61.284090</td>\n",
       "      <td>29.138408</td>\n",
       "      <td>1.553532</td>\n",
       "      <td>1</td>\n",
       "      <td>4</td>\n",
       "      <td>5</td>\n",
       "      <td>11</td>\n",
       "      <td>128</td>\n",
       "      <td>0.001335</td>\n",
       "      <td>0.005340</td>\n",
       "      <td>0.006676</td>\n",
       "      <td>0.014686</td>\n",
       "      <td>0.170895</td>\n",
       "    </tr>\n",
       "    <tr>\n",
       "      <th>2</th>\n",
       "      <td>AA00004</td>\n",
       "      <td>597</td>\n",
       "      <td>52.885290</td>\n",
       "      <td>24.535798</td>\n",
       "      <td>2.051689</td>\n",
       "      <td>6</td>\n",
       "      <td>5</td>\n",
       "      <td>5</td>\n",
       "      <td>14</td>\n",
       "      <td>114</td>\n",
       "      <td>0.010050</td>\n",
       "      <td>0.008375</td>\n",
       "      <td>0.008375</td>\n",
       "      <td>0.023451</td>\n",
       "      <td>0.190955</td>\n",
       "    </tr>\n",
       "    <tr>\n",
       "      <th>3</th>\n",
       "      <td>AA00036</td>\n",
       "      <td>304</td>\n",
       "      <td>49.517004</td>\n",
       "      <td>27.077887</td>\n",
       "      <td>0.998427</td>\n",
       "      <td>6</td>\n",
       "      <td>4</td>\n",
       "      <td>4</td>\n",
       "      <td>4</td>\n",
       "      <td>80</td>\n",
       "      <td>0.019737</td>\n",
       "      <td>0.013158</td>\n",
       "      <td>0.013158</td>\n",
       "      <td>0.013158</td>\n",
       "      <td>0.263158</td>\n",
       "    </tr>\n",
       "    <tr>\n",
       "      <th>4</th>\n",
       "      <td>AA00045</td>\n",
       "      <td>222</td>\n",
       "      <td>49.330394</td>\n",
       "      <td>22.219954</td>\n",
       "      <td>2.109688</td>\n",
       "      <td>1</td>\n",
       "      <td>3</td>\n",
       "      <td>2</td>\n",
       "      <td>3</td>\n",
       "      <td>53</td>\n",
       "      <td>0.004505</td>\n",
       "      <td>0.013514</td>\n",
       "      <td>0.009009</td>\n",
       "      <td>0.013514</td>\n",
       "      <td>0.238739</td>\n",
       "    </tr>\n",
       "    <tr>\n",
       "      <th>...</th>\n",
       "      <td>...</td>\n",
       "      <td>...</td>\n",
       "      <td>...</td>\n",
       "      <td>...</td>\n",
       "      <td>...</td>\n",
       "      <td>...</td>\n",
       "      <td>...</td>\n",
       "      <td>...</td>\n",
       "      <td>...</td>\n",
       "      <td>...</td>\n",
       "      <td>...</td>\n",
       "      <td>...</td>\n",
       "      <td>...</td>\n",
       "      <td>...</td>\n",
       "      <td>...</td>\n",
       "    </tr>\n",
       "    <tr>\n",
       "      <th>443</th>\n",
       "      <td>AM00282</td>\n",
       "      <td>2949</td>\n",
       "      <td>49.368028</td>\n",
       "      <td>25.297480</td>\n",
       "      <td>2.061533</td>\n",
       "      <td>2</td>\n",
       "      <td>10</td>\n",
       "      <td>3</td>\n",
       "      <td>10</td>\n",
       "      <td>59</td>\n",
       "      <td>0.000678</td>\n",
       "      <td>0.003391</td>\n",
       "      <td>0.001017</td>\n",
       "      <td>0.003391</td>\n",
       "      <td>0.020007</td>\n",
       "    </tr>\n",
       "    <tr>\n",
       "      <th>444</th>\n",
       "      <td>AM00337</td>\n",
       "      <td>140</td>\n",
       "      <td>46.362071</td>\n",
       "      <td>16.694683</td>\n",
       "      <td>1.622326</td>\n",
       "      <td>0</td>\n",
       "      <td>0</td>\n",
       "      <td>0</td>\n",
       "      <td>8</td>\n",
       "      <td>31</td>\n",
       "      <td>0.000000</td>\n",
       "      <td>0.000000</td>\n",
       "      <td>0.000000</td>\n",
       "      <td>0.057143</td>\n",
       "      <td>0.221429</td>\n",
       "    </tr>\n",
       "    <tr>\n",
       "      <th>445</th>\n",
       "      <td>AM00343</td>\n",
       "      <td>3283</td>\n",
       "      <td>34.252810</td>\n",
       "      <td>17.276927</td>\n",
       "      <td>1.603206</td>\n",
       "      <td>2</td>\n",
       "      <td>0</td>\n",
       "      <td>6</td>\n",
       "      <td>1</td>\n",
       "      <td>31</td>\n",
       "      <td>0.000609</td>\n",
       "      <td>0.000000</td>\n",
       "      <td>0.001828</td>\n",
       "      <td>0.000305</td>\n",
       "      <td>0.009443</td>\n",
       "    </tr>\n",
       "    <tr>\n",
       "      <th>446</th>\n",
       "      <td>AM00394</td>\n",
       "      <td>2641</td>\n",
       "      <td>31.255133</td>\n",
       "      <td>14.779691</td>\n",
       "      <td>1.353846</td>\n",
       "      <td>7</td>\n",
       "      <td>4</td>\n",
       "      <td>3</td>\n",
       "      <td>2</td>\n",
       "      <td>150</td>\n",
       "      <td>0.002651</td>\n",
       "      <td>0.001515</td>\n",
       "      <td>0.001136</td>\n",
       "      <td>0.000757</td>\n",
       "      <td>0.056797</td>\n",
       "    </tr>\n",
       "    <tr>\n",
       "      <th>447</th>\n",
       "      <td>AM00428</td>\n",
       "      <td>3133</td>\n",
       "      <td>52.021796</td>\n",
       "      <td>22.626204</td>\n",
       "      <td>1.629536</td>\n",
       "      <td>0</td>\n",
       "      <td>2</td>\n",
       "      <td>4</td>\n",
       "      <td>7</td>\n",
       "      <td>80</td>\n",
       "      <td>0.000000</td>\n",
       "      <td>0.000638</td>\n",
       "      <td>0.001277</td>\n",
       "      <td>0.002234</td>\n",
       "      <td>0.025535</td>\n",
       "    </tr>\n",
       "  </tbody>\n",
       "</table>\n",
       "<p>448 rows × 15 columns</p>\n",
       "</div>"
      ],
      "text/plain": [
       "        车辆编码  mileage  avg_speed   sd_speed  sd_speed_diff  speed_plus  \\\n",
       "0    AA00001     6513  62.798773  27.034993       1.565298          10   \n",
       "1    AA00002      749  61.284090  29.138408       1.553532           1   \n",
       "2    AA00004      597  52.885290  24.535798       2.051689           6   \n",
       "3    AA00036      304  49.517004  27.077887       0.998427           6   \n",
       "4    AA00045      222  49.330394  22.219954       2.109688           1   \n",
       "..       ...      ...        ...        ...            ...         ...   \n",
       "443  AM00282     2949  49.368028  25.297480       2.061533           2   \n",
       "444  AM00337      140  46.362071  16.694683       1.622326           0   \n",
       "445  AM00343     3283  34.252810  17.276927       1.603206           2   \n",
       "446  AM00394     2641  31.255133  14.779691       1.353846           7   \n",
       "447  AM00428     3133  52.021796  22.626204       1.629536           0   \n",
       "\n",
       "     speed_minus  tired  slip  dscs  plus_rate  minus_rate  tired_rate  \\\n",
       "0             11     15    71   301   0.001535    0.001689    0.002303   \n",
       "1              4      5    11   128   0.001335    0.005340    0.006676   \n",
       "2              5      5    14   114   0.010050    0.008375    0.008375   \n",
       "3              4      4     4    80   0.019737    0.013158    0.013158   \n",
       "4              3      2     3    53   0.004505    0.013514    0.009009   \n",
       "..           ...    ...   ...   ...        ...         ...         ...   \n",
       "443           10      3    10    59   0.000678    0.003391    0.001017   \n",
       "444            0      0     8    31   0.000000    0.000000    0.000000   \n",
       "445            0      6     1    31   0.000609    0.000000    0.001828   \n",
       "446            4      3     2   150   0.002651    0.001515    0.001136   \n",
       "447            2      4     7    80   0.000000    0.000638    0.001277   \n",
       "\n",
       "     slip_rate  dscs_rate  \n",
       "0     0.010901   0.046215  \n",
       "1     0.014686   0.170895  \n",
       "2     0.023451   0.190955  \n",
       "3     0.013158   0.263158  \n",
       "4     0.013514   0.238739  \n",
       "..         ...        ...  \n",
       "443   0.003391   0.020007  \n",
       "444   0.057143   0.221429  \n",
       "445   0.000305   0.009443  \n",
       "446   0.000757   0.056797  \n",
       "447   0.002234   0.025535  \n",
       "\n",
       "[448 rows x 15 columns]"
      ]
     },
     "execution_count": 50,
     "metadata": {},
     "output_type": "execute_result"
    }
   ],
   "source": [
    "\n",
    "#获取驾驶行为数据\n",
    "data=pd.read_csv('data.csv',encoding='gbk')\n",
    "data"
   ]
  },
  {
   "cell_type": "code",
   "execution_count": 51,
   "metadata": {},
   "outputs": [
    {
     "name": "stdout",
     "output_type": "stream",
     "text": [
      "            mileage   avg_speed    sd_speed  sd_speed_diff    speed_plus  \\\n",
      "count    448.000000  448.000000  448.000000     448.000000    448.000000   \n",
      "mean    2503.872768   48.877510   19.004390       2.150201     31.029018   \n",
      "std     4230.583008   12.190811    5.256093       1.025877    507.571378   \n",
      "min    -1408.000000   15.209877    6.413173       0.434395      0.000000   \n",
      "25%      851.500000   40.336920   15.080660       1.851871      1.000000   \n",
      "50%     1571.000000   47.423362   17.372950       2.056110      3.000000   \n",
      "75%     2736.750000   56.781007   23.722439       2.316791      6.000000   \n",
      "max    65282.000000   86.149386   29.935841      19.927905  10683.000000   \n",
      "\n",
      "        speed_minus       tired        slip        dscs   plus_rate  \\\n",
      "count    448.000000  448.000000  448.000000  448.000000  448.000000   \n",
      "mean      35.843750    5.488839   17.357143  134.732143    0.029945   \n",
      "std      508.251952    3.424463   19.937871   76.479470    0.520108   \n",
      "min        0.000000    0.000000    0.000000    3.000000   -0.002131   \n",
      "25%        3.000000    3.000000    5.000000   81.500000    0.000601   \n",
      "50%        6.500000    5.000000   13.000000  124.500000    0.001642   \n",
      "75%       12.000000    7.000000   25.000000  175.000000    0.004907   \n",
      "max    10700.000000   20.000000  277.000000  479.000000   11.002060   \n",
      "\n",
      "       minus_rate  tired_rate   slip_rate   dscs_rate  \n",
      "count  448.000000  448.000000  448.000000  448.000000  \n",
      "mean     0.034657    0.007136    0.023302    0.143694  \n",
      "std      0.520839    0.047314    0.107524    0.378984  \n",
      "min     -0.001420   -0.004972   -0.003551   -0.083097  \n",
      "25%      0.001254    0.001342    0.001963    0.034687  \n",
      "50%      0.003361    0.002947    0.007466    0.074573  \n",
      "75%      0.011444    0.007608    0.024723    0.196770  \n",
      "max     11.019567    1.000000    2.000000    7.176471  \n"
     ]
    }
   ],
   "source": [
    "# 通过describe()来熟悉数据的相关统计量，包括数量、均值、最大、最小等\n",
    "print(data.describe())"
   ]
  },
  {
   "cell_type": "code",
   "execution_count": 52,
   "metadata": {},
   "outputs": [
    {
     "name": "stdout",
     "output_type": "stream",
     "text": [
      "<class 'pandas.core.frame.DataFrame'>\n",
      "RangeIndex: 448 entries, 0 to 447\n",
      "Data columns (total 15 columns):\n",
      " #   Column         Non-Null Count  Dtype  \n",
      "---  ------         --------------  -----  \n",
      " 0   车辆编码           448 non-null    object \n",
      " 1   mileage        448 non-null    int64  \n",
      " 2   avg_speed      448 non-null    float64\n",
      " 3   sd_speed       448 non-null    float64\n",
      " 4   sd_speed_diff  448 non-null    float64\n",
      " 5   speed_plus     448 non-null    int64  \n",
      " 6   speed_minus    448 non-null    int64  \n",
      " 7   tired          448 non-null    int64  \n",
      " 8   slip           448 non-null    int64  \n",
      " 9   dscs           448 non-null    int64  \n",
      " 10  plus_rate      448 non-null    float64\n",
      " 11  minus_rate     448 non-null    float64\n",
      " 12  tired_rate     448 non-null    float64\n",
      " 13  slip_rate      448 non-null    float64\n",
      " 14  dscs_rate      448 non-null    float64\n",
      "dtypes: float64(8), int64(6), object(1)\n",
      "memory usage: 52.6+ KB\n",
      "None\n"
     ]
    }
   ],
   "source": [
    " # 通过info()来熟悉数据类型\n",
    "print(data.info()) "
   ]
  },
  {
   "cell_type": "markdown",
   "metadata": {},
   "source": [
    "二、数据分布分析"
   ]
  },
  {
   "cell_type": "markdown",
   "metadata": {},
   "source": [
    "1、相关性分析"
   ]
  },
  {
   "cell_type": "code",
   "execution_count": 53,
   "metadata": {},
   "outputs": [
    {
     "data": {
      "image/png": "[encoded data removed]",
      "text/plain": [
       "<Figure size 504x504 with 2 Axes>"
      ]
     },
     "metadata": {
      "needs_background": "light"
     },
     "output_type": "display_data"
    }
   ],
   "source": [
    "correlation =data.corr()#皮尔逊相关系数\n",
    "f , ax = plt.subplots(figsize = (7, 7))\n",
    "plt.title('变量相关系数热力图', fontsize=14)\n",
    "plt.rcParams['font.sans-serif']=['SimHei']\n",
    "plt.rcParams['axes.unicode_minus'] = False\n",
    "import seaborn as sns  # 数据绘图包\n",
    "sns.heatmap(correlation,square=True, vmax=1)#vmax - 热力图颜色取值的最大值,默认会从数据集中推导\n",
    "plt.show()\n",
    "#plt.savefig('D:\\\\海玲\\\\图书编辑\\\\车辆驾驶行为安全分析\\\\初稿\\\\cor.jpg', dpi=1080)"
   ]
  },
  {
   "cell_type": "markdown",
   "metadata": {},
   "source": [
    "2、异常值检测"
   ]
  },
  {
   "cell_type": "code",
   "execution_count": 54,
   "metadata": {},
   "outputs": [
    {
     "data": {
      "text/html": [
       "<div>\n",
       "<style scoped>\n",
       "    .dataframe tbody tr th:only-of-type {\n",
       "        vertical-align: middle;\n",
       "    }\n",
       "\n",
       "    .dataframe tbody tr th {\n",
       "        vertical-align: top;\n",
       "    }\n",
       "\n",
       "    .dataframe thead th {\n",
       "        text-align: right;\n",
       "    }\n",
       "</style>\n",
       "<table border=\"1\" class=\"dataframe\">\n",
       "  <thead>\n",
       "    <tr style=\"text-align: right;\">\n",
       "      <th></th>\n",
       "      <th>mileage</th>\n",
       "      <th>avg_speed</th>\n",
       "      <th>sd_speed</th>\n",
       "      <th>sd_speed_diff</th>\n",
       "      <th>speed_plus</th>\n",
       "      <th>speed_minus</th>\n",
       "      <th>tired</th>\n",
       "      <th>slip</th>\n",
       "      <th>dscs</th>\n",
       "      <th>plus_rate</th>\n",
       "      <th>minus_rate</th>\n",
       "      <th>tired_rate</th>\n",
       "      <th>slip_rate</th>\n",
       "      <th>dscs_rate</th>\n",
       "    </tr>\n",
       "  </thead>\n",
       "  <tbody>\n",
       "    <tr>\n",
       "      <th>count</th>\n",
       "      <td>448.000000</td>\n",
       "      <td>448.000000</td>\n",
       "      <td>448.000000</td>\n",
       "      <td>448.000000</td>\n",
       "      <td>448.000000</td>\n",
       "      <td>448.000000</td>\n",
       "      <td>448.000000</td>\n",
       "      <td>448.000000</td>\n",
       "      <td>448.000000</td>\n",
       "      <td>448.000000</td>\n",
       "      <td>448.000000</td>\n",
       "      <td>448.000000</td>\n",
       "      <td>448.000000</td>\n",
       "      <td>448.000000</td>\n",
       "    </tr>\n",
       "    <tr>\n",
       "      <th>mean</th>\n",
       "      <td>2503.872768</td>\n",
       "      <td>48.877510</td>\n",
       "      <td>19.004390</td>\n",
       "      <td>2.150201</td>\n",
       "      <td>31.029018</td>\n",
       "      <td>35.843750</td>\n",
       "      <td>5.488839</td>\n",
       "      <td>17.357143</td>\n",
       "      <td>134.732143</td>\n",
       "      <td>0.029945</td>\n",
       "      <td>0.034657</td>\n",
       "      <td>0.007136</td>\n",
       "      <td>0.023302</td>\n",
       "      <td>0.143694</td>\n",
       "    </tr>\n",
       "    <tr>\n",
       "      <th>std</th>\n",
       "      <td>4230.583008</td>\n",
       "      <td>12.190811</td>\n",
       "      <td>5.256093</td>\n",
       "      <td>1.025877</td>\n",
       "      <td>507.571378</td>\n",
       "      <td>508.251952</td>\n",
       "      <td>3.424463</td>\n",
       "      <td>19.937871</td>\n",
       "      <td>76.479470</td>\n",
       "      <td>0.520108</td>\n",
       "      <td>0.520839</td>\n",
       "      <td>0.047314</td>\n",
       "      <td>0.107524</td>\n",
       "      <td>0.378984</td>\n",
       "    </tr>\n",
       "    <tr>\n",
       "      <th>min</th>\n",
       "      <td>-1408.000000</td>\n",
       "      <td>15.209877</td>\n",
       "      <td>6.413173</td>\n",
       "      <td>0.434395</td>\n",
       "      <td>0.000000</td>\n",
       "      <td>0.000000</td>\n",
       "      <td>0.000000</td>\n",
       "      <td>0.000000</td>\n",
       "      <td>3.000000</td>\n",
       "      <td>-0.002131</td>\n",
       "      <td>-0.001420</td>\n",
       "      <td>-0.004972</td>\n",
       "      <td>-0.003551</td>\n",
       "      <td>-0.083097</td>\n",
       "    </tr>\n",
       "    <tr>\n",
       "      <th>25%</th>\n",
       "      <td>851.500000</td>\n",
       "      <td>40.336920</td>\n",
       "      <td>15.080660</td>\n",
       "      <td>1.851871</td>\n",
       "      <td>1.000000</td>\n",
       "      <td>3.000000</td>\n",
       "      <td>3.000000</td>\n",
       "      <td>5.000000</td>\n",
       "      <td>81.500000</td>\n",
       "      <td>0.000601</td>\n",
       "      <td>0.001254</td>\n",
       "      <td>0.001342</td>\n",
       "      <td>0.001963</td>\n",
       "      <td>0.034687</td>\n",
       "    </tr>\n",
       "    <tr>\n",
       "      <th>50%</th>\n",
       "      <td>1571.000000</td>\n",
       "      <td>47.423362</td>\n",
       "      <td>17.372950</td>\n",
       "      <td>2.056110</td>\n",
       "      <td>3.000000</td>\n",
       "      <td>6.500000</td>\n",
       "      <td>5.000000</td>\n",
       "      <td>13.000000</td>\n",
       "      <td>124.500000</td>\n",
       "      <td>0.001642</td>\n",
       "      <td>0.003361</td>\n",
       "      <td>0.002947</td>\n",
       "      <td>0.007466</td>\n",
       "      <td>0.074573</td>\n",
       "    </tr>\n",
       "    <tr>\n",
       "      <th>75%</th>\n",
       "      <td>2736.750000</td>\n",
       "      <td>56.781007</td>\n",
       "      <td>23.722439</td>\n",
       "      <td>2.316791</td>\n",
       "      <td>6.000000</td>\n",
       "      <td>12.000000</td>\n",
       "      <td>7.000000</td>\n",
       "      <td>25.000000</td>\n",
       "      <td>175.000000</td>\n",
       "      <td>0.004907</td>\n",
       "      <td>0.011444</td>\n",
       "      <td>0.007608</td>\n",
       "      <td>0.024723</td>\n",
       "      <td>0.196770</td>\n",
       "    </tr>\n",
       "    <tr>\n",
       "      <th>max</th>\n",
       "      <td>65282.000000</td>\n",
       "      <td>86.149386</td>\n",
       "      <td>29.935841</td>\n",
       "      <td>19.927905</td>\n",
       "      <td>10683.000000</td>\n",
       "      <td>10700.000000</td>\n",
       "      <td>20.000000</td>\n",
       "      <td>277.000000</td>\n",
       "      <td>479.000000</td>\n",
       "      <td>11.002060</td>\n",
       "      <td>11.019567</td>\n",
       "      <td>1.000000</td>\n",
       "      <td>2.000000</td>\n",
       "      <td>7.176471</td>\n",
       "    </tr>\n",
       "  </tbody>\n",
       "</table>\n",
       "</div>"
      ],
      "text/plain": [
       "            mileage   avg_speed    sd_speed  sd_speed_diff    speed_plus  \\\n",
       "count    448.000000  448.000000  448.000000     448.000000    448.000000   \n",
       "mean    2503.872768   48.877510   19.004390       2.150201     31.029018   \n",
       "std     4230.583008   12.190811    5.256093       1.025877    507.571378   \n",
       "min    -1408.000000   15.209877    6.413173       0.434395      0.000000   \n",
       "25%      851.500000   40.336920   15.080660       1.851871      1.000000   \n",
       "50%     1571.000000   47.423362   17.372950       2.056110      3.000000   \n",
       "75%     2736.750000   56.781007   23.722439       2.316791      6.000000   \n",
       "max    65282.000000   86.149386   29.935841      19.927905  10683.000000   \n",
       "\n",
       "        speed_minus       tired        slip        dscs   plus_rate  \\\n",
       "count    448.000000  448.000000  448.000000  448.000000  448.000000   \n",
       "mean      35.843750    5.488839   17.357143  134.732143    0.029945   \n",
       "std      508.251952    3.424463   19.937871   76.479470    0.520108   \n",
       "min        0.000000    0.000000    0.000000    3.000000   -0.002131   \n",
       "25%        3.000000    3.000000    5.000000   81.500000    0.000601   \n",
       "50%        6.500000    5.000000   13.000000  124.500000    0.001642   \n",
       "75%       12.000000    7.000000   25.000000  175.000000    0.004907   \n",
       "max    10700.000000   20.000000  277.000000  479.000000   11.002060   \n",
       "\n",
       "       minus_rate  tired_rate   slip_rate   dscs_rate  \n",
       "count  448.000000  448.000000  448.000000  448.000000  \n",
       "mean     0.034657    0.007136    0.023302    0.143694  \n",
       "std      0.520839    0.047314    0.107524    0.378984  \n",
       "min     -0.001420   -0.004972   -0.003551   -0.083097  \n",
       "25%      0.001254    0.001342    0.001963    0.034687  \n",
       "50%      0.003361    0.002947    0.007466    0.074573  \n",
       "75%      0.011444    0.007608    0.024723    0.196770  \n",
       "max     11.019567    1.000000    2.000000    7.176471  "
      ]
     },
     "execution_count": 54,
     "metadata": {},
     "output_type": "execute_result"
    }
   ],
   "source": [
    "data.describe().iloc[:,:15]"
   ]
  },
  {
   "cell_type": "code",
   "execution_count": 56,
   "metadata": {},
   "outputs": [
    {
     "data": {
      "text/plain": [
       "93     7\n",
       "53     6\n",
       "184    6\n",
       "171    6\n",
       "150    6\n",
       "      ..\n",
       "205    1\n",
       "212    1\n",
       "218    1\n",
       "221    1\n",
       "3      1\n",
       "Name: dscs, Length: 210, dtype: int64"
      ]
     },
     "execution_count": 56,
     "metadata": {},
     "output_type": "execute_result"
    }
   ],
   "source": [
    "data['dscs'].value_counts()  # 查看dscs分布"
   ]
  },
  {
   "cell_type": "code",
   "execution_count": 57,
   "metadata": {},
   "outputs": [
    {
     "data": {
      "image/png": "[encoded data removed]",
      "text/plain": [
       "<Figure size 432x288 with 1 Axes>"
      ]
     },
     "metadata": {
      "needs_background": "light"
     },
     "output_type": "display_data"
    }
   ],
   "source": [
    "# dscs属性是有异常点的\n",
    "data.boxplot(['dscs'])\n",
    "plt.show()\n",
    "#plt.savefig('D:\\\\海玲\\\\图书编辑\\\\车辆驾驶行为安全分析\\\\初稿\\\\ dscs.jpg', dpi=1080)"
   ]
  },
  {
   "cell_type": "code",
   "execution_count": 59,
   "metadata": {},
   "outputs": [
    {
     "data": {
      "image/png": "[encoded data removed]",
      "text/plain": [
       "<Figure size 432x288 with 1 Axes>"
      ]
     },
     "metadata": {
      "needs_background": "light"
     },
     "output_type": "display_data"
    }
   ],
   "source": [
    "#过滤异常数据\n",
    "ddata = data[(data['dscs'] >= 0)&(data['dscs'] <= 60)]\n",
    "ddata.boxplot(['dscs'])\n",
    "plt.show()\n",
    "#plt.savefig('D:\\\\海玲\\\\图书编辑\\\\车辆驾驶行为安全分析\\\\初稿\\\\ dscs2.jpg')"
   ]
  },
  {
   "cell_type": "markdown",
   "metadata": {},
   "source": [
    "3、数据标准化"
   ]
  },
  {
   "cell_type": "code",
   "execution_count": 60,
   "metadata": {},
   "outputs": [
    {
     "name": "stdout",
     "output_type": "stream",
     "text": [
      "     avg_speed  sd_speed  sd_speed_diff  speed_plus  speed_minus     tired  \\\n",
      "0     1.141947  1.527866      -0.570150   -0.041431    -0.048881  2.777417   \n",
      "1     1.017699  1.928052      -0.581619   -0.059162    -0.062653 -0.142749   \n",
      "2     0.328754  1.052380      -0.096027   -0.049311    -0.060686 -0.142749   \n",
      "3     0.052457  1.536027      -1.122721   -0.049311    -0.062653 -0.434766   \n",
      "4     0.037150  0.611779      -0.039491   -0.059162    -0.064621 -1.018799   \n",
      "..         ...       ...            ...         ...          ...       ...   \n",
      "443   0.040237  1.197294      -0.086432   -0.057192    -0.050848 -0.726782   \n",
      "444  -0.206339 -0.439434      -0.514560   -0.061132    -0.070524 -1.602832   \n",
      "445  -1.199650 -0.328659      -0.533197   -0.057192    -0.070524  0.149267   \n",
      "446  -1.445546 -0.803772      -0.776268   -0.047341    -0.062653 -0.726782   \n",
      "447   0.257923  0.689070      -0.507532   -0.061132    -0.066589 -0.434766   \n",
      "\n",
      "         slip      dscs  plus_rate  minus_rate  tired_rate  slip_rate  \\\n",
      "0    2.690501  2.174019  -0.054623   -0.063299   -0.102148  -0.115328   \n",
      "1   -0.318848 -0.088025  -0.055008   -0.056288   -0.009733  -0.080126   \n",
      "2   -0.168380 -0.271081  -0.038251   -0.050461    0.026190   0.001384   \n",
      "3   -0.669938 -0.715645  -0.019627   -0.041278    0.127275  -0.094341   \n",
      "4   -0.720094 -1.068681  -0.048914   -0.040596    0.039586  -0.091033   \n",
      "..        ...       ...        ...         ...         ...        ...   \n",
      "443 -0.369003 -0.990228  -0.056271   -0.060031   -0.129323  -0.185176   \n",
      "444 -0.469315 -1.356340  -0.057575   -0.066541   -0.150824   0.314731   \n",
      "445 -0.820406 -1.356340  -0.056404   -0.066541   -0.112197  -0.213880   \n",
      "446 -0.770250  0.199633  -0.052479   -0.063633   -0.126816  -0.209670   \n",
      "447 -0.519471 -0.715645  -0.057575   -0.065316   -0.123840  -0.195933   \n",
      "\n",
      "     dscs_rate  \n",
      "0    -0.257210  \n",
      "1     0.071773  \n",
      "2     0.124705  \n",
      "3     0.315222  \n",
      "4     0.250789  \n",
      "..         ...  \n",
      "443  -0.326364  \n",
      "444   0.205114  \n",
      "445  -0.354239  \n",
      "446  -0.229289  \n",
      "447  -0.311778  \n",
      "\n",
      "[448 rows x 13 columns]\n"
     ]
    }
   ],
   "source": [
    "#Z-score标准化\n",
    "td=data.iloc[:,2:]\n",
    "td_z=(td-td.mean())/(td.std())\n",
    "print(td_z)"
   ]
  },
  {
   "cell_type": "markdown",
   "metadata": {},
   "source": [
    "三、驾驶行为聚类分析"
   ]
  },
  {
   "cell_type": "markdown",
   "metadata": {},
   "source": [
    "1.K-means聚类"
   ]
  },
  {
   "cell_type": "code",
   "execution_count": 61,
   "metadata": {},
   "outputs": [],
   "source": [
    "from sklearn.cluster import KMeans\n",
    "from numpy import unique\n",
    "from numpy import where\n",
    "from sklearn.datasets import make_classification\n",
    "from sklearn.cluster import KMeans\n",
    "from sklearn.preprocessing import StandardScaler"
   ]
  },
  {
   "cell_type": "code",
   "execution_count": 62,
   "metadata": {},
   "outputs": [
    {
     "data": {
      "text/plain": [
       "KMeans(n_clusters=3)"
      ]
     },
     "execution_count": 62,
     "metadata": {},
     "output_type": "execute_result"
    }
   ],
   "source": [
    "model = KMeans(n_clusters=3)\n",
    "model.fit(td_z)"
   ]
  },
  {
   "cell_type": "code",
   "execution_count": 63,
   "metadata": {},
   "outputs": [
    {
     "data": {
      "text/plain": [
       "array([1, 0, 0, 0, 0, 1, 0, 0, 1, 0, 1, 1, 0, 0, 0, 0, 1, 1, 0, 1, 0, 0,\n",
       "       0, 0, 0, 0, 0, 0, 0, 0, 0, 0, 0, 0, 0, 0, 0, 0, 1, 0, 0, 0, 0, 0,\n",
       "       0, 0, 0, 0, 0, 0, 0, 0, 0, 0, 0, 0, 0, 0, 0, 0, 0, 0, 0, 1, 0, 0,\n",
       "       0, 0, 1, 1, 1, 0, 1, 0, 0, 0, 0, 0, 0, 1, 0, 0, 0, 0, 0, 0, 0, 0,\n",
       "       0, 0, 0, 0, 0, 0, 0, 0, 0, 0, 0, 0, 0, 0, 0, 0, 0, 0, 0, 0, 0, 0,\n",
       "       0, 0, 0, 0, 0, 0, 1, 1, 0, 0, 1, 0, 1, 1, 1, 1, 0, 1, 0, 0, 1, 0,\n",
       "       0, 1, 1, 1, 1, 1, 1, 0, 1, 1, 1, 0, 1, 0, 1, 1, 1, 1, 1, 1, 1, 1,\n",
       "       1, 0, 0, 1, 1, 0, 1, 0, 1, 0, 0, 1, 1, 1, 0, 1, 1, 0, 1, 1, 0, 0,\n",
       "       1, 1, 1, 0, 1, 1, 1, 1, 0, 1, 1, 1, 1, 1, 1, 1, 1, 1, 1, 1, 1, 1,\n",
       "       1, 0, 1, 1, 1, 1, 1, 1, 1, 0, 0, 1, 1, 1, 0, 1, 0, 0, 0, 0, 0, 0,\n",
       "       0, 0, 0, 0, 0, 0, 0, 0, 0, 0, 0, 0, 0, 0, 0, 1, 0, 0, 1, 0, 1, 0,\n",
       "       0, 1, 0, 0, 1, 0, 0, 0, 1, 0, 0, 0, 0, 0, 0, 0, 0, 0, 0, 0, 0, 0,\n",
       "       0, 0, 1, 0, 0, 0, 0, 0, 1, 0, 0, 0, 1, 0, 0, 0, 0, 1, 0, 0, 0, 0,\n",
       "       0, 0, 0, 0, 1, 0, 0, 0, 1, 0, 0, 0, 0, 0, 1, 0, 0, 1, 0, 0, 0, 0,\n",
       "       0, 0, 0, 0, 0, 0, 0, 0, 1, 0, 0, 1, 1, 0, 1, 0, 1, 1, 0, 1, 1, 0,\n",
       "       0, 1, 0, 1, 0, 1, 1, 0, 1, 0, 1, 1, 1, 0, 1, 1, 0, 1, 1, 1, 0, 1,\n",
       "       0, 1, 0, 1, 0, 1, 1, 1, 0, 0, 0, 0, 0, 0, 0, 0, 0, 0, 0, 0, 0, 0,\n",
       "       0, 0, 0, 0, 0, 0, 0, 0, 0, 0, 0, 0, 0, 0, 0, 0, 1, 2, 0, 0, 0, 0,\n",
       "       0, 1, 1, 0, 0, 0, 0, 0, 0, 0, 1, 0, 1, 0, 0, 0, 0, 0, 0, 0, 0, 0,\n",
       "       0, 0, 0, 1, 0, 0, 0, 0, 0, 0, 0, 0, 0, 0, 0, 0, 0, 0, 0, 0, 0, 0,\n",
       "       0, 0, 0, 0, 0, 0, 0, 0])"
      ]
     },
     "execution_count": 63,
     "metadata": {},
     "output_type": "execute_result"
    }
   ],
   "source": [
    "yhat = model.predict(td_z)\n",
    "yhat"
   ]
  },
  {
   "cell_type": "code",
   "execution_count": 66,
   "metadata": {},
   "outputs": [],
   "source": [
    "data.columns\n",
    "X_no = data[['plus_rate','speed_minus','minus_rate','avg_speed','sd_speed', 'sd_speed_diff','tired','slip','dscs','slip_rate', 'dscs_rate','tired_rate',\n",
    "      'plus_rate','minus_rate'\n",
    "     ]].values"
   ]
  },
  {
   "cell_type": "code",
   "execution_count": 67,
   "metadata": {},
   "outputs": [
    {
     "data": {
      "text/plain": [
       "array([[-0.0546839 , -0.04893542, -0.06336942, ..., -0.10226173,\n",
       "        -0.0546839 , -0.06336942],\n",
       "       [-0.0550694 , -0.06272352, -0.05635073, ..., -0.00974372,\n",
       "        -0.0550694 , -0.05635073],\n",
       "       [-0.03829426, -0.06075379, -0.05051754, ...,  0.02621927,\n",
       "        -0.03829426, -0.05051754],\n",
       "       ...,\n",
       "       [-0.05646666, -0.07060243, -0.06661575, ..., -0.11232268,\n",
       "        -0.05646666, -0.06661575],\n",
       "       [-0.05253748, -0.06272352, -0.06370454, ..., -0.1269577 ,\n",
       "        -0.05253748, -0.06370454],\n",
       "       [-0.05763926, -0.06666297, -0.06538873, ..., -0.12397852,\n",
       "        -0.05763926, -0.06538873]])"
      ]
     },
     "execution_count": 67,
     "metadata": {},
     "output_type": "execute_result"
    }
   ],
   "source": [
    "X=StandardScaler().fit_transform(X_no)#拟合标准化\n",
    "X"
   ]
  },
  {
   "cell_type": "code",
   "execution_count": 68,
   "metadata": {},
   "outputs": [],
   "source": [
    "params_={'eps':0.01,'n_clusters':3,\"n_neighbors\":10,\"min_samples\":4}\n",
    "X=StandardScaler().fit_transform(X_no)\n",
    "y_pre_com=[]\n",
    "\n",
    "#K值中心聚类\n",
    "connectivity = kneighbors_graph(X,n_neighbors = params_[\"n_neighbors\"])\n",
    "connectivity = 0.5 * (connectivity + connectivity.T)\n",
    "kmeans = cluster.KMeans(n_clusters = params_[\"n_clusters\"])\n",
    "dbscan = cluster.DBSCAN(eps=params_['eps'],min_samples = params_[\"min_samples\"])\n",
    "\n",
    "#层次聚类\n",
    "average_linkage = cluster.AgglomerativeClustering(linkage = \"average\",\n",
    "                                                 affinity = \"euclidean\",\n",
    "                                                 n_clusters = params_['n_clusters'],\n",
    "                                                  connectivity = connectivity)\n",
    "\n",
    "complete_linkage = cluster.AgglomerativeClustering(linkage = \"complete\",\n",
    "                                                  affinity =\"euclidean\",\n",
    "                                                  n_clusters = params_['n_clusters'],\n",
    "                                                  connectivity = connectivity)\n",
    "\n",
    "#混合高斯模型\n",
    "gmm = mixture.GaussianMixture(n_components = params_['n_clusters'])\n",
    "#谱聚类\n",
    "spectral = cluster.SpectralClustering(n_clusters = params_['n_clusters'],affinity = \"nearest_neighbors\")\n",
    "\n",
    "clustering_algorithms = (\n",
    "    ('Kmeans',kmeans),\n",
    "    ('DBSCAN',dbscan),\n",
    "    ('Average linkage agglomerative clustering',average_linkage),\n",
    "    ('Complete linkage agglomerative clustering',complete_linkage),\n",
    "    ('Spectral clustering',spectral),\n",
    "    ('GanssianMixture',gmm)\n",
    "    )\n",
    "for i, (alg_name,algorithm) in enumerate(clustering_algorithms):\n",
    "    t0 = time.time()\n",
    "    with warnings.catch_warnings():\n",
    "        warnings.simplefilter(\"ignore\")\n",
    "        algorithm.fit(X)\n",
    "        t1= time.time()\n",
    "        if hasattr(algorithm, 'labels_'):\n",
    "            y_pred = algorithm.labels_.astype(np.int)\n",
    "        else:\n",
    "            y_pred = algorithm.predict(X)\n",
    "        y_pre_com.append(y_pred)\n",
    "y_pre_com_spectral=y_pre_com[0].tolist()\n",
    "data['labels']=y_pre_com[0].tolist()\n",
    "colors = ['blue','orange','green']"
   ]
  },
  {
   "cell_type": "code",
   "execution_count": 69,
   "metadata": {},
   "outputs": [
    {
     "data": {
      "image/png": "[encoded data removed]",
      "text/plain": [
       "<Figure size 432x288 with 1 Axes>"
      ]
     },
     "metadata": {
      "needs_background": "light"
     },
     "output_type": "display_data"
    },
    {
     "data": {
      "text/plain": [
       "<Figure size 432x288 with 0 Axes>"
      ]
     },
     "metadata": {},
     "output_type": "display_data"
    }
   ],
   "source": [
    "data['labels']=y_pre_com[0].tolist()\n",
    "c0= data.loc[data['labels'] == 0]\n",
    "c1=data.loc[data['labels'] == 1]\n",
    "c2= data.loc[data['labels'] == 2]\n",
    "\n",
    "plt.scatter(c0['sd_speed'], c0['avg_speed'], c=colors[0], marker='o', label='簇1')  \n",
    "plt.scatter(c1['sd_speed'], c1['avg_speed'], c=colors[1], marker='o', label='簇2')  \n",
    "plt.scatter(c2['sd_speed'], c2['avg_speed'], c=colors[2], marker='o', label='簇3')  \n",
    "plt.xlabel('sd_speed')  \n",
    "plt.ylabel('avg_speed')  \n",
    "plt.legend(loc=2)  \n",
    "plt.title('k-means聚类')\n",
    "plt.show()\n",
    "plt.savefig('D:\\\\海玲\\\\图书编辑\\\\车辆驾驶行为安全分析\\\\初稿\\\\k-means.jpg')"
   ]
  },
  {
   "cell_type": "code",
   "execution_count": 70,
   "metadata": {},
   "outputs": [
    {
     "data": {
      "text/plain": [
       "136"
      ]
     },
     "execution_count": 70,
     "metadata": {},
     "output_type": "execute_result"
    }
   ],
   "source": [
    "c0['labels'].count()"
   ]
  },
  {
   "cell_type": "code",
   "execution_count": 71,
   "metadata": {},
   "outputs": [
    {
     "data": {
      "text/plain": [
       "311"
      ]
     },
     "execution_count": 71,
     "metadata": {},
     "output_type": "execute_result"
    }
   ],
   "source": [
    "c1['labels'].count()"
   ]
  },
  {
   "cell_type": "code",
   "execution_count": 72,
   "metadata": {
    "scrolled": true
   },
   "outputs": [
    {
     "data": {
      "text/plain": [
       "1"
      ]
     },
     "execution_count": 72,
     "metadata": {},
     "output_type": "execute_result"
    }
   ],
   "source": [
    "c2['labels'].count()"
   ]
  },
  {
   "cell_type": "markdown",
   "metadata": {},
   "source": [
    "2.层次聚类"
   ]
  },
  {
   "cell_type": "code",
   "execution_count": 73,
   "metadata": {},
   "outputs": [
    {
     "data": {
      "image/png": "[encoded data removed]",
      "text/plain": [
       "<Figure size 432x288 with 1 Axes>"
      ]
     },
     "metadata": {
      "needs_background": "light"
     },
     "output_type": "display_data"
    },
    {
     "data": {
      "text/plain": [
       "<Figure size 432x288 with 0 Axes>"
      ]
     },
     "metadata": {},
     "output_type": "display_data"
    }
   ],
   "source": [
    "data['labels']=y_pre_com[2].tolist()\n",
    "c0= data.loc[data['labels'] == 0]\n",
    "c1= data.loc[data['labels'] == 1]\n",
    "c2= data.loc[data['labels'] == 2]\n",
    "\n",
    "plt.scatter(c0['sd_speed'], c0['avg_speed'], c=colors[0], marker='o', label='簇1')  \n",
    "plt.scatter(c1['sd_speed'], c1['avg_speed'], c=colors[1], marker='o', label='簇2')  \n",
    "plt.scatter(c2['sd_speed'], c2['avg_speed'], c=colors[2], marker='o', label='簇3')  \n",
    "plt.xlabel('sd_speed')  \n",
    "plt.ylabel('avg_speed')  \n",
    "plt.legend(loc=2)  \n",
    "plt.title('层次聚类')\n",
    "plt.show()\n",
    "plt.savefig('D:\\\\海玲\\\\图书编辑\\\\车辆驾驶行为安全分析\\\\初稿\\\\层次聚类.jpg')"
   ]
  },
  {
   "cell_type": "code",
   "execution_count": 74,
   "metadata": {},
   "outputs": [
    {
     "data": {
      "text/plain": [
       "446"
      ]
     },
     "execution_count": 74,
     "metadata": {},
     "output_type": "execute_result"
    }
   ],
   "source": [
    "c0['labels'].count()"
   ]
  },
  {
   "cell_type": "code",
   "execution_count": 75,
   "metadata": {},
   "outputs": [
    {
     "data": {
      "text/plain": [
       "1"
      ]
     },
     "execution_count": 75,
     "metadata": {},
     "output_type": "execute_result"
    }
   ],
   "source": [
    "c1['labels'].count()"
   ]
  },
  {
   "cell_type": "code",
   "execution_count": 76,
   "metadata": {},
   "outputs": [
    {
     "data": {
      "text/plain": [
       "1"
      ]
     },
     "execution_count": 76,
     "metadata": {},
     "output_type": "execute_result"
    }
   ],
   "source": [
    "c2['labels'].count()"
   ]
  },
  {
   "cell_type": "markdown",
   "metadata": {},
   "source": [
    "3.高斯聚类"
   ]
  },
  {
   "cell_type": "code",
   "execution_count": 77,
   "metadata": {},
   "outputs": [
    {
     "data": {
      "image/png": "[encoded data removed]",
      "text/plain": [
       "<Figure size 432x288 with 1 Axes>"
      ]
     },
     "metadata": {
      "needs_background": "light"
     },
     "output_type": "display_data"
    },
    {
     "data": {
      "text/plain": [
       "<Figure size 432x288 with 0 Axes>"
      ]
     },
     "metadata": {},
     "output_type": "display_data"
    }
   ],
   "source": [
    "data['labels']=y_pre_com[5].tolist()\n",
    "c0= data.loc[data['labels'] == 0]\n",
    "c1= data.loc[data['labels'] == 1]\n",
    "c2= data.loc[data['labels'] == 2]\n",
    "\n",
    "plt.scatter(c0['sd_speed'], c0['avg_speed'], c=colors[0], marker='o', label='簇1')  \n",
    "plt.scatter(c1['sd_speed'], c1['avg_speed'], c=colors[1], marker='o', label='簇2')  \n",
    "plt.scatter(c2['sd_speed'], c2['avg_speed'], c=colors[2], marker='o', label='簇3')  \n",
    "plt.xlabel('sd_speed')  \n",
    "plt.ylabel('avg_speed')  \n",
    "plt.legend(loc=2)  \n",
    "plt.title('高斯混合模型聚类')\n",
    "plt.show()\n",
    "plt.savefig('D:\\\\海玲\\\\图书编辑\\\\车辆驾驶行为安全分析\\\\初稿\\\\高斯混合聚类.jpg')"
   ]
  },
  {
   "cell_type": "code",
   "execution_count": 78,
   "metadata": {},
   "outputs": [
    {
     "data": {
      "text/plain": [
       "119"
      ]
     },
     "execution_count": 78,
     "metadata": {},
     "output_type": "execute_result"
    }
   ],
   "source": [
    "c0['labels'].count()"
   ]
  },
  {
   "cell_type": "code",
   "execution_count": 79,
   "metadata": {},
   "outputs": [
    {
     "data": {
      "text/plain": [
       "328"
      ]
     },
     "execution_count": 79,
     "metadata": {},
     "output_type": "execute_result"
    }
   ],
   "source": [
    "c1['labels'].count()"
   ]
  },
  {
   "cell_type": "code",
   "execution_count": 80,
   "metadata": {},
   "outputs": [
    {
     "data": {
      "text/plain": [
       "1"
      ]
     },
     "execution_count": 80,
     "metadata": {},
     "output_type": "execute_result"
    }
   ],
   "source": [
    "c2['labels'].count()"
   ]
  },
  {
   "cell_type": "markdown",
   "metadata": {},
   "source": [
    "4.密度聚类"
   ]
  },
  {
   "cell_type": "code",
   "execution_count": 81,
   "metadata": {},
   "outputs": [
    {
     "data": {
      "image/png": "[encoded data removed]",
      "text/plain": [
       "<Figure size 432x288 with 1 Axes>"
      ]
     },
     "metadata": {
      "needs_background": "light"
     },
     "output_type": "display_data"
    },
    {
     "data": {
      "text/plain": [
       "<Figure size 432x288 with 0 Axes>"
      ]
     },
     "metadata": {},
     "output_type": "display_data"
    }
   ],
   "source": [
    "data['labels']=y_pre_com[1].tolist()\n",
    "c0= data.loc[data['labels'] == 0]\n",
    "c1= data.loc[data['labels'] == 1]\n",
    "c2= data.loc[data['labels'] == 2]\n",
    "\n",
    "plt.scatter(c0['sd_speed'], c0['avg_speed'], c=colors[0], marker='o', label='簇1')  \n",
    "plt.scatter(c1['sd_speed'], c1['avg_speed'], c=colors[1], marker='o', label='簇2')  \n",
    "plt.scatter(c2['sd_speed'], c2['avg_speed'], c=colors[2], marker='o', label='簇3')  \n",
    "plt.xlabel('sd_speed')  \n",
    "plt.ylabel('avg_speed')  \n",
    "plt.legend(loc=2)  \n",
    "plt.title('密度聚类')\n",
    "plt.show()\n",
    "plt.savefig('D:\\\\海玲\\\\图书编辑\\\\车辆驾驶行为安全分析\\\\初稿\\\\密度聚类.jpg')"
   ]
  },
  {
   "cell_type": "markdown",
   "metadata": {},
   "source": [
    "5.谱聚类"
   ]
  },
  {
   "cell_type": "code",
   "execution_count": 82,
   "metadata": {},
   "outputs": [
    {
     "data": {
      "image/png": "[encoded data removed]",
      "text/plain": [
       "<Figure size 432x288 with 1 Axes>"
      ]
     },
     "metadata": {
      "needs_background": "light"
     },
     "output_type": "display_data"
    },
    {
     "data": {
      "text/plain": [
       "<Figure size 432x288 with 0 Axes>"
      ]
     },
     "metadata": {},
     "output_type": "display_data"
    }
   ],
   "source": [
    "data['labels']=y_pre_com[4].tolist()\n",
    "c0= data.loc[data['labels'] == 0]\n",
    "c1= data.loc[data['labels'] == 1]\n",
    "c2= data.loc[data['labels'] == 2]\n",
    "\n",
    "plt.scatter(c0['sd_speed'], c0['avg_speed'], c=colors[0], marker='o', label='簇1')  \n",
    "plt.scatter(c1['sd_speed'], c1['avg_speed'], c=colors[1], marker='o', label='簇2')  \n",
    "plt.scatter(c2['sd_speed'], c2['avg_speed'], c=colors[2], marker='o', label='簇3')  \n",
    "plt.xlabel('sd_speed')  \n",
    "plt.ylabel('avg_speed')  \n",
    "plt.legend(loc=2)  \n",
    "plt.title('谱聚类')\n",
    "plt.show()\n",
    "plt.savefig('D:\\\\海玲\\\\图书编辑\\\\车辆驾驶行为安全分析\\\\初稿\\\\谱聚类.jpg')"
   ]
  },
  {
   "cell_type": "code",
   "execution_count": 83,
   "metadata": {},
   "outputs": [
    {
     "data": {
      "text/plain": [
       "269"
      ]
     },
     "execution_count": 83,
     "metadata": {},
     "output_type": "execute_result"
    }
   ],
   "source": [
    "c0['labels'].count()"
   ]
  },
  {
   "cell_type": "code",
   "execution_count": 84,
   "metadata": {},
   "outputs": [
    {
     "data": {
      "text/plain": [
       "110"
      ]
     },
     "execution_count": 84,
     "metadata": {},
     "output_type": "execute_result"
    }
   ],
   "source": [
    "c1['labels'].count()"
   ]
  },
  {
   "cell_type": "code",
   "execution_count": 85,
   "metadata": {},
   "outputs": [
    {
     "data": {
      "text/plain": [
       "69"
      ]
     },
     "execution_count": 85,
     "metadata": {},
     "output_type": "execute_result"
    }
   ],
   "source": [
    "c2['labels'].count()"
   ]
  },
  {
   "cell_type": "markdown",
   "metadata": {},
   "source": [
    "至此，所有列表的聚类都已实现，但是效果很不好，故选取比率指标进行聚类分析"
   ]
  },
  {
   "cell_type": "code",
   "execution_count": 86,
   "metadata": {},
   "outputs": [],
   "source": [
    "X_no2 = data[['slip_rate', 'dscs_rate','tired_rate',\n",
    "      'plus_rate','minus_rate','sd_speed',\n",
    "          'sd_speed_diff']].values"
   ]
  },
  {
   "cell_type": "code",
   "execution_count": 87,
   "metadata": {},
   "outputs": [],
   "source": [
    "X2=StandardScaler().fit_transform(X_no2)#拟合标准化\n",
    "params_={'eps':0.01,'n_clusters':3,\"n_neighbors\":10,\"min_samples\":4}\n",
    "y_pre_com2=[]"
   ]
  },
  {
   "cell_type": "code",
   "execution_count": 88,
   "metadata": {},
   "outputs": [],
   "source": [
    "params_={'eps':0.01,'n_clusters':3,\"n_neighbors\":10,\"min_samples\":4}\n",
    "X2=StandardScaler().fit_transform(X_no2)\n",
    "y_pre_com2=[]\n",
    "\n",
    "#K值中心聚类\n",
    "connectivity = kneighbors_graph(X2,n_neighbors = params_[\"n_neighbors\"])\n",
    "connectivity = 0.5 * (connectivity + connectivity.T)\n",
    "kmeans = cluster.KMeans(n_clusters = params_[\"n_clusters\"])\n",
    "dbscan = cluster.DBSCAN(eps=params_['eps'],min_samples = params_[\"min_samples\"])\n",
    "\n",
    "#层次聚类\n",
    "average_linkage = cluster.AgglomerativeClustering(linkage = \"average\",\n",
    "                                                 affinity = \"euclidean\",\n",
    "                                                 n_clusters = params_['n_clusters'],\n",
    "                                                  connectivity = connectivity)\n",
    "\n",
    "complete_linkage = cluster.AgglomerativeClustering(linkage = \"complete\",\n",
    "                                                  affinity =\"euclidean\",\n",
    "                                                  n_clusters = params_['n_clusters'],\n",
    "                                                  connectivity = connectivity)\n",
    "\n",
    "#混合高斯模型\n",
    "gmm = mixture.GaussianMixture(n_components = params_['n_clusters'])\n",
    "#谱聚类\n",
    "spectral = cluster.SpectralClustering(n_clusters = params_['n_clusters'],affinity = \"nearest_neighbors\")\n",
    "\n",
    "clustering_algorithms = (\n",
    "    ('Kmeans',kmeans),\n",
    "    ('DBSCAN',dbscan),\n",
    "    ('Average linkage agglomerative clustering',average_linkage),\n",
    "    ('Complete linkage agglomerative clustering',complete_linkage),\n",
    "    ('Spectral clustering',spectral),\n",
    "    ('GanssianMixture',gmm)\n",
    "    )\n",
    "for i, (alg_name,algorithm) in enumerate(clustering_algorithms):\n",
    "    t0 = time.time()\n",
    "    with warnings.catch_warnings():\n",
    "        warnings.simplefilter(\"ignore\")\n",
    "        algorithm.fit(X2)\n",
    "        t1= time.time()\n",
    "        if hasattr(algorithm, 'labels_'):\n",
    "            y_pred = algorithm.labels_.astype(np.int)\n",
    "        else:\n",
    "            y_pred = algorithm.predict(X2)\n",
    "        y_pre_com2.append(y_pred)\n",
    "y_pre_com2_spectral=y_pre_com2[0].tolist()\n",
    "data['labels']=y_pre_com2[0].tolist()\n",
    "colors = ['blue','orange','green']"
   ]
  },
  {
   "cell_type": "markdown",
   "metadata": {},
   "source": [
    "k-means聚类"
   ]
  },
  {
   "cell_type": "code",
   "execution_count": 89,
   "metadata": {},
   "outputs": [
    {
     "data": {
      "image/png": "[encoded data removed]",
      "text/plain": [
       "<Figure size 432x288 with 1 Axes>"
      ]
     },
     "metadata": {
      "needs_background": "light"
     },
     "output_type": "display_data"
    },
    {
     "data": {
      "text/plain": [
       "<Figure size 432x288 with 0 Axes>"
      ]
     },
     "metadata": {},
     "output_type": "display_data"
    }
   ],
   "source": [
    "data['labels']=y_pre_com2[0].tolist()\n",
    "c0= data.loc[data['labels'] == 0]\n",
    "c1=data.loc[data['labels'] == 1]\n",
    "c2= data.loc[data['labels'] == 2]\n",
    "\n",
    "plt.scatter(c0['sd_speed'], c0['avg_speed'], c=colors[0], marker='o', label='簇1')  \n",
    "plt.scatter(c1['sd_speed'], c1['avg_speed'], c=colors[1], marker='o', label='簇2')  \n",
    "plt.scatter(c2['sd_speed'], c2['avg_speed'], c=colors[2], marker='o', label='簇3')  \n",
    "plt.xlabel('sd_speed')  \n",
    "plt.ylabel('avg_speed')  \n",
    "plt.legend(loc=2)  \n",
    "plt.title('k-means聚类2')\n",
    "plt.show()\n",
    "plt.savefig('D:\\\\海玲\\\\图书编辑\\\\车辆驾驶行为安全分析\\\\初稿\\\\kmeans2.jpg')"
   ]
  },
  {
   "cell_type": "code",
   "execution_count": 90,
   "metadata": {},
   "outputs": [
    {
     "data": {
      "text/plain": [
       "446"
      ]
     },
     "execution_count": 90,
     "metadata": {},
     "output_type": "execute_result"
    }
   ],
   "source": [
    "c0['labels'].count()"
   ]
  },
  {
   "cell_type": "code",
   "execution_count": 91,
   "metadata": {},
   "outputs": [
    {
     "data": {
      "text/plain": [
       "1"
      ]
     },
     "execution_count": 91,
     "metadata": {},
     "output_type": "execute_result"
    }
   ],
   "source": [
    "c1['labels'].count()"
   ]
  },
  {
   "cell_type": "code",
   "execution_count": 92,
   "metadata": {},
   "outputs": [
    {
     "data": {
      "text/plain": [
       "1"
      ]
     },
     "execution_count": 92,
     "metadata": {},
     "output_type": "execute_result"
    }
   ],
   "source": [
    "c2['labels'].count()"
   ]
  },
  {
   "cell_type": "markdown",
   "metadata": {},
   "source": [
    "层次聚类"
   ]
  },
  {
   "cell_type": "code",
   "execution_count": 93,
   "metadata": {},
   "outputs": [
    {
     "data": {
      "image/png": "[encoded data removed]",
      "text/plain": [
       "<Figure size 432x288 with 1 Axes>"
      ]
     },
     "metadata": {
      "needs_background": "light"
     },
     "output_type": "display_data"
    },
    {
     "data": {
      "text/plain": [
       "<Figure size 432x288 with 0 Axes>"
      ]
     },
     "metadata": {},
     "output_type": "display_data"
    }
   ],
   "source": [
    "data['labels']=y_pre_com2[2].tolist()\n",
    "c0= data.loc[data['labels'] == 0]\n",
    "c1=data.loc[data['labels'] == 1]\n",
    "c2= data.loc[data['labels'] == 2]\n",
    "\n",
    "plt.scatter(c0['sd_speed'], c0['avg_speed'], c=colors[0], marker='o', label='簇1')  \n",
    "plt.scatter(c1['sd_speed'], c1['avg_speed'], c=colors[1], marker='o', label='簇2')  \n",
    "plt.scatter(c2['sd_speed'], c2['avg_speed'], c=colors[2], marker='o', label='簇3')  \n",
    "plt.xlabel('sd_speed')  \n",
    "plt.ylabel('avg_speed')  \n",
    "plt.legend(loc=2)  \n",
    "plt.title('层次聚类2')\n",
    "plt.show()\n",
    "plt.savefig('D:\\\\海玲\\\\图书编辑\\\\车辆驾驶行为安全分析\\\\初稿\\\\层次聚类2.jpg')"
   ]
  },
  {
   "cell_type": "code",
   "execution_count": 94,
   "metadata": {},
   "outputs": [
    {
     "data": {
      "text/plain": [
       "446"
      ]
     },
     "execution_count": 94,
     "metadata": {},
     "output_type": "execute_result"
    }
   ],
   "source": [
    "c0['labels'].count()"
   ]
  },
  {
   "cell_type": "code",
   "execution_count": 96,
   "metadata": {},
   "outputs": [
    {
     "data": {
      "text/plain": [
       "1"
      ]
     },
     "execution_count": 96,
     "metadata": {},
     "output_type": "execute_result"
    }
   ],
   "source": [
    "c1['labels'].count()"
   ]
  },
  {
   "cell_type": "code",
   "execution_count": 97,
   "metadata": {},
   "outputs": [
    {
     "data": {
      "text/plain": [
       "1"
      ]
     },
     "execution_count": 97,
     "metadata": {},
     "output_type": "execute_result"
    }
   ],
   "source": [
    "c2['labels'].count()"
   ]
  },
  {
   "cell_type": "markdown",
   "metadata": {},
   "source": [
    "高斯混合聚类"
   ]
  },
  {
   "cell_type": "code",
   "execution_count": 98,
   "metadata": {},
   "outputs": [
    {
     "data": {
      "image/png": "[encoded data removed]",
      "text/plain": [
       "<Figure size 432x288 with 1 Axes>"
      ]
     },
     "metadata": {
      "needs_background": "light"
     },
     "output_type": "display_data"
    },
    {
     "data": {
      "text/plain": [
       "<Figure size 432x288 with 0 Axes>"
      ]
     },
     "metadata": {},
     "output_type": "display_data"
    }
   ],
   "source": [
    "data['labels']=y_pre_com2[5].tolist()\n",
    "c0= data.loc[data['labels'] == 0]\n",
    "c1=data.loc[data['labels'] == 1]\n",
    "c2= data.loc[data['labels'] == 2]\n",
    "\n",
    "plt.scatter(c0['sd_speed'], c0['avg_speed'], c=colors[0], marker='o', label='簇1')  \n",
    "plt.scatter(c1['sd_speed'], c1['avg_speed'], c=colors[1], marker='o', label='簇2')  \n",
    "plt.scatter(c2['sd_speed'], c2['avg_speed'], c=colors[2], marker='o', label='簇3')  \n",
    "plt.xlabel('sd_speed')  \n",
    "plt.ylabel('avg_speed')  \n",
    "plt.legend(loc=2)  \n",
    "plt.title('高斯混合模型聚类2')\n",
    "plt.show()\n",
    "plt.savefig('D:\\\\海玲\\\\图书编辑\\\\车辆驾驶行为安全分析\\\\初稿\\\\高斯混合模型聚类2.jpg')"
   ]
  },
  {
   "cell_type": "code",
   "execution_count": 99,
   "metadata": {},
   "outputs": [
    {
     "data": {
      "text/plain": [
       "226"
      ]
     },
     "execution_count": 99,
     "metadata": {},
     "output_type": "execute_result"
    }
   ],
   "source": [
    "c0['labels'].count()"
   ]
  },
  {
   "cell_type": "code",
   "execution_count": 100,
   "metadata": {},
   "outputs": [
    {
     "data": {
      "text/plain": [
       "221"
      ]
     },
     "execution_count": 100,
     "metadata": {},
     "output_type": "execute_result"
    }
   ],
   "source": [
    "c1['labels'].count()"
   ]
  },
  {
   "cell_type": "code",
   "execution_count": 101,
   "metadata": {},
   "outputs": [
    {
     "data": {
      "text/plain": [
       "1"
      ]
     },
     "execution_count": 101,
     "metadata": {},
     "output_type": "execute_result"
    }
   ],
   "source": [
    "c2['labels'].count()"
   ]
  },
  {
   "cell_type": "markdown",
   "metadata": {},
   "source": [
    "谱聚类"
   ]
  },
  {
   "cell_type": "code",
   "execution_count": 102,
   "metadata": {},
   "outputs": [
    {
     "data": {
      "image/png": "[encoded data removed]",
      "text/plain": [
       "<Figure size 432x288 with 1 Axes>"
      ]
     },
     "metadata": {
      "needs_background": "light"
     },
     "output_type": "display_data"
    },
    {
     "data": {
      "text/plain": [
       "<Figure size 432x288 with 0 Axes>"
      ]
     },
     "metadata": {},
     "output_type": "display_data"
    }
   ],
   "source": [
    "data['labels']=y_pre_com2[4].tolist()\n",
    "c0= data.loc[data['labels'] == 0]\n",
    "c1=data.loc[data['labels'] == 1]\n",
    "c2= data.loc[data['labels'] == 2]\n",
    "\n",
    "plt.scatter(c0['sd_speed'], c0['avg_speed'], c=colors[0], marker='o', label='簇1')  \n",
    "plt.scatter(c1['sd_speed'], c1['avg_speed'], c=colors[1], marker='o', label='簇2')  \n",
    "plt.scatter(c2['sd_speed'], c2['avg_speed'], c=colors[2], marker='o', label='簇3')  \n",
    "plt.xlabel('sd_speed')  \n",
    "plt.ylabel('avg_speed')  \n",
    "plt.legend(loc=2)  \n",
    "plt.title('谱聚类2')\n",
    "plt.show()\n",
    "plt.savefig('D:\\\\海玲\\\\图书编辑\\\\车辆驾驶行为安全分析\\\\初稿\\\\谱聚类2.jpg')"
   ]
  },
  {
   "cell_type": "code",
   "execution_count": 103,
   "metadata": {},
   "outputs": [
    {
     "data": {
      "text/plain": [
       "99"
      ]
     },
     "execution_count": 103,
     "metadata": {},
     "output_type": "execute_result"
    }
   ],
   "source": [
    "c0['labels'].count()"
   ]
  },
  {
   "cell_type": "code",
   "execution_count": 104,
   "metadata": {},
   "outputs": [
    {
     "data": {
      "text/plain": [
       "168"
      ]
     },
     "execution_count": 104,
     "metadata": {},
     "output_type": "execute_result"
    }
   ],
   "source": [
    "c1['labels'].count()"
   ]
  },
  {
   "cell_type": "code",
   "execution_count": 105,
   "metadata": {},
   "outputs": [
    {
     "data": {
      "text/plain": [
       "181"
      ]
     },
     "execution_count": 105,
     "metadata": {},
     "output_type": "execute_result"
    }
   ],
   "source": [
    "c2['labels'].count()"
   ]
  },
  {
   "cell_type": "markdown",
   "metadata": {},
   "source": [
    "可以看到谱聚类的效果明显优于以上三个聚类，可以清晰地看出橙色的在坐标轴的右上方，说明的它的平均速度和标准差都很大，我们可以将其归类为激进型，而绿色和蓝色则混杂在一起，需要进一步进行分析"
   ]
  },
  {
   "cell_type": "markdown",
   "metadata": {},
   "source": [
    "既然已经分出了绿色是激进型，那么绿色和蓝色与疲惫相关的指标进行聚类分析"
   ]
  },
  {
   "cell_type": "code",
   "execution_count": 106,
   "metadata": {},
   "outputs": [
    {
     "data": {
      "text/plain": [
       "<AxesSubplot:>"
      ]
     },
     "execution_count": 106,
     "metadata": {},
     "output_type": "execute_result"
    },
    {
     "data": {
      "image/png": "[encoded data removed]",
      "text/plain": [
       "<Figure size 432x288 with 2 Axes>"
      ]
     },
     "metadata": {
      "needs_background": "light"
     },
     "output_type": "display_data"
    }
   ],
   "source": [
    "X3 = pd.DataFrame(data)\n",
    "X3.corr()\n",
    "sns.heatmap(X3.corr(), cmap='Blues', annot=True)"
   ]
  },
  {
   "cell_type": "markdown",
   "metadata": {},
   "source": [
    "由相关系数图得知，疲劳驾驶率和怠速率的相关性很强，其实可想而知，疲劳驾驶在很多情况下会怠速行驶，所以采用这两个指标进行聚类"
   ]
  },
  {
   "cell_type": "code",
   "execution_count": 109,
   "metadata": {},
   "outputs": [
    {
     "data": {
      "image/png": "[encoded data removed]",
      "text/plain": [
       "<Figure size 432x288 with 1 Axes>"
      ]
     },
     "metadata": {
      "needs_background": "light"
     },
     "output_type": "display_data"
    },
    {
     "data": {
      "text/plain": [
       "<Figure size 432x288 with 0 Axes>"
      ]
     },
     "metadata": {},
     "output_type": "display_data"
    }
   ],
   "source": [
    "data['labels']=y_pre_com[4].tolist()\n",
    "c0= data.loc[data['labels'] == 0]\n",
    "c1= data.loc[data['labels'] == 1]\n",
    "c2= data.loc[data['labels'] == 2]\n",
    "\n",
    "plt.scatter(c0['tired_rate'], c0['dscs_rate'], c=colors[0], marker='o', label='簇1')  \n",
    "plt.scatter(c1['tired_rate'], c1['dscs_rate'], c=colors[1], marker='o', label='簇2')  \n",
    "plt.scatter(c2['tired_rate'], c2['dscs_rate'], c=colors[2], marker='o', label='簇3')  \n",
    "plt.xlabel('tired_rate')  \n",
    "plt.ylabel('dscs_rate')  \n",
    "plt.legend(loc=2)  \n",
    "plt.title('tired_rate与dscs_rate')\n",
    "plt.show()\n",
    "plt.savefig('D:\\\\海玲\\\\图书编辑\\\\车辆驾驶行为安全分析\\\\初稿\\\\tired_dscs_rate.jpg')"
   ]
  },
  {
   "cell_type": "markdown",
   "metadata": {},
   "source": [
    "可以看出聚类效果几乎没有，经过思考观察我认为是因为这两个指标的数值都太小太过接近，加上噪声点的存在，导致散点图可观测的效果很差，暂时不处理噪声点，故将其中一个指标更换为一个数字更大的指标，而平均速度能很好看出驾驶行为的一些偏向"
   ]
  },
  {
   "cell_type": "code",
   "execution_count": 111,
   "metadata": {},
   "outputs": [
    {
     "data": {
      "image/png": "[encoded data removed]",
      "text/plain": [
       "<Figure size 432x288 with 1 Axes>"
      ]
     },
     "metadata": {
      "needs_background": "light"
     },
     "output_type": "display_data"
    },
    {
     "data": {
      "text/plain": [
       "<Figure size 432x288 with 0 Axes>"
      ]
     },
     "metadata": {},
     "output_type": "display_data"
    }
   ],
   "source": [
    "data['labels']=y_pre_com[4].tolist()\n",
    "c0= data.loc[data['labels'] == 0]\n",
    "c1= data.loc[data['labels'] == 1]\n",
    "c2= data.loc[data['labels'] == 2]\n",
    "\n",
    "plt.scatter( c0['avg_speed'],c0['tired_rate'], c=colors[0], marker='o', label='簇1')  \n",
    "plt.scatter( c1['avg_speed'],c1['tired_rate'], c=colors[1], marker='o', label='簇2')  \n",
    "plt.scatter(c2['avg_speed'],c2['tired_rate'], c=colors[2], marker='o', label='簇3')  \n",
    "plt.xlabel('tired_rate')  \n",
    "plt.ylabel('dscs_rate')  \n",
    "plt.legend(loc=2)  \n",
    "plt.title('tired_rate与avg_speed')\n",
    "plt.show()\n",
    "plt.savefig('D:\\\\海玲\\\\图书编辑\\\\车辆驾驶行为安全分析\\\\初稿\\\\tired_avg_speed.jpg')"
   ]
  },
  {
   "cell_type": "markdown",
   "metadata": {},
   "source": [
    "通过该聚类图，我们可以清晰看到绿色的平均速度较高，这也印证了我之前认为绿色是激进型的想法，但是粉色和黄色仍旧分离不出，可以细微看出黄色的点疲劳驾驶率略高于粉色，而造成这种图像效果不明显的原因还是由于噪声点，所以我决定再换指标，将疲劳驾驶率换为相关性很大的怠速率，同时怠速率的值也要大于疲劳驾驶率"
   ]
  },
  {
   "cell_type": "code",
   "execution_count": 112,
   "metadata": {},
   "outputs": [
    {
     "data": {
      "image/png": "[encoded data removed]",
      "text/plain": [
       "<Figure size 432x288 with 1 Axes>"
      ]
     },
     "metadata": {
      "needs_background": "light"
     },
     "output_type": "display_data"
    },
    {
     "data": {
      "text/plain": [
       "<Figure size 432x288 with 0 Axes>"
      ]
     },
     "metadata": {},
     "output_type": "display_data"
    }
   ],
   "source": [
    "data['labels']=y_pre_com[4].tolist()\n",
    "c0= data.loc[data['labels'] == 0]\n",
    "c1= data.loc[data['labels'] == 1]\n",
    "c2= data.loc[data['labels'] == 2]\n",
    "\n",
    "plt.scatter(c0['sd_speed'], c0['dscs_rate'], c=colors[0], marker='o', label='疲劳型')  \n",
    "plt.scatter(c1['sd_speed'], c1['dscs_rate'], c=colors[1], marker='o', label='激进型')  \n",
    "plt.scatter(c2['sd_speed'], c2['dscs_rate'], c=colors[2], marker='o', label='稳健型')  \n",
    "plt.xlabel('sd_speed')  \n",
    "plt.ylabel('dscs_rate')  \n",
    "plt.legend(loc=1)  \n",
    "plt.title('sd_speed与dscs_rate')\n",
    "plt.show()\n",
    "plt.savefig('D:\\\\海玲\\\\图书编辑\\\\车辆驾驶行为安全分析\\\\初稿\\\\sd_speed-dscs_rate.jpg')"
   ]
  },
  {
   "cell_type": "markdown",
   "metadata": {},
   "source": [
    "可以看出，绿色激进型速度标准差较大，同时怠速率不高，说明他们驾驶状态的波动很大，同时很少会以慢速行驶；而粉色稳健型的速度标准差较小，怠速率也不高，说明他们的驾驶比较保守，中规中矩；黄色的速度标准差低，怠速率较高，说明他们相比较更多地保持着低速的状态"
   ]
  },
  {
   "cell_type": "code",
   "execution_count": 113,
   "metadata": {},
   "outputs": [
    {
     "data": {
      "image/png": "[encoded data removed]",
      "text/plain": [
       "<Figure size 432x288 with 1 Axes>"
      ]
     },
     "metadata": {
      "needs_background": "light"
     },
     "output_type": "display_data"
    },
    {
     "data": {
      "text/plain": [
       "<Figure size 432x288 with 0 Axes>"
      ]
     },
     "metadata": {},
     "output_type": "display_data"
    }
   ],
   "source": [
    "data['labels']=y_pre_com[4].tolist()\n",
    "c0= data.loc[data['labels'] == 0]\n",
    "c1= data.loc[data['labels'] == 1]\n",
    "c2= data.loc[data['labels'] == 2]\n",
    "\n",
    "plt.scatter(c0['avg_speed'], c0['dscs_rate'], c=colors[0], marker='o', label='疲劳型')  \n",
    "plt.scatter(c1['avg_speed'], c1['dscs_rate'], c=colors[1], marker='o', label='激进型')  \n",
    "plt.scatter(c2['avg_speed'], c2['dscs_rate'], c=colors[2], marker='o', label='稳健型')  \n",
    "plt.xlabel('avg_speed')  \n",
    "plt.ylabel('dscs_rate')  \n",
    "plt.legend(loc=1)  \n",
    "plt.title('avg_speed与dscs_rate')\n",
    "plt.show()\n",
    "plt.savefig('D:\\\\海玲\\\\图书编辑\\\\车辆驾驶行为安全分析\\\\初稿\\\\avg_speed-dscs_rate.jpg')"
   ]
  },
  {
   "cell_type": "code",
   "execution_count": 114,
   "metadata": {},
   "outputs": [
    {
     "data": {
      "image/png": "[encoded data removed]",
      "text/plain": [
       "<Figure size 432x288 with 1 Axes>"
      ]
     },
     "metadata": {
      "needs_background": "light"
     },
     "output_type": "display_data"
    },
    {
     "data": {
      "text/plain": [
       "<Figure size 432x288 with 0 Axes>"
      ]
     },
     "metadata": {},
     "output_type": "display_data"
    }
   ],
   "source": [
    "data['labels']=y_pre_com[4].tolist()\n",
    "c0= data.loc[data['labels'] == 0]\n",
    "c1= data.loc[data['labels'] == 1]\n",
    "c2= data.loc[data['labels'] == 2]\n",
    "\n",
    "plt.scatter(c0['avg_speed'], c0['sd_speed'], c=colors[0], marker='o', label='疲劳型')  \n",
    "plt.scatter(c1['avg_speed'], c1['sd_speed'], c=colors[1], marker='o', label='激进型')  \n",
    "plt.scatter(c2['avg_speed'], c2['sd_speed'], c=colors[2], marker='o', label='稳健型')  \n",
    "plt.xlabel('avg_speed')  \n",
    "plt.ylabel('sd_speed')  \n",
    "plt.legend(loc=1)  \n",
    "plt.title('avg_speed与sd_speed')\n",
    "plt.show()\n",
    "plt.savefig('D:\\\\海玲\\\\图书编辑\\\\车辆驾驶行为安全分析\\\\初稿\\\\avg_speed-sd_speed.jpg')"
   ]
  },
  {
   "cell_type": "code",
   "execution_count": 116,
   "metadata": {},
   "outputs": [
    {
     "data": {
      "image/png": "[encoded data removed]",
      "text/plain": [
       "<Figure size 432x288 with 1 Axes>"
      ]
     },
     "metadata": {
      "needs_background": "light"
     },
     "output_type": "display_data"
    },
    {
     "data": {
      "text/plain": [
       "<Figure size 432x288 with 0 Axes>"
      ]
     },
     "metadata": {},
     "output_type": "display_data"
    }
   ],
   "source": [
    "data['labels']=y_pre_com[4].tolist()\n",
    "c0= data.loc[data['labels'] == 0]\n",
    "c1= data.loc[data['labels'] == 1]\n",
    "c2= data.loc[data['labels'] == 2]\n",
    "\n",
    "plt.scatter(c0['sd_speed'],c0['avg_speed'], c=colors[0], marker='o', label='疲劳型')  \n",
    "plt.scatter(c1['sd_speed'],c1['avg_speed'],  c=colors[1], marker='o', label='激进型')  \n",
    "plt.scatter(c2['sd_speed'],c2['avg_speed'],  c=colors[2], marker='o', label='稳健型')  \n",
    "plt.xlabel('sd_speed')  \n",
    "plt.ylabel('avg_speed')  \n",
    "plt.legend(loc=1)  \n",
    "plt.title('sd_speed与avg_speed')\n",
    "plt.show()\n",
    "plt.savefig('D:\\\\海玲\\\\图书编辑\\\\车辆驾驶行为安全分析\\\\初稿\\\\sd_speed-avg_speed.jpg')"
   ]
  },
  {
   "cell_type": "markdown",
   "metadata": {},
   "source": [
    "将其作为新列添加进数据集"
   ]
  },
  {
   "cell_type": "code",
   "execution_count": 117,
   "metadata": {},
   "outputs": [
    {
     "data": {
      "text/html": [
       "<div>\n",
       "<style scoped>\n",
       "    .dataframe tbody tr th:only-of-type {\n",
       "        vertical-align: middle;\n",
       "    }\n",
       "\n",
       "    .dataframe tbody tr th {\n",
       "        vertical-align: top;\n",
       "    }\n",
       "\n",
       "    .dataframe thead th {\n",
       "        text-align: right;\n",
       "    }\n",
       "</style>\n",
       "<table border=\"1\" class=\"dataframe\">\n",
       "  <thead>\n",
       "    <tr style=\"text-align: right;\">\n",
       "      <th></th>\n",
       "      <th>车辆编码</th>\n",
       "      <th>mileage</th>\n",
       "      <th>avg_speed</th>\n",
       "      <th>sd_speed</th>\n",
       "      <th>sd_speed_diff</th>\n",
       "      <th>speed_plus</th>\n",
       "      <th>speed_minus</th>\n",
       "      <th>tired</th>\n",
       "      <th>slip</th>\n",
       "      <th>dscs</th>\n",
       "      <th>plus_rate</th>\n",
       "      <th>minus_rate</th>\n",
       "      <th>tired_rate</th>\n",
       "      <th>slip_rate</th>\n",
       "      <th>dscs_rate</th>\n",
       "      <th>labels</th>\n",
       "      <th>labels2</th>\n",
       "    </tr>\n",
       "  </thead>\n",
       "  <tbody>\n",
       "    <tr>\n",
       "      <th>0</th>\n",
       "      <td>AA00001</td>\n",
       "      <td>6513</td>\n",
       "      <td>62.798773</td>\n",
       "      <td>27.034993</td>\n",
       "      <td>1.565298</td>\n",
       "      <td>10</td>\n",
       "      <td>11</td>\n",
       "      <td>15</td>\n",
       "      <td>71</td>\n",
       "      <td>301</td>\n",
       "      <td>0.001535</td>\n",
       "      <td>0.001689</td>\n",
       "      <td>0.002303</td>\n",
       "      <td>0.010901</td>\n",
       "      <td>0.046215</td>\n",
       "      <td>2</td>\n",
       "      <td>稳健型</td>\n",
       "    </tr>\n",
       "    <tr>\n",
       "      <th>1</th>\n",
       "      <td>AA00002</td>\n",
       "      <td>749</td>\n",
       "      <td>61.284090</td>\n",
       "      <td>29.138408</td>\n",
       "      <td>1.553532</td>\n",
       "      <td>1</td>\n",
       "      <td>4</td>\n",
       "      <td>5</td>\n",
       "      <td>11</td>\n",
       "      <td>128</td>\n",
       "      <td>0.001335</td>\n",
       "      <td>0.005340</td>\n",
       "      <td>0.006676</td>\n",
       "      <td>0.014686</td>\n",
       "      <td>0.170895</td>\n",
       "      <td>1</td>\n",
       "      <td>激进型</td>\n",
       "    </tr>\n",
       "    <tr>\n",
       "      <th>2</th>\n",
       "      <td>AA00004</td>\n",
       "      <td>597</td>\n",
       "      <td>52.885290</td>\n",
       "      <td>24.535798</td>\n",
       "      <td>2.051689</td>\n",
       "      <td>6</td>\n",
       "      <td>5</td>\n",
       "      <td>5</td>\n",
       "      <td>14</td>\n",
       "      <td>114</td>\n",
       "      <td>0.010050</td>\n",
       "      <td>0.008375</td>\n",
       "      <td>0.008375</td>\n",
       "      <td>0.023451</td>\n",
       "      <td>0.190955</td>\n",
       "      <td>1</td>\n",
       "      <td>激进型</td>\n",
       "    </tr>\n",
       "    <tr>\n",
       "      <th>3</th>\n",
       "      <td>AA00036</td>\n",
       "      <td>304</td>\n",
       "      <td>49.517004</td>\n",
       "      <td>27.077887</td>\n",
       "      <td>0.998427</td>\n",
       "      <td>6</td>\n",
       "      <td>4</td>\n",
       "      <td>4</td>\n",
       "      <td>4</td>\n",
       "      <td>80</td>\n",
       "      <td>0.019737</td>\n",
       "      <td>0.013158</td>\n",
       "      <td>0.013158</td>\n",
       "      <td>0.013158</td>\n",
       "      <td>0.263158</td>\n",
       "      <td>1</td>\n",
       "      <td>激进型</td>\n",
       "    </tr>\n",
       "    <tr>\n",
       "      <th>4</th>\n",
       "      <td>AA00045</td>\n",
       "      <td>222</td>\n",
       "      <td>49.330394</td>\n",
       "      <td>22.219954</td>\n",
       "      <td>2.109688</td>\n",
       "      <td>1</td>\n",
       "      <td>3</td>\n",
       "      <td>2</td>\n",
       "      <td>3</td>\n",
       "      <td>53</td>\n",
       "      <td>0.004505</td>\n",
       "      <td>0.013514</td>\n",
       "      <td>0.009009</td>\n",
       "      <td>0.013514</td>\n",
       "      <td>0.238739</td>\n",
       "      <td>1</td>\n",
       "      <td>激进型</td>\n",
       "    </tr>\n",
       "    <tr>\n",
       "      <th>...</th>\n",
       "      <td>...</td>\n",
       "      <td>...</td>\n",
       "      <td>...</td>\n",
       "      <td>...</td>\n",
       "      <td>...</td>\n",
       "      <td>...</td>\n",
       "      <td>...</td>\n",
       "      <td>...</td>\n",
       "      <td>...</td>\n",
       "      <td>...</td>\n",
       "      <td>...</td>\n",
       "      <td>...</td>\n",
       "      <td>...</td>\n",
       "      <td>...</td>\n",
       "      <td>...</td>\n",
       "      <td>...</td>\n",
       "      <td>...</td>\n",
       "    </tr>\n",
       "    <tr>\n",
       "      <th>443</th>\n",
       "      <td>AM00282</td>\n",
       "      <td>2949</td>\n",
       "      <td>49.368028</td>\n",
       "      <td>25.297480</td>\n",
       "      <td>2.061533</td>\n",
       "      <td>2</td>\n",
       "      <td>10</td>\n",
       "      <td>3</td>\n",
       "      <td>10</td>\n",
       "      <td>59</td>\n",
       "      <td>0.000678</td>\n",
       "      <td>0.003391</td>\n",
       "      <td>0.001017</td>\n",
       "      <td>0.003391</td>\n",
       "      <td>0.020007</td>\n",
       "      <td>1</td>\n",
       "      <td>激进型</td>\n",
       "    </tr>\n",
       "    <tr>\n",
       "      <th>444</th>\n",
       "      <td>AM00337</td>\n",
       "      <td>140</td>\n",
       "      <td>46.362071</td>\n",
       "      <td>16.694683</td>\n",
       "      <td>1.622326</td>\n",
       "      <td>0</td>\n",
       "      <td>0</td>\n",
       "      <td>0</td>\n",
       "      <td>8</td>\n",
       "      <td>31</td>\n",
       "      <td>0.000000</td>\n",
       "      <td>0.000000</td>\n",
       "      <td>0.000000</td>\n",
       "      <td>0.057143</td>\n",
       "      <td>0.221429</td>\n",
       "      <td>0</td>\n",
       "      <td>疲劳型</td>\n",
       "    </tr>\n",
       "    <tr>\n",
       "      <th>445</th>\n",
       "      <td>AM00343</td>\n",
       "      <td>3283</td>\n",
       "      <td>34.252810</td>\n",
       "      <td>17.276927</td>\n",
       "      <td>1.603206</td>\n",
       "      <td>2</td>\n",
       "      <td>0</td>\n",
       "      <td>6</td>\n",
       "      <td>1</td>\n",
       "      <td>31</td>\n",
       "      <td>0.000609</td>\n",
       "      <td>0.000000</td>\n",
       "      <td>0.001828</td>\n",
       "      <td>0.000305</td>\n",
       "      <td>0.009443</td>\n",
       "      <td>0</td>\n",
       "      <td>疲劳型</td>\n",
       "    </tr>\n",
       "    <tr>\n",
       "      <th>446</th>\n",
       "      <td>AM00394</td>\n",
       "      <td>2641</td>\n",
       "      <td>31.255133</td>\n",
       "      <td>14.779691</td>\n",
       "      <td>1.353846</td>\n",
       "      <td>7</td>\n",
       "      <td>4</td>\n",
       "      <td>3</td>\n",
       "      <td>2</td>\n",
       "      <td>150</td>\n",
       "      <td>0.002651</td>\n",
       "      <td>0.001515</td>\n",
       "      <td>0.001136</td>\n",
       "      <td>0.000757</td>\n",
       "      <td>0.056797</td>\n",
       "      <td>0</td>\n",
       "      <td>疲劳型</td>\n",
       "    </tr>\n",
       "    <tr>\n",
       "      <th>447</th>\n",
       "      <td>AM00428</td>\n",
       "      <td>3133</td>\n",
       "      <td>52.021796</td>\n",
       "      <td>22.626204</td>\n",
       "      <td>1.629536</td>\n",
       "      <td>0</td>\n",
       "      <td>2</td>\n",
       "      <td>4</td>\n",
       "      <td>7</td>\n",
       "      <td>80</td>\n",
       "      <td>0.000000</td>\n",
       "      <td>0.000638</td>\n",
       "      <td>0.001277</td>\n",
       "      <td>0.002234</td>\n",
       "      <td>0.025535</td>\n",
       "      <td>1</td>\n",
       "      <td>激进型</td>\n",
       "    </tr>\n",
       "  </tbody>\n",
       "</table>\n",
       "<p>448 rows × 17 columns</p>\n",
       "</div>"
      ],
      "text/plain": [
       "        车辆编码  mileage  avg_speed   sd_speed  sd_speed_diff  speed_plus  \\\n",
       "0    AA00001     6513  62.798773  27.034993       1.565298          10   \n",
       "1    AA00002      749  61.284090  29.138408       1.553532           1   \n",
       "2    AA00004      597  52.885290  24.535798       2.051689           6   \n",
       "3    AA00036      304  49.517004  27.077887       0.998427           6   \n",
       "4    AA00045      222  49.330394  22.219954       2.109688           1   \n",
       "..       ...      ...        ...        ...            ...         ...   \n",
       "443  AM00282     2949  49.368028  25.297480       2.061533           2   \n",
       "444  AM00337      140  46.362071  16.694683       1.622326           0   \n",
       "445  AM00343     3283  34.252810  17.276927       1.603206           2   \n",
       "446  AM00394     2641  31.255133  14.779691       1.353846           7   \n",
       "447  AM00428     3133  52.021796  22.626204       1.629536           0   \n",
       "\n",
       "     speed_minus  tired  slip  dscs  plus_rate  minus_rate  tired_rate  \\\n",
       "0             11     15    71   301   0.001535    0.001689    0.002303   \n",
       "1              4      5    11   128   0.001335    0.005340    0.006676   \n",
       "2              5      5    14   114   0.010050    0.008375    0.008375   \n",
       "3              4      4     4    80   0.019737    0.013158    0.013158   \n",
       "4              3      2     3    53   0.004505    0.013514    0.009009   \n",
       "..           ...    ...   ...   ...        ...         ...         ...   \n",
       "443           10      3    10    59   0.000678    0.003391    0.001017   \n",
       "444            0      0     8    31   0.000000    0.000000    0.000000   \n",
       "445            0      6     1    31   0.000609    0.000000    0.001828   \n",
       "446            4      3     2   150   0.002651    0.001515    0.001136   \n",
       "447            2      4     7    80   0.000000    0.000638    0.001277   \n",
       "\n",
       "     slip_rate  dscs_rate  labels labels2  \n",
       "0     0.010901   0.046215       2     稳健型  \n",
       "1     0.014686   0.170895       1     激进型  \n",
       "2     0.023451   0.190955       1     激进型  \n",
       "3     0.013158   0.263158       1     激进型  \n",
       "4     0.013514   0.238739       1     激进型  \n",
       "..         ...        ...     ...     ...  \n",
       "443   0.003391   0.020007       1     激进型  \n",
       "444   0.057143   0.221429       0     疲劳型  \n",
       "445   0.000305   0.009443       0     疲劳型  \n",
       "446   0.000757   0.056797       0     疲劳型  \n",
       "447   0.002234   0.025535       1     激进型  \n",
       "\n",
       "[448 rows x 17 columns]"
      ]
     },
     "execution_count": 117,
     "metadata": {},
     "output_type": "execute_result"
    }
   ],
   "source": [
    "data['labels2'] = data['labels'].apply(lambda x: '激进型' if x==1 else '稳健型' if x==2 else '疲劳型')\n",
    "data"
   ]
  },
  {
   "cell_type": "code",
   "execution_count": 120,
   "metadata": {},
   "outputs": [
    {
     "data": {
      "text/html": [
       "<div>\n",
       "<style scoped>\n",
       "    .dataframe tbody tr th:only-of-type {\n",
       "        vertical-align: middle;\n",
       "    }\n",
       "\n",
       "    .dataframe tbody tr th {\n",
       "        vertical-align: top;\n",
       "    }\n",
       "\n",
       "    .dataframe thead th {\n",
       "        text-align: right;\n",
       "    }\n",
       "</style>\n",
       "<table border=\"1\" class=\"dataframe\">\n",
       "  <thead>\n",
       "    <tr style=\"text-align: right;\">\n",
       "      <th></th>\n",
       "      <th>车辆编码</th>\n",
       "      <th>mileage</th>\n",
       "      <th>avg_speed</th>\n",
       "      <th>sd_speed</th>\n",
       "      <th>sd_speed_diff</th>\n",
       "      <th>speed_plus</th>\n",
       "      <th>speed_minus</th>\n",
       "      <th>tired</th>\n",
       "      <th>slip</th>\n",
       "      <th>dscs</th>\n",
       "      <th>plus_rate</th>\n",
       "      <th>minus_rate</th>\n",
       "      <th>tired_rate</th>\n",
       "      <th>slip_rate</th>\n",
       "      <th>dscs_rate</th>\n",
       "      <th>labels</th>\n",
       "      <th>labels2</th>\n",
       "    </tr>\n",
       "  </thead>\n",
       "  <tbody>\n",
       "    <tr>\n",
       "      <th>0</th>\n",
       "      <td>AA00001</td>\n",
       "      <td>6513</td>\n",
       "      <td>62.798773</td>\n",
       "      <td>27.034993</td>\n",
       "      <td>1.565298</td>\n",
       "      <td>10</td>\n",
       "      <td>11</td>\n",
       "      <td>15</td>\n",
       "      <td>71</td>\n",
       "      <td>301</td>\n",
       "      <td>0.001535</td>\n",
       "      <td>0.001689</td>\n",
       "      <td>0.002303</td>\n",
       "      <td>0.010901</td>\n",
       "      <td>0.046215</td>\n",
       "      <td>2</td>\n",
       "      <td>稳健型</td>\n",
       "    </tr>\n",
       "    <tr>\n",
       "      <th>1</th>\n",
       "      <td>AA00002</td>\n",
       "      <td>749</td>\n",
       "      <td>61.284090</td>\n",
       "      <td>29.138408</td>\n",
       "      <td>1.553532</td>\n",
       "      <td>1</td>\n",
       "      <td>4</td>\n",
       "      <td>5</td>\n",
       "      <td>11</td>\n",
       "      <td>128</td>\n",
       "      <td>0.001335</td>\n",
       "      <td>0.005340</td>\n",
       "      <td>0.006676</td>\n",
       "      <td>0.014686</td>\n",
       "      <td>0.170895</td>\n",
       "      <td>1</td>\n",
       "      <td>激进型</td>\n",
       "    </tr>\n",
       "    <tr>\n",
       "      <th>2</th>\n",
       "      <td>AA00004</td>\n",
       "      <td>597</td>\n",
       "      <td>52.885290</td>\n",
       "      <td>24.535798</td>\n",
       "      <td>2.051689</td>\n",
       "      <td>6</td>\n",
       "      <td>5</td>\n",
       "      <td>5</td>\n",
       "      <td>14</td>\n",
       "      <td>114</td>\n",
       "      <td>0.010050</td>\n",
       "      <td>0.008375</td>\n",
       "      <td>0.008375</td>\n",
       "      <td>0.023451</td>\n",
       "      <td>0.190955</td>\n",
       "      <td>1</td>\n",
       "      <td>激进型</td>\n",
       "    </tr>\n",
       "    <tr>\n",
       "      <th>3</th>\n",
       "      <td>AA00036</td>\n",
       "      <td>304</td>\n",
       "      <td>49.517004</td>\n",
       "      <td>27.077887</td>\n",
       "      <td>0.998427</td>\n",
       "      <td>6</td>\n",
       "      <td>4</td>\n",
       "      <td>4</td>\n",
       "      <td>4</td>\n",
       "      <td>80</td>\n",
       "      <td>0.019737</td>\n",
       "      <td>0.013158</td>\n",
       "      <td>0.013158</td>\n",
       "      <td>0.013158</td>\n",
       "      <td>0.263158</td>\n",
       "      <td>1</td>\n",
       "      <td>激进型</td>\n",
       "    </tr>\n",
       "    <tr>\n",
       "      <th>4</th>\n",
       "      <td>AA00045</td>\n",
       "      <td>222</td>\n",
       "      <td>49.330394</td>\n",
       "      <td>22.219954</td>\n",
       "      <td>2.109688</td>\n",
       "      <td>1</td>\n",
       "      <td>3</td>\n",
       "      <td>2</td>\n",
       "      <td>3</td>\n",
       "      <td>53</td>\n",
       "      <td>0.004505</td>\n",
       "      <td>0.013514</td>\n",
       "      <td>0.009009</td>\n",
       "      <td>0.013514</td>\n",
       "      <td>0.238739</td>\n",
       "      <td>1</td>\n",
       "      <td>激进型</td>\n",
       "    </tr>\n",
       "    <tr>\n",
       "      <th>443</th>\n",
       "      <td>AM00282</td>\n",
       "      <td>2949</td>\n",
       "      <td>49.368028</td>\n",
       "      <td>25.297480</td>\n",
       "      <td>2.061533</td>\n",
       "      <td>2</td>\n",
       "      <td>10</td>\n",
       "      <td>3</td>\n",
       "      <td>10</td>\n",
       "      <td>59</td>\n",
       "      <td>0.000678</td>\n",
       "      <td>0.003391</td>\n",
       "      <td>0.001017</td>\n",
       "      <td>0.003391</td>\n",
       "      <td>0.020007</td>\n",
       "      <td>1</td>\n",
       "      <td>激进型</td>\n",
       "    </tr>\n",
       "    <tr>\n",
       "      <th>444</th>\n",
       "      <td>AM00337</td>\n",
       "      <td>140</td>\n",
       "      <td>46.362071</td>\n",
       "      <td>16.694683</td>\n",
       "      <td>1.622326</td>\n",
       "      <td>0</td>\n",
       "      <td>0</td>\n",
       "      <td>0</td>\n",
       "      <td>8</td>\n",
       "      <td>31</td>\n",
       "      <td>0.000000</td>\n",
       "      <td>0.000000</td>\n",
       "      <td>0.000000</td>\n",
       "      <td>0.057143</td>\n",
       "      <td>0.221429</td>\n",
       "      <td>0</td>\n",
       "      <td>疲劳型</td>\n",
       "    </tr>\n",
       "    <tr>\n",
       "      <th>445</th>\n",
       "      <td>AM00343</td>\n",
       "      <td>3283</td>\n",
       "      <td>34.252810</td>\n",
       "      <td>17.276927</td>\n",
       "      <td>1.603206</td>\n",
       "      <td>2</td>\n",
       "      <td>0</td>\n",
       "      <td>6</td>\n",
       "      <td>1</td>\n",
       "      <td>31</td>\n",
       "      <td>0.000609</td>\n",
       "      <td>0.000000</td>\n",
       "      <td>0.001828</td>\n",
       "      <td>0.000305</td>\n",
       "      <td>0.009443</td>\n",
       "      <td>0</td>\n",
       "      <td>疲劳型</td>\n",
       "    </tr>\n",
       "    <tr>\n",
       "      <th>446</th>\n",
       "      <td>AM00394</td>\n",
       "      <td>2641</td>\n",
       "      <td>31.255133</td>\n",
       "      <td>14.779691</td>\n",
       "      <td>1.353846</td>\n",
       "      <td>7</td>\n",
       "      <td>4</td>\n",
       "      <td>3</td>\n",
       "      <td>2</td>\n",
       "      <td>150</td>\n",
       "      <td>0.002651</td>\n",
       "      <td>0.001515</td>\n",
       "      <td>0.001136</td>\n",
       "      <td>0.000757</td>\n",
       "      <td>0.056797</td>\n",
       "      <td>0</td>\n",
       "      <td>疲劳型</td>\n",
       "    </tr>\n",
       "    <tr>\n",
       "      <th>447</th>\n",
       "      <td>AM00428</td>\n",
       "      <td>3133</td>\n",
       "      <td>52.021796</td>\n",
       "      <td>22.626204</td>\n",
       "      <td>1.629536</td>\n",
       "      <td>0</td>\n",
       "      <td>2</td>\n",
       "      <td>4</td>\n",
       "      <td>7</td>\n",
       "      <td>80</td>\n",
       "      <td>0.000000</td>\n",
       "      <td>0.000638</td>\n",
       "      <td>0.001277</td>\n",
       "      <td>0.002234</td>\n",
       "      <td>0.025535</td>\n",
       "      <td>1</td>\n",
       "      <td>激进型</td>\n",
       "    </tr>\n",
       "  </tbody>\n",
       "</table>\n",
       "</div>"
      ],
      "text/plain": [
       "        车辆编码  mileage  avg_speed   sd_speed  sd_speed_diff  speed_plus  \\\n",
       "0    AA00001     6513  62.798773  27.034993       1.565298          10   \n",
       "1    AA00002      749  61.284090  29.138408       1.553532           1   \n",
       "2    AA00004      597  52.885290  24.535798       2.051689           6   \n",
       "3    AA00036      304  49.517004  27.077887       0.998427           6   \n",
       "4    AA00045      222  49.330394  22.219954       2.109688           1   \n",
       "443  AM00282     2949  49.368028  25.297480       2.061533           2   \n",
       "444  AM00337      140  46.362071  16.694683       1.622326           0   \n",
       "445  AM00343     3283  34.252810  17.276927       1.603206           2   \n",
       "446  AM00394     2641  31.255133  14.779691       1.353846           7   \n",
       "447  AM00428     3133  52.021796  22.626204       1.629536           0   \n",
       "\n",
       "     speed_minus  tired  slip  dscs  plus_rate  minus_rate  tired_rate  \\\n",
       "0             11     15    71   301   0.001535    0.001689    0.002303   \n",
       "1              4      5    11   128   0.001335    0.005340    0.006676   \n",
       "2              5      5    14   114   0.010050    0.008375    0.008375   \n",
       "3              4      4     4    80   0.019737    0.013158    0.013158   \n",
       "4              3      2     3    53   0.004505    0.013514    0.009009   \n",
       "443           10      3    10    59   0.000678    0.003391    0.001017   \n",
       "444            0      0     8    31   0.000000    0.000000    0.000000   \n",
       "445            0      6     1    31   0.000609    0.000000    0.001828   \n",
       "446            4      3     2   150   0.002651    0.001515    0.001136   \n",
       "447            2      4     7    80   0.000000    0.000638    0.001277   \n",
       "\n",
       "     slip_rate  dscs_rate  labels labels2  \n",
       "0     0.010901   0.046215       2     稳健型  \n",
       "1     0.014686   0.170895       1     激进型  \n",
       "2     0.023451   0.190955       1     激进型  \n",
       "3     0.013158   0.263158       1     激进型  \n",
       "4     0.013514   0.238739       1     激进型  \n",
       "443   0.003391   0.020007       1     激进型  \n",
       "444   0.057143   0.221429       0     疲劳型  \n",
       "445   0.000305   0.009443       0     疲劳型  \n",
       "446   0.000757   0.056797       0     疲劳型  \n",
       "447   0.002234   0.025535       1     激进型  "
      ]
     },
     "execution_count": 120,
     "metadata": {},
     "output_type": "execute_result"
    }
   ],
   "source": [
    "data.head().append(data.tail())"
   ]
  },
  {
   "cell_type": "code",
   "execution_count": 126,
   "metadata": {},
   "outputs": [
    {
     "data": {
      "text/html": [
       "<div>\n",
       "<style scoped>\n",
       "    .dataframe tbody tr th:only-of-type {\n",
       "        vertical-align: middle;\n",
       "    }\n",
       "\n",
       "    .dataframe tbody tr th {\n",
       "        vertical-align: top;\n",
       "    }\n",
       "\n",
       "    .dataframe thead th {\n",
       "        text-align: right;\n",
       "    }\n",
       "</style>\n",
       "<table border=\"1\" class=\"dataframe\">\n",
       "  <thead>\n",
       "    <tr style=\"text-align: right;\">\n",
       "      <th></th>\n",
       "      <th>车辆编码</th>\n",
       "      <th>labels</th>\n",
       "      <th>labels2</th>\n",
       "      <th>mileage</th>\n",
       "      <th>avg_speed</th>\n",
       "      <th>sd_speed</th>\n",
       "      <th>sd_speed_diff</th>\n",
       "      <th>speed_plus</th>\n",
       "      <th>speed_minus</th>\n",
       "      <th>tired</th>\n",
       "      <th>slip</th>\n",
       "      <th>dscs</th>\n",
       "      <th>plus_rate</th>\n",
       "      <th>minus_rate</th>\n",
       "      <th>tired_rate</th>\n",
       "      <th>slip_rate</th>\n",
       "      <th>dscs_rate</th>\n",
       "    </tr>\n",
       "  </thead>\n",
       "  <tbody>\n",
       "    <tr>\n",
       "      <th>0</th>\n",
       "      <td>AA00001</td>\n",
       "      <td>2</td>\n",
       "      <td>稳健型</td>\n",
       "      <td>NaN</td>\n",
       "      <td>NaN</td>\n",
       "      <td>NaN</td>\n",
       "      <td>NaN</td>\n",
       "      <td>NaN</td>\n",
       "      <td>NaN</td>\n",
       "      <td>NaN</td>\n",
       "      <td>NaN</td>\n",
       "      <td>NaN</td>\n",
       "      <td>NaN</td>\n",
       "      <td>NaN</td>\n",
       "      <td>NaN</td>\n",
       "      <td>NaN</td>\n",
       "      <td>NaN</td>\n",
       "    </tr>\n",
       "    <tr>\n",
       "      <th>1</th>\n",
       "      <td>AA00002</td>\n",
       "      <td>1</td>\n",
       "      <td>激进型</td>\n",
       "      <td>NaN</td>\n",
       "      <td>NaN</td>\n",
       "      <td>NaN</td>\n",
       "      <td>NaN</td>\n",
       "      <td>NaN</td>\n",
       "      <td>NaN</td>\n",
       "      <td>NaN</td>\n",
       "      <td>NaN</td>\n",
       "      <td>NaN</td>\n",
       "      <td>NaN</td>\n",
       "      <td>NaN</td>\n",
       "      <td>NaN</td>\n",
       "      <td>NaN</td>\n",
       "      <td>NaN</td>\n",
       "    </tr>\n",
       "    <tr>\n",
       "      <th>2</th>\n",
       "      <td>AA00004</td>\n",
       "      <td>1</td>\n",
       "      <td>激进型</td>\n",
       "      <td>NaN</td>\n",
       "      <td>NaN</td>\n",
       "      <td>NaN</td>\n",
       "      <td>NaN</td>\n",
       "      <td>NaN</td>\n",
       "      <td>NaN</td>\n",
       "      <td>NaN</td>\n",
       "      <td>NaN</td>\n",
       "      <td>NaN</td>\n",
       "      <td>NaN</td>\n",
       "      <td>NaN</td>\n",
       "      <td>NaN</td>\n",
       "      <td>NaN</td>\n",
       "      <td>NaN</td>\n",
       "    </tr>\n",
       "    <tr>\n",
       "      <th>3</th>\n",
       "      <td>AA00036</td>\n",
       "      <td>1</td>\n",
       "      <td>激进型</td>\n",
       "      <td>NaN</td>\n",
       "      <td>NaN</td>\n",
       "      <td>NaN</td>\n",
       "      <td>NaN</td>\n",
       "      <td>NaN</td>\n",
       "      <td>NaN</td>\n",
       "      <td>NaN</td>\n",
       "      <td>NaN</td>\n",
       "      <td>NaN</td>\n",
       "      <td>NaN</td>\n",
       "      <td>NaN</td>\n",
       "      <td>NaN</td>\n",
       "      <td>NaN</td>\n",
       "      <td>NaN</td>\n",
       "    </tr>\n",
       "    <tr>\n",
       "      <th>4</th>\n",
       "      <td>AA00045</td>\n",
       "      <td>1</td>\n",
       "      <td>激进型</td>\n",
       "      <td>NaN</td>\n",
       "      <td>NaN</td>\n",
       "      <td>NaN</td>\n",
       "      <td>NaN</td>\n",
       "      <td>NaN</td>\n",
       "      <td>NaN</td>\n",
       "      <td>NaN</td>\n",
       "      <td>NaN</td>\n",
       "      <td>NaN</td>\n",
       "      <td>NaN</td>\n",
       "      <td>NaN</td>\n",
       "      <td>NaN</td>\n",
       "      <td>NaN</td>\n",
       "      <td>NaN</td>\n",
       "    </tr>\n",
       "    <tr>\n",
       "      <th>443</th>\n",
       "      <td>AM00282</td>\n",
       "      <td>1</td>\n",
       "      <td>激进型</td>\n",
       "      <td>2949.0</td>\n",
       "      <td>49.368028</td>\n",
       "      <td>25.297480</td>\n",
       "      <td>2.061533</td>\n",
       "      <td>2.0</td>\n",
       "      <td>10.0</td>\n",
       "      <td>3.0</td>\n",
       "      <td>10.0</td>\n",
       "      <td>59.0</td>\n",
       "      <td>0.000678</td>\n",
       "      <td>0.003391</td>\n",
       "      <td>0.001017</td>\n",
       "      <td>0.003391</td>\n",
       "      <td>0.020007</td>\n",
       "    </tr>\n",
       "    <tr>\n",
       "      <th>444</th>\n",
       "      <td>AM00337</td>\n",
       "      <td>0</td>\n",
       "      <td>疲劳型</td>\n",
       "      <td>140.0</td>\n",
       "      <td>46.362071</td>\n",
       "      <td>16.694683</td>\n",
       "      <td>1.622326</td>\n",
       "      <td>0.0</td>\n",
       "      <td>0.0</td>\n",
       "      <td>0.0</td>\n",
       "      <td>8.0</td>\n",
       "      <td>31.0</td>\n",
       "      <td>0.000000</td>\n",
       "      <td>0.000000</td>\n",
       "      <td>0.000000</td>\n",
       "      <td>0.057143</td>\n",
       "      <td>0.221429</td>\n",
       "    </tr>\n",
       "    <tr>\n",
       "      <th>445</th>\n",
       "      <td>AM00343</td>\n",
       "      <td>0</td>\n",
       "      <td>疲劳型</td>\n",
       "      <td>3283.0</td>\n",
       "      <td>34.252810</td>\n",
       "      <td>17.276927</td>\n",
       "      <td>1.603206</td>\n",
       "      <td>2.0</td>\n",
       "      <td>0.0</td>\n",
       "      <td>6.0</td>\n",
       "      <td>1.0</td>\n",
       "      <td>31.0</td>\n",
       "      <td>0.000609</td>\n",
       "      <td>0.000000</td>\n",
       "      <td>0.001828</td>\n",
       "      <td>0.000305</td>\n",
       "      <td>0.009443</td>\n",
       "    </tr>\n",
       "    <tr>\n",
       "      <th>446</th>\n",
       "      <td>AM00394</td>\n",
       "      <td>0</td>\n",
       "      <td>疲劳型</td>\n",
       "      <td>2641.0</td>\n",
       "      <td>31.255133</td>\n",
       "      <td>14.779691</td>\n",
       "      <td>1.353846</td>\n",
       "      <td>7.0</td>\n",
       "      <td>4.0</td>\n",
       "      <td>3.0</td>\n",
       "      <td>2.0</td>\n",
       "      <td>150.0</td>\n",
       "      <td>0.002651</td>\n",
       "      <td>0.001515</td>\n",
       "      <td>0.001136</td>\n",
       "      <td>0.000757</td>\n",
       "      <td>0.056797</td>\n",
       "    </tr>\n",
       "    <tr>\n",
       "      <th>447</th>\n",
       "      <td>AM00428</td>\n",
       "      <td>1</td>\n",
       "      <td>激进型</td>\n",
       "      <td>3133.0</td>\n",
       "      <td>52.021796</td>\n",
       "      <td>22.626204</td>\n",
       "      <td>1.629536</td>\n",
       "      <td>0.0</td>\n",
       "      <td>2.0</td>\n",
       "      <td>4.0</td>\n",
       "      <td>7.0</td>\n",
       "      <td>80.0</td>\n",
       "      <td>0.000000</td>\n",
       "      <td>0.000638</td>\n",
       "      <td>0.001277</td>\n",
       "      <td>0.002234</td>\n",
       "      <td>0.025535</td>\n",
       "    </tr>\n",
       "  </tbody>\n",
       "</table>\n",
       "</div>"
      ],
      "text/plain": [
       "        车辆编码  labels labels2  mileage  avg_speed   sd_speed  sd_speed_diff  \\\n",
       "0    AA00001       2     稳健型      NaN        NaN        NaN            NaN   \n",
       "1    AA00002       1     激进型      NaN        NaN        NaN            NaN   \n",
       "2    AA00004       1     激进型      NaN        NaN        NaN            NaN   \n",
       "3    AA00036       1     激进型      NaN        NaN        NaN            NaN   \n",
       "4    AA00045       1     激进型      NaN        NaN        NaN            NaN   \n",
       "443  AM00282       1     激进型   2949.0  49.368028  25.297480       2.061533   \n",
       "444  AM00337       0     疲劳型    140.0  46.362071  16.694683       1.622326   \n",
       "445  AM00343       0     疲劳型   3283.0  34.252810  17.276927       1.603206   \n",
       "446  AM00394       0     疲劳型   2641.0  31.255133  14.779691       1.353846   \n",
       "447  AM00428       1     激进型   3133.0  52.021796  22.626204       1.629536   \n",
       "\n",
       "     speed_plus  speed_minus  tired  slip   dscs  plus_rate  minus_rate  \\\n",
       "0           NaN          NaN    NaN   NaN    NaN        NaN         NaN   \n",
       "1           NaN          NaN    NaN   NaN    NaN        NaN         NaN   \n",
       "2           NaN          NaN    NaN   NaN    NaN        NaN         NaN   \n",
       "3           NaN          NaN    NaN   NaN    NaN        NaN         NaN   \n",
       "4           NaN          NaN    NaN   NaN    NaN        NaN         NaN   \n",
       "443         2.0         10.0    3.0  10.0   59.0   0.000678    0.003391   \n",
       "444         0.0          0.0    0.0   8.0   31.0   0.000000    0.000000   \n",
       "445         2.0          0.0    6.0   1.0   31.0   0.000609    0.000000   \n",
       "446         7.0          4.0    3.0   2.0  150.0   0.002651    0.001515   \n",
       "447         0.0          2.0    4.0   7.0   80.0   0.000000    0.000638   \n",
       "\n",
       "     tired_rate  slip_rate  dscs_rate  \n",
       "0           NaN        NaN        NaN  \n",
       "1           NaN        NaN        NaN  \n",
       "2           NaN        NaN        NaN  \n",
       "3           NaN        NaN        NaN  \n",
       "4           NaN        NaN        NaN  \n",
       "443    0.001017   0.003391   0.020007  \n",
       "444    0.000000   0.057143   0.221429  \n",
       "445    0.001828   0.000305   0.009443  \n",
       "446    0.001136   0.000757   0.056797  \n",
       "447    0.001277   0.002234   0.025535  "
      ]
     },
     "execution_count": 126,
     "metadata": {},
     "output_type": "execute_result"
    }
   ],
   "source": [
    "data[['车辆编码','labels','labels2']].head().append(data.tail())"
   ]
  },
  {
   "cell_type": "markdown",
   "metadata": {},
   "source": [
    "四、判别分析"
   ]
  },
  {
   "cell_type": "markdown",
   "metadata": {},
   "source": [
    "1.LDA线性判别分析"
   ]
  },
  {
   "cell_type": "code",
   "execution_count": 128,
   "metadata": {},
   "outputs": [],
   "source": [
    "from sklearn.model_selection import train_test_split\n",
    "from sklearn.discriminant_analysis import LinearDiscriminantAnalysis\n",
    "from sklearn.discriminant_analysis import QuadraticDiscriminantAnalysis\n",
    "from sklearn.metrics import confusion_matrix\n",
    "from sklearn.metrics import classification_report\n",
    "from sklearn.metrics import cohen_kappa_score"
   ]
  },
  {
   "cell_type": "code",
   "execution_count": 130,
   "metadata": {},
   "outputs": [
    {
     "data": {
      "text/plain": [
       "0.953125"
      ]
     },
     "execution_count": 130,
     "metadata": {},
     "output_type": "execute_result"
    }
   ],
   "source": [
    "model = LinearDiscriminantAnalysis()\n",
    "np.float32(X)\n",
    "model.fit(X, yhat)     #拟合\n",
    "model.score(X, yhat)   #计算预测精度"
   ]
  },
  {
   "cell_type": "code",
   "execution_count": 132,
   "metadata": {},
   "outputs": [
    {
     "data": {
      "text/plain": [
       "0.7566964285714286"
      ]
     },
     "execution_count": 132,
     "metadata": {},
     "output_type": "execute_result"
    }
   ],
   "source": [
    "model = LinearDiscriminantAnalysis()\n",
    "np.float32(X2)\n",
    "model.fit(X2, yhat)     #拟合\n",
    "model.score(X2, yhat)   #计算预测精度"
   ]
  },
  {
   "cell_type": "code",
   "execution_count": 155,
   "metadata": {},
   "outputs": [],
   "source": [
    "X2_names=['slip_rate', 'dscs_rate','tired_rate','plus_rate','minus_rate','sd_speed','sd_speed_diff','labels','labels2']"
   ]
  },
  {
   "cell_type": "code",
   "execution_count": 161,
   "metadata": {},
   "outputs": [
    {
     "data": {
      "text/html": [
       "<div>\n",
       "<style scoped>\n",
       "    .dataframe tbody tr th:only-of-type {\n",
       "        vertical-align: middle;\n",
       "    }\n",
       "\n",
       "    .dataframe tbody tr th {\n",
       "        vertical-align: top;\n",
       "    }\n",
       "\n",
       "    .dataframe thead th {\n",
       "        text-align: right;\n",
       "    }\n",
       "</style>\n",
       "<table border=\"1\" class=\"dataframe\">\n",
       "  <thead>\n",
       "    <tr style=\"text-align: right;\">\n",
       "      <th></th>\n",
       "      <th>LD1</th>\n",
       "      <th>LD2</th>\n",
       "    </tr>\n",
       "  </thead>\n",
       "  <tbody>\n",
       "    <tr>\n",
       "      <th>slip_rate</th>\n",
       "      <td>NaN</td>\n",
       "      <td>NaN</td>\n",
       "    </tr>\n",
       "    <tr>\n",
       "      <th>dscs_rate</th>\n",
       "      <td>NaN</td>\n",
       "      <td>NaN</td>\n",
       "    </tr>\n",
       "    <tr>\n",
       "      <th>tired_rate</th>\n",
       "      <td>NaN</td>\n",
       "      <td>NaN</td>\n",
       "    </tr>\n",
       "    <tr>\n",
       "      <th>plus_rate</th>\n",
       "      <td>NaN</td>\n",
       "      <td>NaN</td>\n",
       "    </tr>\n",
       "    <tr>\n",
       "      <th>minus_rate</th>\n",
       "      <td>NaN</td>\n",
       "      <td>NaN</td>\n",
       "    </tr>\n",
       "    <tr>\n",
       "      <th>sd_speed</th>\n",
       "      <td>NaN</td>\n",
       "      <td>NaN</td>\n",
       "    </tr>\n",
       "    <tr>\n",
       "      <th>sd_speed_diff</th>\n",
       "      <td>NaN</td>\n",
       "      <td>NaN</td>\n",
       "    </tr>\n",
       "    <tr>\n",
       "      <th>labels</th>\n",
       "      <td>NaN</td>\n",
       "      <td>NaN</td>\n",
       "    </tr>\n",
       "    <tr>\n",
       "      <th>labels2</th>\n",
       "      <td>NaN</td>\n",
       "      <td>NaN</td>\n",
       "    </tr>\n",
       "  </tbody>\n",
       "</table>\n",
       "</div>"
      ],
      "text/plain": [
       "               LD1  LD2\n",
       "slip_rate      NaN  NaN\n",
       "dscs_rate      NaN  NaN\n",
       "tired_rate     NaN  NaN\n",
       "plus_rate      NaN  NaN\n",
       "minus_rate     NaN  NaN\n",
       "sd_speed       NaN  NaN\n",
       "sd_speed_diff  NaN  NaN\n",
       "labels         NaN  NaN\n",
       "labels2        NaN  NaN"
      ]
     },
     "execution_count": 161,
     "metadata": {},
     "output_type": "execute_result"
    }
   ],
   "source": [
    "#先验概率\n",
    "model.priors_\n",
    "#特征变量分组均值\n",
    "model.means_\n",
    "#线性判元对于组间方差的贡献\n",
    "model.explained_variance_ratio_\n",
    "#线性判元的估计系数\n",
    "model.scalings_\n",
    "#变为数据框展示\n",
    "lda_loadings = pd.DataFrame(index=X2_names, columns=['LD1', 'LD2'])\n",
    "lda_loadings"
   ]
  },
  {
   "cell_type": "code",
   "execution_count": 162,
   "metadata": {},
   "outputs": [],
   "source": [
    "y=yhat"
   ]
  },
  {
   "cell_type": "code",
   "execution_count": 164,
   "metadata": {},
   "outputs": [],
   "source": [
    "from pylab import *"
   ]
  },
  {
   "cell_type": "code",
   "execution_count": 165,
   "metadata": {},
   "outputs": [],
   "source": [
    "mpl.rcParams['font.sans-serif'] = ['SimHei']\n",
    "lda_scores = model.fit(X2, y).transform(X2) #或lda_scores = model.fit_transform(X2, y)"
   ]
  },
  {
   "cell_type": "code",
   "execution_count": 166,
   "metadata": {},
   "outputs": [
    {
     "data": {
      "text/plain": [
       "array([[ 0.40433779,  0.14740379],\n",
       "       [ 0.68192673,  1.41324772],\n",
       "       [ 1.14544683,  0.8261912 ],\n",
       "       [-1.00453076,  1.08054988],\n",
       "       [ 1.70202005,  1.39646831]])"
      ]
     },
     "execution_count": 166,
     "metadata": {},
     "output_type": "execute_result"
    }
   ],
   "source": [
    "lda_scores.shape\n",
    "lda_scores[:5, :]"
   ]
  },
  {
   "cell_type": "code",
   "execution_count": 167,
   "metadata": {},
   "outputs": [],
   "source": [
    "LDA_scores = pd.DataFrame(lda_scores, columns=['LD1', 'LD2'])"
   ]
  },
  {
   "cell_type": "code",
   "execution_count": 177,
   "metadata": {},
   "outputs": [
    {
     "data": {
      "text/html": [
       "<div>\n",
       "<style scoped>\n",
       "    .dataframe tbody tr th:only-of-type {\n",
       "        vertical-align: middle;\n",
       "    }\n",
       "\n",
       "    .dataframe tbody tr th {\n",
       "        vertical-align: top;\n",
       "    }\n",
       "\n",
       "    .dataframe thead th {\n",
       "        text-align: right;\n",
       "    }\n",
       "</style>\n",
       "<table border=\"1\" class=\"dataframe\">\n",
       "  <thead>\n",
       "    <tr style=\"text-align: right;\">\n",
       "      <th></th>\n",
       "      <th>LD1</th>\n",
       "      <th>LD2</th>\n",
       "      <th>Species</th>\n",
       "    </tr>\n",
       "  </thead>\n",
       "  <tbody>\n",
       "    <tr>\n",
       "      <th>0</th>\n",
       "      <td>0.404338</td>\n",
       "      <td>0.147404</td>\n",
       "      <td>1</td>\n",
       "    </tr>\n",
       "    <tr>\n",
       "      <th>1</th>\n",
       "      <td>0.681927</td>\n",
       "      <td>1.413248</td>\n",
       "      <td>0</td>\n",
       "    </tr>\n",
       "    <tr>\n",
       "      <th>2</th>\n",
       "      <td>1.145447</td>\n",
       "      <td>0.826191</td>\n",
       "      <td>0</td>\n",
       "    </tr>\n",
       "    <tr>\n",
       "      <th>3</th>\n",
       "      <td>-1.004531</td>\n",
       "      <td>1.080550</td>\n",
       "      <td>0</td>\n",
       "    </tr>\n",
       "    <tr>\n",
       "      <th>4</th>\n",
       "      <td>1.702020</td>\n",
       "      <td>1.396468</td>\n",
       "      <td>0</td>\n",
       "    </tr>\n",
       "  </tbody>\n",
       "</table>\n",
       "</div>"
      ],
      "text/plain": [
       "        LD1       LD2  Species\n",
       "0  0.404338  0.147404        1\n",
       "1  0.681927  1.413248        0\n",
       "2  1.145447  0.826191        0\n",
       "3 -1.004531  1.080550        0\n",
       "4  1.702020  1.396468        0"
      ]
     },
     "execution_count": 177,
     "metadata": {},
     "output_type": "execute_result"
    }
   ],
   "source": [
    "LDA_scores['Species'] = y\n",
    "LDA_scores.head()"
   ]
  },
  {
   "cell_type": "code",
   "execution_count": 178,
   "metadata": {},
   "outputs": [
    {
     "data": {
      "text/html": [
       "<div>\n",
       "<style scoped>\n",
       "    .dataframe tbody tr th:only-of-type {\n",
       "        vertical-align: middle;\n",
       "    }\n",
       "\n",
       "    .dataframe tbody tr th {\n",
       "        vertical-align: top;\n",
       "    }\n",
       "\n",
       "    .dataframe thead th {\n",
       "        text-align: right;\n",
       "    }\n",
       "</style>\n",
       "<table border=\"1\" class=\"dataframe\">\n",
       "  <thead>\n",
       "    <tr style=\"text-align: right;\">\n",
       "      <th></th>\n",
       "      <th>LD1</th>\n",
       "      <th>LD2</th>\n",
       "      <th>Species</th>\n",
       "    </tr>\n",
       "  </thead>\n",
       "  <tbody>\n",
       "    <tr>\n",
       "      <th>0</th>\n",
       "      <td>0.404338</td>\n",
       "      <td>0.147404</td>\n",
       "      <td>激进</td>\n",
       "    </tr>\n",
       "    <tr>\n",
       "      <th>1</th>\n",
       "      <td>0.681927</td>\n",
       "      <td>1.413248</td>\n",
       "      <td>疲劳</td>\n",
       "    </tr>\n",
       "    <tr>\n",
       "      <th>2</th>\n",
       "      <td>1.145447</td>\n",
       "      <td>0.826191</td>\n",
       "      <td>疲劳</td>\n",
       "    </tr>\n",
       "    <tr>\n",
       "      <th>3</th>\n",
       "      <td>-1.004531</td>\n",
       "      <td>1.080550</td>\n",
       "      <td>疲劳</td>\n",
       "    </tr>\n",
       "    <tr>\n",
       "      <th>4</th>\n",
       "      <td>1.702020</td>\n",
       "      <td>1.396468</td>\n",
       "      <td>疲劳</td>\n",
       "    </tr>\n",
       "    <tr>\n",
       "      <th>443</th>\n",
       "      <td>1.264468</td>\n",
       "      <td>0.085045</td>\n",
       "      <td>疲劳</td>\n",
       "    </tr>\n",
       "    <tr>\n",
       "      <th>444</th>\n",
       "      <td>1.243790</td>\n",
       "      <td>0.128394</td>\n",
       "      <td>疲劳</td>\n",
       "    </tr>\n",
       "    <tr>\n",
       "      <th>445</th>\n",
       "      <td>0.590097</td>\n",
       "      <td>-1.341831</td>\n",
       "      <td>疲劳</td>\n",
       "    </tr>\n",
       "    <tr>\n",
       "      <th>446</th>\n",
       "      <td>0.271670</td>\n",
       "      <td>-1.325516</td>\n",
       "      <td>疲劳</td>\n",
       "    </tr>\n",
       "    <tr>\n",
       "      <th>447</th>\n",
       "      <td>0.644735</td>\n",
       "      <td>-0.444555</td>\n",
       "      <td>疲劳</td>\n",
       "    </tr>\n",
       "  </tbody>\n",
       "</table>\n",
       "</div>"
      ],
      "text/plain": [
       "          LD1       LD2 Species\n",
       "0    0.404338  0.147404      激进\n",
       "1    0.681927  1.413248      疲劳\n",
       "2    1.145447  0.826191      疲劳\n",
       "3   -1.004531  1.080550      疲劳\n",
       "4    1.702020  1.396468      疲劳\n",
       "443  1.264468  0.085045      疲劳\n",
       "444  1.243790  0.128394      疲劳\n",
       "445  0.590097 -1.341831      疲劳\n",
       "446  0.271670 -1.325516      疲劳\n",
       "447  0.644735 -0.444555      疲劳"
      ]
     },
     "execution_count": 178,
     "metadata": {},
     "output_type": "execute_result"
    }
   ],
   "source": [
    "d = {0: '疲劳', 1: '激进', 2: '稳健'}\n",
    "LDA_scores['Species'] = LDA_scores['Species'].map(d) \n",
    "LDA_scores.head().append(LDA_scores.tail())"
   ]
  },
  {
   "cell_type": "markdown",
   "metadata": {},
   "source": [
    "朴素贝叶斯模型"
   ]
  },
  {
   "cell_type": "code",
   "execution_count": 182,
   "metadata": {},
   "outputs": [],
   "source": [
    "X1=data.drop(['labels'],axis=1)\n",
    "y=data['labels']"
   ]
  },
  {
   "cell_type": "code",
   "execution_count": 183,
   "metadata": {},
   "outputs": [],
   "source": [
    "def nb_fit(X1,y):\n",
    "    classes=y.unique()\n",
    "    class_count=y.value_counts()\n",
    "    class_prior=class_count/len(y)\n",
    "    prior=dict()\n",
    "    for col in X1.columns:\n",
    "        for j in classes:\n",
    "            p_x_y=X1[(y==j).values][col].value_counts()\n",
    "            for i in p_x_y.index:\n",
    "                prior[(col,i,j)]=p_x_y[i]/class_count[j]\n",
    "    return classes,class_prior,prior"
   ]
  },
  {
   "cell_type": "code",
   "execution_count": 184,
   "metadata": {},
   "outputs": [
    {
     "data": {
      "text/plain": [
       "(array([2, 1, 0], dtype=int64),\n",
       " 0    0.600446\n",
       " 1    0.245536\n",
       " 2    0.154018\n",
       " Name: labels, dtype: float64,\n",
       " {('车辆编码', 'AD00151', 2): 0.014492753623188406,\n",
       "  ('车辆编码', 'AD00161', 2): 0.014492753623188406,\n",
       "  ('车辆编码', 'AF00185', 2): 0.014492753623188406,\n",
       "  ('车辆编码', 'AD00040', 2): 0.014492753623188406,\n",
       "  ('车辆编码', 'AD00135', 2): 0.014492753623188406,\n",
       "  ('车辆编码', 'AD00074', 2): 0.014492753623188406,\n",
       "  ('车辆编码', 'AD00137', 2): 0.014492753623188406,\n",
       "  ('车辆编码', 'AD00041', 2): 0.014492753623188406,\n",
       "  ('车辆编码', 'AD00123', 2): 0.014492753623188406,\n",
       "  ('车辆编码', 'AF00049', 2): 0.014492753623188406,\n",
       "  ('车辆编码', 'AD00138', 2): 0.014492753623188406,\n",
       "  ('车辆编码', 'AD00100', 2): 0.014492753623188406,\n",
       "  ('车辆编码', 'AA00164', 2): 0.014492753623188406,\n",
       "  ('车辆编码', 'AD00106', 2): 0.014492753623188406,\n",
       "  ('车辆编码', 'AD00144', 2): 0.014492753623188406,\n",
       "  ('车辆编码', 'AD00027', 2): 0.014492753623188406,\n",
       "  ('车辆编码', 'AD00088', 2): 0.014492753623188406,\n",
       "  ('车辆编码', 'AD00070', 2): 0.014492753623188406,\n",
       "  ('车辆编码', 'AA00445', 2): 0.014492753623188406,\n",
       "  ('车辆编码', 'AD00020', 2): 0.014492753623188406,\n",
       "  ('车辆编码', 'AB00011', 2): 0.014492753623188406,\n",
       "  ('车辆编码', 'AD00022', 2): 0.014492753623188406,\n",
       "  ('车辆编码', 'AD00162', 2): 0.014492753623188406,\n",
       "  ('车辆编码', 'AD00156', 2): 0.014492753623188406,\n",
       "  ('车辆编码', 'AB00210', 2): 0.014492753623188406,\n",
       "  ('车辆编码', 'AD00134', 2): 0.014492753623188406,\n",
       "  ('车辆编码', 'AF00107', 2): 0.014492753623188406,\n",
       "  ('车辆编码', 'AD00075', 2): 0.014492753623188406,\n",
       "  ('车辆编码', 'AD00021', 2): 0.014492753623188406,\n",
       "  ('车辆编码', 'AD00024', 2): 0.014492753623188406,\n",
       "  ('车辆编码', 'AD00178', 2): 0.014492753623188406,\n",
       "  ('车辆编码', 'AD00127', 2): 0.014492753623188406,\n",
       "  ('车辆编码', 'AB00007', 2): 0.014492753623188406,\n",
       "  ('车辆编码', 'AD00113', 2): 0.014492753623188406,\n",
       "  ('车辆编码', 'AD00057', 2): 0.014492753623188406,\n",
       "  ('车辆编码', 'AD00073', 2): 0.014492753623188406,\n",
       "  ('车辆编码', 'AD00043', 2): 0.014492753623188406,\n",
       "  ('车辆编码', 'AD00065', 2): 0.014492753623188406,\n",
       "  ('车辆编码', 'AD00471', 2): 0.014492753623188406,\n",
       "  ('车辆编码', 'AA00051', 2): 0.014492753623188406,\n",
       "  ('车辆编码', 'AD00129', 2): 0.014492753623188406,\n",
       "  ('车辆编码', 'AD00165', 2): 0.014492753623188406,\n",
       "  ('车辆编码', 'AD00048', 2): 0.014492753623188406,\n",
       "  ('车辆编码', 'AA00148', 2): 0.014492753623188406,\n",
       "  ('车辆编码', 'AD00124', 2): 0.014492753623188406,\n",
       "  ('车辆编码', 'AD00166', 2): 0.014492753623188406,\n",
       "  ('车辆编码', 'AD00152', 2): 0.014492753623188406,\n",
       "  ('车辆编码', 'AD00019', 2): 0.014492753623188406,\n",
       "  ('车辆编码', 'AD00158', 2): 0.014492753623188406,\n",
       "  ('车辆编码', 'AD00145', 2): 0.014492753623188406,\n",
       "  ('车辆编码', 'AD00141', 2): 0.014492753623188406,\n",
       "  ('车辆编码', 'AD00150', 2): 0.014492753623188406,\n",
       "  ('车辆编码', 'AD00189', 2): 0.014492753623188406,\n",
       "  ('车辆编码', 'AF00187', 2): 0.014492753623188406,\n",
       "  ('车辆编码', 'AF00032', 2): 0.014492753623188406,\n",
       "  ('车辆编码', 'AB00006', 2): 0.014492753623188406,\n",
       "  ('车辆编码', 'AD00103', 2): 0.014492753623188406,\n",
       "  ('车辆编码', 'AD00068', 2): 0.014492753623188406,\n",
       "  ('车辆编码', 'AD00163', 2): 0.014492753623188406,\n",
       "  ('车辆编码', 'AA00069', 2): 0.014492753623188406,\n",
       "  ('车辆编码', 'AA00001', 2): 0.014492753623188406,\n",
       "  ('车辆编码', 'AD00147', 2): 0.014492753623188406,\n",
       "  ('车辆编码', 'AA00154', 2): 0.014492753623188406,\n",
       "  ('车辆编码', 'AD00053', 2): 0.014492753623188406,\n",
       "  ('车辆编码', 'AD00013', 2): 0.014492753623188406,\n",
       "  ('车辆编码', 'AD00076', 2): 0.014492753623188406,\n",
       "  ('车辆编码', 'AF00098', 2): 0.014492753623188406,\n",
       "  ('车辆编码', 'AD00140', 2): 0.014492753623188406,\n",
       "  ('车辆编码', 'AD00083', 2): 0.014492753623188406,\n",
       "  ('车辆编码', 'AD00355', 1): 0.00909090909090909,\n",
       "  ('车辆编码', 'AD00332', 1): 0.00909090909090909,\n",
       "  ('车辆编码', 'AA00382', 1): 0.00909090909090909,\n",
       "  ('车辆编码', 'AM00268', 1): 0.00909090909090909,\n",
       "  ('车辆编码', 'AA00317', 1): 0.00909090909090909,\n",
       "  ('车辆编码', 'AA00299', 1): 0.00909090909090909,\n",
       "  ('车辆编码', 'AA00004', 1): 0.00909090909090909,\n",
       "  ('车辆编码', 'AA00374', 1): 0.00909090909090909,\n",
       "  ('车辆编码', 'AD00309', 1): 0.00909090909090909,\n",
       "  ('车辆编码', 'AD00174', 1): 0.00909090909090909,\n",
       "  ('车辆编码', 'AD00403', 1): 0.00909090909090909,\n",
       "  ('车辆编码', 'AE00295', 1): 0.00909090909090909,\n",
       "  ('车辆编码', 'AD00291', 1): 0.00909090909090909,\n",
       "  ('车辆编码', 'AD00472', 1): 0.00909090909090909,\n",
       "  ('车辆编码', 'AF00467', 1): 0.00909090909090909,\n",
       "  ('车辆编码', 'AA00306', 1): 0.00909090909090909,\n",
       "  ('车辆编码', 'AB00386', 1): 0.00909090909090909,\n",
       "  ('车辆编码', 'AM00035', 1): 0.00909090909090909,\n",
       "  ('车辆编码', 'AM00062', 1): 0.00909090909090909,\n",
       "  ('车辆编码', 'AF00459', 1): 0.00909090909090909,\n",
       "  ('车辆编码', 'AB00201', 1): 0.00909090909090909,\n",
       "  ('车辆编码', 'AA00128', 1): 0.00909090909090909,\n",
       "  ('车辆编码', 'AD00292', 1): 0.00909090909090909,\n",
       "  ('车辆编码', 'AA00262', 1): 0.00909090909090909,\n",
       "  ('车辆编码', 'AB00333', 1): 0.00909090909090909,\n",
       "  ('车辆编码', 'AD00050', 1): 0.00909090909090909,\n",
       "  ('车辆编码', 'AD00412', 1): 0.00909090909090909,\n",
       "  ('车辆编码', 'AD00009', 1): 0.00909090909090909,\n",
       "  ('车辆编码', 'AM00428', 1): 0.00909090909090909,\n",
       "  ('车辆编码', 'AB00012', 1): 0.00909090909090909,\n",
       "  ('车辆编码', 'AD00247', 1): 0.00909090909090909,\n",
       "  ('车辆编码', 'AB00276', 1): 0.00909090909090909,\n",
       "  ('车辆编码', 'AD00369', 1): 0.00909090909090909,\n",
       "  ('车辆编码', 'AE00447', 1): 0.00909090909090909,\n",
       "  ('车辆编码', 'AD00396', 1): 0.00909090909090909,\n",
       "  ('车辆编码', 'AE00226', 1): 0.00909090909090909,\n",
       "  ('车辆编码', 'AD00328', 1): 0.00909090909090909,\n",
       "  ('车辆编码', 'AD00223', 1): 0.00909090909090909,\n",
       "  ('车辆编码', 'AD00314', 1): 0.00909090909090909,\n",
       "  ('车辆编码', 'AD00320', 1): 0.00909090909090909,\n",
       "  ('车辆编码', 'AA00364', 1): 0.00909090909090909,\n",
       "  ('车辆编码', 'AA00219', 1): 0.00909090909090909,\n",
       "  ('车辆编码', 'AA00455', 1): 0.00909090909090909,\n",
       "  ('车辆编码', 'AA00324', 1): 0.00909090909090909,\n",
       "  ('车辆编码', 'AB00365', 1): 0.00909090909090909,\n",
       "  ('车辆编码', 'AD00037', 1): 0.00909090909090909,\n",
       "  ('车辆编码', 'AB00351', 1): 0.00909090909090909,\n",
       "  ('车辆编码', 'AD00387', 1): 0.00909090909090909,\n",
       "  ('车辆编码', 'AA00239', 1): 0.00909090909090909,\n",
       "  ('车辆编码', 'AA00173', 1): 0.00909090909090909,\n",
       "  ('车辆编码', 'AF00342', 1): 0.00909090909090909,\n",
       "  ('车辆编码', 'AA00430', 1): 0.00909090909090909,\n",
       "  ('车辆编码', 'AD00400', 1): 0.00909090909090909,\n",
       "  ('车辆编码', 'AA00238', 1): 0.00909090909090909,\n",
       "  ('车辆编码', 'AD00023', 1): 0.00909090909090909,\n",
       "  ('车辆编码', 'AA00272', 1): 0.00909090909090909,\n",
       "  ('车辆编码', 'AD00126', 1): 0.00909090909090909,\n",
       "  ('车辆编码', 'AF00258', 1): 0.00909090909090909,\n",
       "  ('车辆编码', 'AA00228', 1): 0.00909090909090909,\n",
       "  ('车辆编码', 'AD00026', 1): 0.00909090909090909,\n",
       "  ('车辆编码', 'AM00034', 1): 0.00909090909090909,\n",
       "  ('车辆编码', 'AD00437', 1): 0.00909090909090909,\n",
       "  ('车辆编码', 'AD00194', 1): 0.00909090909090909,\n",
       "  ('车辆编码', 'AD00245', 1): 0.00909090909090909,\n",
       "  ('车辆编码', 'AA00052', 1): 0.00909090909090909,\n",
       "  ('车辆编码', 'AE00300', 1): 0.00909090909090909,\n",
       "  ('车辆编码', 'AD00344', 1): 0.00909090909090909,\n",
       "  ('车辆编码', 'AA00146', 1): 0.00909090909090909,\n",
       "  ('车辆编码', 'AB00265', 1): 0.00909090909090909,\n",
       "  ('车辆编码', 'AD00038', 1): 0.00909090909090909,\n",
       "  ('车辆编码', 'AD00267', 1): 0.00909090909090909,\n",
       "  ('车辆编码', 'AA00322', 1): 0.00909090909090909,\n",
       "  ('车辆编码', 'AD00290', 1): 0.00909090909090909,\n",
       "  ('车辆编码', 'AD00361', 1): 0.00909090909090909,\n",
       "  ('车辆编码', 'AE00028', 1): 0.00909090909090909,\n",
       "  ('车辆编码', 'AA00045', 1): 0.00909090909090909,\n",
       "  ('车辆编码', 'AD00213', 1): 0.00909090909090909,\n",
       "  ('车辆编码', 'AD00438', 1): 0.00909090909090909,\n",
       "  ('车辆编码', 'AA00125', 1): 0.00909090909090909,\n",
       "  ('车辆编码', 'AE00269', 1): 0.00909090909090909,\n",
       "  ('车辆编码', 'AB00395', 1): 0.00909090909090909,\n",
       "  ('车辆编码', 'AD00159', 1): 0.00909090909090909,\n",
       "  ('车辆编码', 'AA00118', 1): 0.00909090909090909,\n",
       "  ('车辆编码', 'AM00155', 1): 0.00909090909090909,\n",
       "  ('车辆编码', 'AA00456', 1): 0.00909090909090909,\n",
       "  ('车辆编码', 'AA00388', 1): 0.00909090909090909,\n",
       "  ('车辆编码', 'AA00195', 1): 0.00909090909090909,\n",
       "  ('车辆编码', 'AB00234', 1): 0.00909090909090909,\n",
       "  ('车辆编码', 'AB00319', 1): 0.00909090909090909,\n",
       "  ('车辆编码', 'AA00439', 1): 0.00909090909090909,\n",
       "  ('车辆编码', 'AM00033', 1): 0.00909090909090909,\n",
       "  ('车辆编码', 'AA00143', 1): 0.00909090909090909,\n",
       "  ('车辆编码', 'AA00002', 1): 0.00909090909090909,\n",
       "  ('车辆编码', 'AM00227', 1): 0.00909090909090909,\n",
       "  ('车辆编码', 'AD00315', 1): 0.00909090909090909,\n",
       "  ('车辆编码', 'AA00422', 1): 0.00909090909090909,\n",
       "  ('车辆编码', 'AA00235', 1): 0.00909090909090909,\n",
       "  ('车辆编码', 'AA00036', 1): 0.00909090909090909,\n",
       "  ('车辆编码', 'AA00212', 1): 0.00909090909090909,\n",
       "  ('车辆编码', 'AA00188', 1): 0.00909090909090909,\n",
       "  ('车辆编码', 'AB00257', 1): 0.00909090909090909,\n",
       "  ('车辆编码', 'AB00005', 1): 0.00909090909090909,\n",
       "  ('车辆编码', 'AM00282', 1): 0.00909090909090909,\n",
       "  ('车辆编码', 'AD00224', 1): 0.00909090909090909,\n",
       "  ('车辆编码', 'AA00404', 1): 0.00909090909090909,\n",
       "  ('车辆编码', 'AB00465', 1): 0.00909090909090909,\n",
       "  ('车辆编码', 'AB00261', 1): 0.00909090909090909,\n",
       "  ('车辆编码', 'AA00160', 1): 0.00909090909090909,\n",
       "  ('车辆编码', 'AF00218', 1): 0.00909090909090909,\n",
       "  ('车辆编码', 'AA00279', 1): 0.00909090909090909,\n",
       "  ('车辆编码', 'AD00391', 0): 0.0037174721189591076,\n",
       "  ('车辆编码', 'AA00061', 0): 0.0037174721189591076,\n",
       "  ('车辆编码', 'AD00089', 0): 0.0037174721189591076,\n",
       "  ('车辆编码', 'AD00039', 0): 0.0037174721189591076,\n",
       "  ('车辆编码', 'AF00168', 0): 0.0037174721189591076,\n",
       "  ('车辆编码', 'AA00296', 0): 0.0037174721189591076,\n",
       "  ('车辆编码', 'AD00114', 0): 0.0037174721189591076,\n",
       "  ('车辆编码', 'AB00200', 0): 0.0037174721189591076,\n",
       "  ('车辆编码', 'AD00018', 0): 0.0037174721189591076,\n",
       "  ('车辆编码', 'AD00427', 0): 0.0037174721189591076,\n",
       "  ('车辆编码', 'AA00346', 0): 0.0037174721189591076,\n",
       "  ('车辆编码', 'AD00432', 0): 0.0037174721189591076,\n",
       "  ('车辆编码', 'AD00246', 0): 0.0037174721189591076,\n",
       "  ('车辆编码', 'AF00139', 0): 0.0037174721189591076,\n",
       "  ('车辆编码', 'AF00169', 0): 0.0037174721189591076,\n",
       "  ('车辆编码', 'AF00401', 0): 0.0037174721189591076,\n",
       "  ('车辆编码', 'AF00409', 0): 0.0037174721189591076,\n",
       "  ('车辆编码', 'AF00405', 0): 0.0037174721189591076,\n",
       "  ('车辆编码', 'AD00225', 0): 0.0037174721189591076,\n",
       "  ('车辆编码', 'AD00347', 0): 0.0037174721189591076,\n",
       "  ('车辆编码', 'AD00205', 0): 0.0037174721189591076,\n",
       "  ('车辆编码', 'AD00444', 0): 0.0037174721189591076,\n",
       "  ('车辆编码', 'AB00010', 0): 0.0037174721189591076,\n",
       "  ('车辆编码', 'AA00232', 0): 0.0037174721189591076,\n",
       "  ('车辆编码', 'AD00298', 0): 0.0037174721189591076,\n",
       "  ('车辆编码', 'AD00236', 0): 0.0037174721189591076,\n",
       "  ('车辆编码', 'AD00297', 0): 0.0037174721189591076,\n",
       "  ('车辆编码', 'AD00340', 0): 0.0037174721189591076,\n",
       "  ('车辆编码', 'AF00263', 0): 0.0037174721189591076,\n",
       "  ('车辆编码', 'AD00015', 0): 0.0037174721189591076,\n",
       "  ('车辆编码', 'AD00248', 0): 0.0037174721189591076,\n",
       "  ('车辆编码', 'AA00211', 0): 0.0037174721189591076,\n",
       "  ('车辆编码', 'AB00453', 0): 0.0037174721189591076,\n",
       "  ('车辆编码', 'AD00350', 0): 0.0037174721189591076,\n",
       "  ('车辆编码', 'AF00273', 0): 0.0037174721189591076,\n",
       "  ('车辆编码', 'AF00042', 0): 0.0037174721189591076,\n",
       "  ('车辆编码', 'AD00190', 0): 0.0037174721189591076,\n",
       "  ('车辆编码', 'AF00091', 0): 0.0037174721189591076,\n",
       "  ('车辆编码', 'AB00206', 0): 0.0037174721189591076,\n",
       "  ('车辆编码', 'AF00373', 0): 0.0037174721189591076,\n",
       "  ('车辆编码', 'AD00461', 0): 0.0037174721189591076,\n",
       "  ('车辆编码', 'AM00274', 0): 0.0037174721189591076,\n",
       "  ('车辆编码', 'AD00017', 0): 0.0037174721189591076,\n",
       "  ('车辆编码', 'AD00082', 0): 0.0037174721189591076,\n",
       "  ('车辆编码', 'AD00250', 0): 0.0037174721189591076,\n",
       "  ('车辆编码', 'AD00259', 0): 0.0037174721189591076,\n",
       "  ('车辆编码', 'AD00283', 0): 0.0037174721189591076,\n",
       "  ('车辆编码', 'AF00414', 0): 0.0037174721189591076,\n",
       "  ('车辆编码', 'AB00284', 0): 0.0037174721189591076,\n",
       "  ('车辆编码', 'AF00426', 0): 0.0037174721189591076,\n",
       "  ('车辆编码', 'AA00381', 0): 0.0037174721189591076,\n",
       "  ('车辆编码', 'AD00110', 0): 0.0037174721189591076,\n",
       "  ('车辆编码', 'AD00416', 0): 0.0037174721189591076,\n",
       "  ('车辆编码', 'AD00410', 0): 0.0037174721189591076,\n",
       "  ('车辆编码', 'AD00256', 0): 0.0037174721189591076,\n",
       "  ('车辆编码', 'AF00278', 0): 0.0037174721189591076,\n",
       "  ('车辆编码', 'AD00132', 0): 0.0037174721189591076,\n",
       "  ('车辆编码', 'AD00294', 0): 0.0037174721189591076,\n",
       "  ('车辆编码', 'AF00030', 0): 0.0037174721189591076,\n",
       "  ('车辆编码', 'AF00221', 0): 0.0037174721189591076,\n",
       "  ('车辆编码', 'AF00199', 0): 0.0037174721189591076,\n",
       "  ('车辆编码', 'AA00286', 0): 0.0037174721189591076,\n",
       "  ('车辆编码', 'AF00095', 0): 0.0037174721189591076,\n",
       "  ('车辆编码', 'AD00366', 0): 0.0037174721189591076,\n",
       "  ('车辆编码', 'AF00142', 0): 0.0037174721189591076,\n",
       "  ('车辆编码', 'AA00325', 0): 0.0037174721189591076,\n",
       "  ('车辆编码', 'AD00090', 0): 0.0037174721189591076,\n",
       "  ('车辆编码', 'AD00338', 0): 0.0037174721189591076,\n",
       "  ('车辆编码', 'AD00287', 0): 0.0037174721189591076,\n",
       "  ('车辆编码', 'AA00202', 0): 0.0037174721189591076,\n",
       "  ('车辆编码', 'AF00266', 0): 0.0037174721189591076,\n",
       "  ('车辆编码', 'AD00109', 0): 0.0037174721189591076,\n",
       "  ('车辆编码', 'AB00370', 0): 0.0037174721189591076,\n",
       "  ('车辆编码', 'AF00253', 0): 0.0037174721189591076,\n",
       "  ('车辆编码', 'AD00101', 0): 0.0037174721189591076,\n",
       "  ('车辆编码', 'AF00393', 0): 0.0037174721189591076,\n",
       "  ('车辆编码', 'AF00116', 0): 0.0037174721189591076,\n",
       "  ('车辆编码', 'AD00003', 0): 0.0037174721189591076,\n",
       "  ('车辆编码', 'AF00406', 0): 0.0037174721189591076,\n",
       "  ('车辆编码', 'AF00111', 0): 0.0037174721189591076,\n",
       "  ('车辆编码', 'AD00419', 0): 0.0037174721189591076,\n",
       "  ('车辆编码', 'AD00099', 0): 0.0037174721189591076,\n",
       "  ('车辆编码', 'AD00014', 0): 0.0037174721189591076,\n",
       "  ('车辆编码', 'AB00380', 0): 0.0037174721189591076,\n",
       "  ('车辆编码', 'AD00078', 0): 0.0037174721189591076,\n",
       "  ('车辆编码', 'AF00093', 0): 0.0037174721189591076,\n",
       "  ('车辆编码', 'AB00458', 0): 0.0037174721189591076,\n",
       "  ('车辆编码', 'AD00193', 0): 0.0037174721189591076,\n",
       "  ('车辆编码', 'AD00130', 0): 0.0037174721189591076,\n",
       "  ('车辆编码', 'AB00198', 0): 0.0037174721189591076,\n",
       "  ('车辆编码', 'AD00376', 0): 0.0037174721189591076,\n",
       "  ('车辆编码', 'AD00170', 0): 0.0037174721189591076,\n",
       "  ('车辆编码', 'AD00175', 0): 0.0037174721189591076,\n",
       "  ('车辆编码', 'AF00087', 0): 0.0037174721189591076,\n",
       "  ('车辆编码', 'AM00176', 0): 0.0037174721189591076,\n",
       "  ('车辆编码', 'AF00413', 0): 0.0037174721189591076,\n",
       "  ('车辆编码', 'AF00441', 0): 0.0037174721189591076,\n",
       "  ('车辆编码', 'AB00435', 0): 0.0037174721189591076,\n",
       "  ('车辆编码', 'AD00097', 0): 0.0037174721189591076,\n",
       "  ('车辆编码', 'AF00197', 0): 0.0037174721189591076,\n",
       "  ('车辆编码', 'AD00277', 0): 0.0037174721189591076,\n",
       "  ('车辆编码', 'AD00072', 0): 0.0037174721189591076,\n",
       "  ('车辆编码', 'AD00418', 0): 0.0037174721189591076,\n",
       "  ('车辆编码', 'AD00415', 0): 0.0037174721189591076,\n",
       "  ('车辆编码', 'AF00243', 0): 0.0037174721189591076,\n",
       "  ('车辆编码', 'AF00442', 0): 0.0037174721189591076,\n",
       "  ('车辆编码', 'AF00329', 0): 0.0037174721189591076,\n",
       "  ('车辆编码', 'AF00367', 0): 0.0037174721189591076,\n",
       "  ('车辆编码', 'AF00463', 0): 0.0037174721189591076,\n",
       "  ('车辆编码', 'AB00240', 0): 0.0037174721189591076,\n",
       "  ('车辆编码', 'AB00452', 0): 0.0037174721189591076,\n",
       "  ('车辆编码', 'AB00008', 0): 0.0037174721189591076,\n",
       "  ('车辆编码', 'AF00378', 0): 0.0037174721189591076,\n",
       "  ('车辆编码', 'AF00255', 0): 0.0037174721189591076,\n",
       "  ('车辆编码', 'AD00086', 0): 0.0037174721189591076,\n",
       "  ('车辆编码', 'AF00136', 0): 0.0037174721189591076,\n",
       "  ('车辆编码', 'AF00420', 0): 0.0037174721189591076,\n",
       "  ('车辆编码', 'AD00120', 0): 0.0037174721189591076,\n",
       "  ('车辆编码', 'AD00104', 0): 0.0037174721189591076,\n",
       "  ('车辆编码', 'AF00275', 0): 0.0037174721189591076,\n",
       "  ('车辆编码', 'AM00343', 0): 0.0037174721189591076,\n",
       "  ('车辆编码', 'AA00251', 0): 0.0037174721189591076,\n",
       "  ('车辆编码', 'AD00192', 0): 0.0037174721189591076,\n",
       "  ('车辆编码', 'AB00354', 0): 0.0037174721189591076,\n",
       "  ('车辆编码', 'AA00434', 0): 0.0037174721189591076,\n",
       "  ('车辆编码', 'AB00407', 0): 0.0037174721189591076,\n",
       "  ('车辆编码', 'AD00357', 0): 0.0037174721189591076,\n",
       "  ('车辆编码', 'AF00244', 0): 0.0037174721189591076,\n",
       "  ('车辆编码', 'AF00305', 0): 0.0037174721189591076,\n",
       "  ('车辆编码', 'AF00436', 0): 0.0037174721189591076,\n",
       "  ('车辆编码', 'AF00399', 0): 0.0037174721189591076,\n",
       "  ('车辆编码', 'AD00252', 0): 0.0037174721189591076,\n",
       "  ('车辆编码', 'AF00348', 0): 0.0037174721189591076,\n",
       "  ('车辆编码', 'AF00264', 0): 0.0037174721189591076,\n",
       "  ('车辆编码', 'AF00063', 0): 0.0037174721189591076,\n",
       "  ('车辆编码', 'AD00289', 0): 0.0037174721189591076,\n",
       "  ('车辆编码', 'AF00433', 0): 0.0037174721189591076,\n",
       "  ('车辆编码', 'AD00171', 0): 0.0037174721189591076,\n",
       "  ('车辆编码', 'AD00304', 0): 0.0037174721189591076,\n",
       "  ('车辆编码', 'AA00281', 0): 0.0037174721189591076,\n",
       "  ('车辆编码', 'AF00184', 0): 0.0037174721189591076,\n",
       "  ('车辆编码', 'AD00349', 0): 0.0037174721189591076,\n",
       "  ('车辆编码', 'AF00402', 0): 0.0037174721189591076,\n",
       "  ('车辆编码', 'AF00071', 0): 0.0037174721189591076,\n",
       "  ('车辆编码', 'AF00102', 0): 0.0037174721189591076,\n",
       "  ('车辆编码', 'AF00260', 0): 0.0037174721189591076,\n",
       "  ('车辆编码', 'AF00108', 0): 0.0037174721189591076,\n",
       "  ('车辆编码', 'AF00389', 0): 0.0037174721189591076,\n",
       "  ('车辆编码', 'AF00375', 0): 0.0037174721189591076,\n",
       "  ('车辆编码', 'AF00372', 0): 0.0037174721189591076,\n",
       "  ('车辆编码', 'AD00016', 0): 0.0037174721189591076,\n",
       "  ('车辆编码', 'AD00121', 0): 0.0037174721189591076,\n",
       "  ('车辆编码', 'AB00425', 0): 0.0037174721189591076,\n",
       "  ('车辆编码', 'AD00081', 0): 0.0037174721189591076,\n",
       "  ('车辆编码', 'AD00359', 0): 0.0037174721189591076,\n",
       "  ('车辆编码', 'AD00077', 0): 0.0037174721189591076,\n",
       "  ('车辆编码', 'AD00392', 0): 0.0037174721189591076,\n",
       "  ('车辆编码', 'AF00131', 0): 0.0037174721189591076,\n",
       "  ('车辆编码', 'AD00384', 0): 0.0037174721189591076,\n",
       "  ('车辆编码', 'AB00451', 0): 0.0037174721189591076,\n",
       "  ('车辆编码', 'AD00058', 0): 0.0037174721189591076,\n",
       "  ('车辆编码', 'AF00115', 0): 0.0037174721189591076,\n",
       "  ('车辆编码', 'AD00133', 0): 0.0037174721189591076,\n",
       "  ('车辆编码', 'AD00285', 0): 0.0037174721189591076,\n",
       "  ('车辆编码', 'AD00397', 0): 0.0037174721189591076,\n",
       "  ('车辆编码', 'AE00270', 0): 0.0037174721189591076,\n",
       "  ('车辆编码', 'AF00180', 0): 0.0037174721189591076,\n",
       "  ('车辆编码', 'AF00311', 0): 0.0037174721189591076,\n",
       "  ('车辆编码', 'AF00183', 0): 0.0037174721189591076,\n",
       "  ('车辆编码', 'AF00424', 0): 0.0037174721189591076,\n",
       "  ('车辆编码', 'AD00417', 0): 0.0037174721189591076,\n",
       "  ('车辆编码', 'AE00341', 0): 0.0037174721189591076,\n",
       "  ('车辆编码', 'AF00220', 0): 0.0037174721189591076,\n",
       "  ('车辆编码', 'AA00408', 0): 0.0037174721189591076,\n",
       "  ('车辆编码', 'AF00411', 0): 0.0037174721189591076,\n",
       "  ('车辆编码', 'AD00204', 0): 0.0037174721189591076,\n",
       "  ('车辆编码', 'AF00446', 0): 0.0037174721189591076,\n",
       "  ('车辆编码', 'AF00047', 0): 0.0037174721189591076,\n",
       "  ('车辆编码', 'AD00368', 0): 0.0037174721189591076,\n",
       "  ('车辆编码', 'AM00196', 0): 0.0037174721189591076,\n",
       "  ('车辆编码', 'AB00334', 0): 0.0037174721189591076,\n",
       "  ('车辆编码', 'AA00301', 0): 0.0037174721189591076,\n",
       "  ('车辆编码', 'AD00429', 0): 0.0037174721189591076,\n",
       "  ('车辆编码', 'AF00390', 0): 0.0037174721189591076,\n",
       "  ('车辆编码', 'AB00440', 0): 0.0037174721189591076,\n",
       "  ('车辆编码', 'AM00394', 0): 0.0037174721189591076,\n",
       "  ('车辆编码', 'AD00182', 0): 0.0037174721189591076,\n",
       "  ('车辆编码', 'AB00336', 0): 0.0037174721189591076,\n",
       "  ('车辆编码', 'AF00448', 0): 0.0037174721189591076,\n",
       "  ('车辆编码', 'AF00318', 0): 0.0037174721189591076,\n",
       "  ('车辆编码', 'AB00215', 0): 0.0037174721189591076,\n",
       "  ('车辆编码', 'AB00457', 0): 0.0037174721189591076,\n",
       "  ('车辆编码', 'AF00157', 0): 0.0037174721189591076,\n",
       "  ('车辆编码', 'AB00363', 0): 0.0037174721189591076,\n",
       "  ('车辆编码', 'AF00358', 0): 0.0037174721189591076,\n",
       "  ('车辆编码', 'AF00066', 0): 0.0037174721189591076,\n",
       "  ('车辆编码', 'AD00233', 0): 0.0037174721189591076,\n",
       "  ('车辆编码', 'AF00371', 0): 0.0037174721189591076,\n",
       "  ('车辆编码', 'AF00044', 0): 0.0037174721189591076,\n",
       "  ('车辆编码', 'AD00431', 0): 0.0037174721189591076,\n",
       "  ('车辆编码', 'AB00230', 0): 0.0037174721189591076,\n",
       "  ('车辆编码', 'AD00186', 0): 0.0037174721189591076,\n",
       "  ('车辆编码', 'AD00443', 0): 0.0037174721189591076,\n",
       "  ('车辆编码', 'AF00216', 0): 0.0037174721189591076,\n",
       "  ('车辆编码', 'AD00025', 0): 0.0037174721189591076,\n",
       "  ('车辆编码', 'AF00029', 0): 0.0037174721189591076,\n",
       "  ('车辆编码', 'AD00310', 0): 0.0037174721189591076,\n",
       "  ('车辆编码', 'AF00464', 0): 0.0037174721189591076,\n",
       "  ('车辆编码', 'AF00398', 0): 0.0037174721189591076,\n",
       "  ('车辆编码', 'AF00096', 0): 0.0037174721189591076,\n",
       "  ('车辆编码', 'AF00421', 0): 0.0037174721189591076,\n",
       "  ('车辆编码', 'AB00360', 0): 0.0037174721189591076,\n",
       "  ('车辆编码', 'AF00122', 0): 0.0037174721189591076,\n",
       "  ('车辆编码', 'AF00084', 0): 0.0037174721189591076,\n",
       "  ('车辆编码', 'AF00167', 0): 0.0037174721189591076,\n",
       "  ('车辆编码', 'AF00288', 0): 0.0037174721189591076,\n",
       "  ('车辆编码', 'AF00321', 0): 0.0037174721189591076,\n",
       "  ('车辆编码', 'AD00449', 0): 0.0037174721189591076,\n",
       "  ('车辆编码', 'AD00207', 0): 0.0037174721189591076,\n",
       "  ('车辆编码', 'AA00460', 0): 0.0037174721189591076,\n",
       "  ('车辆编码', 'AF00092', 0): 0.0037174721189591076,\n",
       "  ('车辆编码', 'AD00117', 0): 0.0037174721189591076,\n",
       "  ('车辆编码', 'AB00362', 0): 0.0037174721189591076,\n",
       "  ('车辆编码', 'AF00312', 0): 0.0037174721189591076,\n",
       "  ('车辆编码', 'AF00379', 0): 0.0037174721189591076,\n",
       "  ('车辆编码', 'AF00462', 0): 0.0037174721189591076,\n",
       "  ('车辆编码', 'AF00119', 0): 0.0037174721189591076,\n",
       "  ('车辆编码', 'AM00337', 0): 0.0037174721189591076,\n",
       "  ('车辆编码', 'AM00271', 0): 0.0037174721189591076,\n",
       "  ('车辆编码', 'AF00094', 0): 0.0037174721189591076,\n",
       "  ('车辆编码', 'AD00179', 0): 0.0037174721189591076,\n",
       "  ('车辆编码', 'AF00056', 0): 0.0037174721189591076,\n",
       "  ('车辆编码', 'AA00316', 0): 0.0037174721189591076,\n",
       "  ('车辆编码', 'AF00085', 0): 0.0037174721189591076,\n",
       "  ('车辆编码', 'AB00191', 0): 0.0037174721189591076,\n",
       "  ('车辆编码', 'AF00313', 0): 0.0037174721189591076,\n",
       "  ('车辆编码', 'AF00352', 0): 0.0037174721189591076,\n",
       "  ('车辆编码', 'AD00208', 0): 0.0037174721189591076,\n",
       "  ('车辆编码', 'AD00046', 0): 0.0037174721189591076,\n",
       "  ('车辆编码', 'AF00339', 0): 0.0037174721189591076,\n",
       "  ('车辆编码', 'AF00153', 0): 0.0037174721189591076,\n",
       "  ('车辆编码', 'AD00331', 0): 0.0037174721189591076,\n",
       "  ('车辆编码', 'AF00054', 0): 0.0037174721189591076,\n",
       "  ('车辆编码', 'AF00079', 0): 0.0037174721189591076,\n",
       "  ('车辆编码', 'AF00214', 0): 0.0037174721189591076,\n",
       "  ('车辆编码', 'AF00383', 0): 0.0037174721189591076,\n",
       "  ('车辆编码', 'AD00080', 0): 0.0037174721189591076,\n",
       "  ('车辆编码', 'AF00308', 0): 0.0037174721189591076,\n",
       "  ('车辆编码', 'AA00055', 0): 0.0037174721189591076,\n",
       "  ('车辆编码', 'AF00249', 0): 0.0037174721189591076,\n",
       "  ('车辆编码', 'AD00064', 0): 0.0037174721189591076,\n",
       "  ('车辆编码', 'AA00377', 0): 0.0037174721189591076,\n",
       "  ('车辆编码', 'AF00172', 0): 0.0037174721189591076,\n",
       "  ('车辆编码', 'AF00031', 0): 0.0037174721189591076,\n",
       "  ('车辆编码', 'AD00307', 0): 0.0037174721189591076,\n",
       "  ('车辆编码', 'AB00237', 0): 0.0037174721189591076,\n",
       "  ('车辆编码', 'AA00060', 0): 0.0037174721189591076,\n",
       "  ('车辆编码', 'AD00254', 0): 0.0037174721189591076,\n",
       "  ('车辆编码', 'AA00203', 0): 0.0037174721189591076,\n",
       "  ('车辆编码', 'AA00303', 0): 0.0037174721189591076,\n",
       "  ('车辆编码', 'AD00423', 0): 0.0037174721189591076,\n",
       "  ('车辆编码', 'AD00302', 0): 0.0037174721189591076,\n",
       "  ('车辆编码', 'AD00209', 0): 0.0037174721189591076,\n",
       "  ('车辆编码', 'AF00385', 0): 0.0037174721189591076,\n",
       "  ('车辆编码', 'AF00323', 0): 0.0037174721189591076,\n",
       "  ('车辆编码', 'AD00067', 0): 0.0037174721189591076,\n",
       "  ('车辆编码', 'AD00327', 0): 0.0037174721189591076,\n",
       "  ('车辆编码', 'AA00345', 0): 0.0037174721189591076,\n",
       "  ('车辆编码', 'AD00450', 0): 0.0037174721189591076,\n",
       "  ('mileage', 1332, 2): 0.028985507246376812,\n",
       "  ('mileage', 1100, 2): 0.028985507246376812,\n",
       "  ('mileage', 895, 2): 0.014492753623188406,\n",
       "  ('mileage', 9003, 2): 0.014492753623188406,\n",
       "  ('mileage', 1098, 2): 0.014492753623188406,\n",
       "  ('mileage', 2852, 2): 0.014492753623188406,\n",
       "  ('mileage', 1317, 2): 0.014492753623188406,\n",
       "  ('mileage', 16550, 2): 0.014492753623188406,\n",
       "  ('mileage', 12200, 2): 0.014492753623188406,\n",
       "  ('mileage', 940, 2): 0.014492753623188406,\n",
       "  ('mileage', 827, 2): 0.014492753623188406,\n",
       "  ('mileage', 814, 2): 0.014492753623188406,\n",
       "  ('mileage', 1199, 2): 0.014492753623188406,\n",
       "  ('mileage', 816, 2): 0.014492753623188406,\n",
       "  ('mileage', 1073, 2): 0.014492753623188406,\n",
       "  ('mileage', 683, 2): 0.014492753623188406,\n",
       "  ('mileage', 800, 2): 0.014492753623188406,\n",
       "  ('mileage', 9887, 2): 0.014492753623188406,\n",
       "  ('mileage', 797, 2): 0.014492753623188406,\n",
       "  ('mileage', 922, 2): 0.014492753623188406,\n",
       "  ('mileage', 811, 2): 0.014492753623188406,\n",
       "  ('mileage', 1560, 2): 0.014492753623188406,\n",
       "  ('mileage', 7928, 2): 0.014492753623188406,\n",
       "  ('mileage', 914, 2): 0.014492753623188406,\n",
       "  ('mileage', 1295, 2): 0.014492753623188406,\n",
       "  ('mileage', 7565, 2): 0.014492753623188406,\n",
       "  ('mileage', 780, 2): 0.014492753623188406,\n",
       "  ('mileage', 779, 2): 0.014492753623188406,\n",
       "  ('mileage', 1097, 2): 0.014492753623188406,\n",
       "  ('mileage', 905, 2): 0.014492753623188406,\n",
       "  ('mileage', 2440, 2): 0.014492753623188406,\n",
       "  ('mileage', 1159, 2): 0.014492753623188406,\n",
       "  ('mileage', 1029, 2): 0.014492753623188406,\n",
       "  ('mileage', 799, 2): 0.014492753623188406,\n",
       "  ('mileage', 560, 2): 0.014492753623188406,\n",
       "  ('mileage', 1164, 2): 0.014492753623188406,\n",
       "  ('mileage', 1472, 2): 0.014492753623188406,\n",
       "  ('mileage', 892, 2): 0.014492753623188406,\n",
       "  ('mileage', 764, 2): 0.014492753623188406,\n",
       "  ('mileage', 6264, 2): 0.014492753623188406,\n",
       "  ('mileage', 7543, 2): 0.014492753623188406,\n",
       "  ('mileage', 1782, 2): 0.014492753623188406,\n",
       "  ('mileage', 1140, 2): 0.014492753623188406,\n",
       "  ('mileage', 6513, 2): 0.014492753623188406,\n",
       "  ('mileage', 879, 2): 0.014492753623188406,\n",
       "  ('mileage', 874, 2): 0.014492753623188406,\n",
       "  ('mileage', 872, 2): 0.014492753623188406,\n",
       "  ('mileage', 870, 2): 0.014492753623188406,\n",
       "  ('mileage', 1143, 2): 0.014492753623188406,\n",
       "  ('mileage', 995, 2): 0.014492753623188406,\n",
       "  ('mileage', 1189, 2): 0.014492753623188406,\n",
       "  ('mileage', 1119, 2): 0.014492753623188406,\n",
       "  ('mileage', 734, 2): 0.014492753623188406,\n",
       "  ('mileage', 1116, 2): 0.014492753623188406,\n",
       "  ('mileage', 1448, 2): 0.014492753623188406,\n",
       "  ('mileage', 881, 2): 0.014492753623188406,\n",
       "  ('mileage', 1235, 2): 0.014492753623188406,\n",
       "  ('mileage', 1047, 2): 0.014492753623188406,\n",
       "  ('mileage', 1032, 2): 0.014492753623188406,\n",
       "  ('mileage', 971, 2): 0.014492753623188406,\n",
       "  ('mileage', 12874, 2): 0.014492753623188406,\n",
       "  ('mileage', 713, 2): 0.014492753623188406,\n",
       "  ('mileage', 455, 2): 0.014492753623188406,\n",
       "  ('mileage', 8729, 2): 0.014492753623188406,\n",
       "  ('mileage', 707, 2): 0.014492753623188406,\n",
       "  ('mileage', 1089, 2): 0.014492753623188406,\n",
       "  ('mileage', 896, 2): 0.014492753623188406,\n",
       "  ('mileage', 3273, 1): 0.01818181818181818,\n",
       "  ('mileage', 1848, 1): 0.01818181818181818,\n",
       "  ('mileage', 1323, 1): 0.01818181818181818,\n",
       "  ('mileage', 8909, 1): 0.00909090909090909,\n",
       "  ('mileage', 2686, 1): 0.00909090909090909,\n",
       "  ('mileage', 3937, 1): 0.00909090909090909,\n",
       "  ('mileage', 4168, 1): 0.00909090909090909,\n",
       "  ('mileage', 1353, 1): 0.00909090909090909,\n",
       "  ('mileage', 592, 1): 0.00909090909090909,\n",
       "  ('mileage', 2385, 1): 0.00909090909090909,\n",
       "  ('mileage', 597, 1): 0.00909090909090909,\n",
       "  ('mileage', 1532, 1): 0.00909090909090909,\n",
       "  ('mileage', 6497, 1): 0.00909090909090909,\n",
       "  ('mileage', 1893, 1): 0.00909090909090909,\n",
       "  ('mileage', 2145, 1): 0.00909090909090909,\n",
       "  ('mileage', 4967, 1): 0.00909090909090909,\n",
       "  ('mileage', 1221, 1): 0.00909090909090909,\n",
       "  ('mileage', 633, 1): 0.00909090909090909,\n",
       "  ('mileage', 635, 1): 0.00909090909090909,\n",
       "  ('mileage', 2684, 1): 0.00909090909090909,\n",
       "  ('mileage', 987, 1): 0.00909090909090909,\n",
       "  ('mileage', 3200, 1): 0.00909090909090909,\n",
       "  ('mileage', 3716, 1): 0.00909090909090909,\n",
       "  ('mileage', 2949, 1): 0.00909090909090909,\n",
       "  ('mileage', 3462, 1): 0.00909090909090909,\n",
       "  ('mileage', 3719, 1): 0.00909090909090909,\n",
       "  ('mileage', 905, 1): 0.00909090909090909,\n",
       "  ('mileage', 3137, 1): 0.00909090909090909,\n",
       "  ('mileage', 2875, 1): 0.00909090909090909,\n",
       "  ('mileage', 572, 1): 0.00909090909090909,\n",
       "  ('mileage', 3876, 1): 0.00909090909090909,\n",
       "  ('mileage', 5588, 1): 0.00909090909090909,\n",
       "  ('mileage', 7951, 1): 0.00909090909090909,\n",
       "  ('mileage', 534, 1): 0.00909090909090909,\n",
       "  ('mileage', 1047, 1): 0.00909090909090909,\n",
       "  ('mileage', 3611, 1): 0.00909090909090909,\n",
       "  ('mileage', 5404, 1): 0.00909090909090909,\n",
       "  ('mileage', 37098, 1): 0.00909090909090909,\n",
       "  ('mileage', 4897, 1): 0.00909090909090909,\n",
       "  ('mileage', 5769, 1): 0.00909090909090909,\n",
       "  ('mileage', 1571, 1): 0.00909090909090909,\n",
       "  ('mileage', 806, 1): 0.00909090909090909,\n",
       "  ('mileage', 11149, 1): 0.00909090909090909,\n",
       "  ('mileage', 2599, 1): 0.00909090909090909,\n",
       "  ('mileage', 1302, 1): 0.00909090909090909,\n",
       "  ('mileage', 3118, 1): 0.00909090909090909,\n",
       "  ('mileage', 304, 1): 0.00909090909090909,\n",
       "  ('mileage', 3889, 1): 0.00909090909090909,\n",
       "  ('mileage', 3890, 1): 0.00909090909090909,\n",
       "  ('mileage', 6964, 1): 0.00909090909090909,\n",
       "  ('mileage', 4663, 1): 0.00909090909090909,\n",
       "  ('mileage', 3129, 1): 0.00909090909090909,\n",
       "  ('mileage', 6458, 1): 0.00909090909090909,\n",
       "  ('mileage', 138, 1): 0.00909090909090909,\n",
       "  ('mileage', 2448, 1): 0.00909090909090909,\n",
       "  ('mileage', 16380, 1): 0.00909090909090909,\n",
       "  ('mileage', 2193, 1): 0.00909090909090909,\n",
       "  ('mileage', 971, 1): 0.00909090909090909,\n",
       "  ('mileage', 2509, 1): 0.00909090909090909,\n",
       "  ('mileage', 8656, 1): 0.00909090909090909,\n",
       "  ('mileage', 977, 1): 0.00909090909090909,\n",
       "  ('mileage', 6100, 1): 0.00909090909090909,\n",
       "  ('mileage', 2776, 1): 0.00909090909090909,\n",
       "  ('mileage', 1497, 1): 0.00909090909090909,\n",
       "  ('mileage', 3291, 1): 0.00909090909090909,\n",
       "  ('mileage', 3036, 1): 0.00909090909090909,\n",
       "  ('mileage', 2984, 1): 0.00909090909090909,\n",
       "  ('mileage', 973, 1): 0.00909090909090909,\n",
       "  ('mileage', 3551, 1): 0.00909090909090909,\n",
       "  ('mileage', 2272, 1): 0.00909090909090909,\n",
       "  ('mileage', 6625, 1): 0.00909090909090909,\n",
       "  ('mileage', 2530, 1): 0.00909090909090909,\n",
       "  ('mileage', 1680, 1): 0.00909090909090909,\n",
       "  ('mileage', 1514, 1): 0.00909090909090909,\n",
       "  ('mileage', 1259, 1): 0.00909090909090909,\n",
       "  ('mileage', 749, 1): 0.00909090909090909,\n",
       "  ('mileage', 8687, 1): 0.00909090909090909,\n",
       "  ('mileage', 2036, 1): 0.00909090909090909,\n",
       "  ('mileage', 6389, 1): 0.00909090909090909,\n",
       "  ('mileage', 2075, 1): 0.00909090909090909,\n",
       "  ('mileage', 3657, 1): 0.00909090909090909,\n",
       "  ('mileage', 2504, 1): 0.00909090909090909,\n",
       "  ('mileage', 4998, 1): 0.00909090909090909,\n",
       "  ('mileage', 1709, 1): 0.00909090909090909,\n",
       "  ('mileage', 1938, 1): 0.00909090909090909,\n",
       "  ('mileage', 7370, 1): 0.00909090909090909,\n",
       "  ('mileage', 1943, 1): 0.00909090909090909,\n",
       "  ('mileage', 4760, 1): 0.00909090909090909,\n",
       "  ('mileage', 222, 1): 0.00909090909090909,\n",
       "  ('mileage', 2464, 1): 0.00909090909090909,\n",
       "  ('mileage', 934, 1): 0.00909090909090909,\n",
       "  ('mileage', 935, 1): 0.00909090909090909,\n",
       "  ('mileage', 936, 1): 0.00909090909090909,\n",
       "  ('mileage', 3133, 1): 0.00909090909090909,\n",
       "  ('mileage', 3028, 1): 0.00909090909090909,\n",
       "  ('mileage', 2757, 1): 0.00909090909090909,\n",
       "  ('mileage', 9136, 1): 0.00909090909090909,\n",
       "  ('mileage', 2484, 1): 0.00909090909090909,\n",
       "  ('mileage', 7349, 1): 0.00909090909090909,\n",
       "  ('mileage', 6683, 1): 0.00909090909090909,\n",
       "  ('mileage', 2232, 1): 0.00909090909090909,\n",
       "  ('mileage', 2235, 1): 0.00909090909090909,\n",
       "  ('mileage', 4541, 1): 0.00909090909090909,\n",
       "  ('mileage', 10430, 1): 0.00909090909090909,\n",
       "  ('mileage', 449, 1): 0.00909090909090909,\n",
       "  ('mileage', 1987, 1): 0.00909090909090909,\n",
       "  ('mileage', 1026, 1): 0.00909090909090909,\n",
       "  ('mileage', 718, 0): 0.007434944237918215,\n",
       "  ('mileage', 1551, 0): 0.007434944237918215,\n",
       "  ('mileage', 607, 0): 0.007434944237918215,\n",
       "  ('mileage', 1691, 0): 0.007434944237918215,\n",
       "  ('mileage', 392, 0): 0.007434944237918215,\n",
       "  ('mileage', 1419, 0): 0.007434944237918215,\n",
       "  ('mileage', 3377, 0): 0.007434944237918215,\n",
       "  ('mileage', 308, 0): 0.007434944237918215,\n",
       "  ('mileage', 3734, 0): 0.0037174721189591076,\n",
       "  ('mileage', 2718, 0): 0.0037174721189591076,\n",
       "  ('mileage', 4450, 0): 0.0037174721189591076,\n",
       "  ('mileage', 2047, 0): 0.0037174721189591076,\n",
       "  ('mileage', 3220, 0): 0.0037174721189591076,\n",
       "  ('mileage', 2722, 0): 0.0037174721189591076,\n",
       "  ('mileage', 1902, 0): 0.0037174721189591076,\n",
       "  ('mileage', 681, 0): 0.0037174721189591076,\n",
       "  ('mileage', 1879, 0): 0.0037174721189591076,\n",
       "  ('mileage', 2731, 0): 0.0037174721189591076,\n",
       "  ('mileage', 3250, 0): 0.0037174721189591076,\n",
       "  ('mileage', 1230, 0): 0.0037174721189591076,\n",
       "  ('mileage', 621, 0): 0.0037174721189591076,\n",
       "  ('mileage', 1683, 0): 0.0037174721189591076,\n",
       "  ('mileage', 1719, 0): 0.0037174721189591076,\n",
       "  ('mileage', 3217, 0): 0.0037174721189591076,\n",
       "  ('mileage', 656, 0): 0.0037174721189591076,\n",
       "  ('mileage', 1167, 0): 0.0037174721189591076,\n",
       "  ('mileage', 1535, 0): 0.0037174721189591076,\n",
       "  ('mileage', 501, 0): 0.0037174721189591076,\n",
       "  ('mileage', 649, 0): 0.0037174721189591076,\n",
       "  ('mileage', 2183, 0): 0.0037174721189591076,\n",
       "  ('mileage', 645, 0): 0.0037174721189591076,\n",
       "  ('mileage', 643, 0): 0.0037174721189591076,\n",
       "  ('mileage', 11905, 0): 0.0037174721189591076,\n",
       "  ('mileage', 660, 0): 0.0037174721189591076,\n",
       "  ('mileage', 1656, 0): 0.0037174721189591076,\n",
       "  ('mileage', 2587, 0): 0.0037174721189591076,\n",
       "  ('mileage', 3769, 0): 0.0037174721189591076,\n",
       "  ('mileage', 2232, 0): 0.0037174721189591076,\n",
       "  ('mileage', 2264, 0): 0.0037174721189591076,\n",
       "  ('mileage', 759, 0): 0.0037174721189591076,\n",
       "  ('mileage', 1780, 0): 0.0037174721189591076,\n",
       "  ('mileage', 65282, 0): 0.0037174721189591076,\n",
       "  ('mileage', 1265, 0): 0.0037174721189591076,\n",
       "  ('mileage', 3311, 0): 0.0037174721189591076,\n",
       "  ('mileage', 1655, 0): 0.0037174721189591076,\n",
       "  ('mileage', 1258, 0): 0.0037174721189591076,\n",
       "  ('mileage', 2276, 0): 0.0037174721189591076,\n",
       "  ('mileage', 738, 0): 0.0037174721189591076,\n",
       "  ('mileage', 225, 0): 0.0037174721189591076,\n",
       "  ('mileage', 734, 0): 0.0037174721189591076,\n",
       "  ('mileage', 730, 0): 0.0037174721189591076,\n",
       "  ('mileage', 1753, 0): 0.0037174721189591076,\n",
       "  ('mileage', 1749, 0): 0.0037174721189591076,\n",
       "  ('mileage', 2474, 0): 0.0037174721189591076,\n",
       "  ('mileage', 3283, 0): 0.0037174721189591076,\n",
       "  ('mileage', 1061, 0): 0.0037174721189591076,\n",
       "  ('mileage', 1745, 0): 0.0037174721189591076,\n",
       "  ('mileage', 2251, 0): 0.0037174721189591076,\n",
       "  ('mileage', 714, 0): 0.0037174721189591076,\n",
       "  ('mileage', 2247, 0): 0.0037174721189591076,\n",
       "  ('mileage', 710, 0): 0.0037174721189591076,\n",
       "  ('mileage', 1733, 0): 0.0037174721189591076,\n",
       "  ('mileage', 708, 0): 0.0037174721189591076,\n",
       "  ('mileage', 2754, 0): 0.0037174721189591076,\n",
       "  ('mileage', 2069, 0): 0.0037174721189591076,\n",
       "  ('mileage', 703, 0): 0.0037174721189591076,\n",
       "  ('mileage', 2236, 0): 0.0037174721189591076,\n",
       "  ('mileage', 631, 0): 0.0037174721189591076,\n",
       "  ('mileage', 625, 0): 0.0037174721189591076,\n",
       "  ('mileage', 3502, 0): 0.0037174721189591076,\n",
       "  ('mileage', 1563, 0): 0.0037174721189591076,\n",
       "  ('mileage', 6200, 0): 0.0037174721189591076,\n",
       "  ('mileage', 1591, 0): 0.0037174721189591076,\n",
       "  ('mileage', 560, 0): 0.0037174721189591076,\n",
       "  ('mileage', 2642, 0): 0.0037174721189591076,\n",
       "  ('mileage', 2092, 0): 0.0037174721189591076,\n",
       "  ('mileage', 3167, 0): 0.0037174721189591076,\n",
       "  ('mileage', 2206, 0): 0.0037174721189591076,\n",
       "  ('mileage', 1976, 0): 0.0037174721189591076,\n",
       "  ('mileage', 549, 0): 0.0037174721189591076,\n",
       "  ('mileage', 4644, 0): 0.0037174721189591076,\n",
       "  ('mileage', 1571, 0): 0.0037174721189591076,\n",
       "  ('mileage', 1058, 0): 0.0037174721189591076,\n",
       "  ('mileage', 21534, 0): 0.0037174721189591076,\n",
       "  ('mileage', 1562, 0): 0.0037174721189591076,\n",
       "  ('mileage', 1594, 0): 0.0037174721189591076,\n",
       "  ('mileage', 3606, 0): 0.0037174721189591076,\n",
       "  ('mileage', 1045, 0): 0.0037174721189591076,\n",
       "  ('mileage', 1, 0): 0.0037174721189591076,\n",
       "  ('mileage', 2065, 0): 0.0037174721189591076,\n",
       "  ('mileage', 1080, 0): 0.0037174721189591076,\n",
       "  ('mileage', 2060, 0): 0.0037174721189591076,\n",
       "  ('mileage', 2059, 0): 0.0037174721189591076,\n",
       "  ('mileage', 10249, 0): 0.0037174721189591076,\n",
       "  ('mileage', 3313, 0): 0.0037174721189591076,\n",
       "  ('mileage', 517, 0): 0.0037174721189591076,\n",
       "  ('mileage', 821, 0): 0.0037174721189591076,\n",
       "  ('mileage', 3074, 0): 0.0037174721189591076,\n",
       "  ('mileage', 513, 0): 0.0037174721189591076,\n",
       "  ('mileage', 1593, 0): 0.0037174721189591076,\n",
       "  ('mileage', 572, 0): 0.0037174721189591076,\n",
       "  ('mileage', 820, 0): 0.0037174721189591076,\n",
       "  ('mileage', 601, 0): 0.0037174721189591076,\n",
       "  ('mileage', 1647, 0): 0.0037174721189591076,\n",
       "  ('mileage', 1646, 0): 0.0037174721189591076,\n",
       "  ('mileage', 1645, 0): 0.0037174721189591076,\n",
       "  ('mileage', 620, 0): 0.0037174721189591076,\n",
       "  ('mileage', 3690, 0): 0.0037174721189591076,\n",
       "  ('mileage', 1127, 0): 0.0037174721189591076,\n",
       "  ('mileage', 2662, 0): 0.0037174721189591076,\n",
       "  ('mileage', 4197, 0): 0.0037174721189591076,\n",
       "  ('mileage', 1124, 0): 0.0037174721189591076,\n",
       "  ('mileage', 610, 0): 0.0037174721189591076,\n",
       "  ('mileage', 608, 0): 0.0037174721189591076,\n",
       "  ('mileage', 606, 0): 0.0037174721189591076,\n",
       "  ('mileage', 2138, 0): 0.0037174721189591076,\n",
       "  ('mileage', 2136, 0): 0.0037174721189591076,\n",
       "  ('mileage', 1597, 0): 0.0037174721189591076,\n",
       "  ('mileage', 599, 0): 0.0037174721189591076,\n",
       "  ('mileage', 3670, 0): 0.0037174721189591076,\n",
       "  ('mileage', 594, 0): 0.0037174721189591076,\n",
       "  ('mileage', 2641, 0): 0.0037174721189591076,\n",
       "  ('mileage', 592, 0): 0.0037174721189591076,\n",
       "  ('mileage', 279, 0): 0.0037174721189591076,\n",
       "  ('mileage', 1612, 0): 0.0037174721189591076,\n",
       "  ('mileage', 1098, 0): 0.0037174721189591076,\n",
       "  ('mileage', 1607, 0): 0.0037174721189591076,\n",
       "  ('mileage', 1606, 0): 0.0037174721189591076,\n",
       "  ('mileage', 2629, 0): 0.0037174721189591076,\n",
       "  ('mileage', 578, 0): 0.0037174721189591076,\n",
       "  ('mileage', 4158, 0): 0.0037174721189591076,\n",
       "  ('mileage', 2809, 0): 0.0037174721189591076,\n",
       "  ('mileage', 2818, 0): 0.0037174721189591076,\n",
       "  ('mileage', 1277, 0): 0.0037174721189591076,\n",
       "  ('mileage', 767, 0): 0.0037174721189591076,\n",
       "  ('mileage', 4029, 0): 0.0037174721189591076,\n",
       "  ('mileage', 954, 0): 0.0037174721189591076,\n",
       "  ('mileage', 440, 0): 0.0037174721189591076,\n",
       "  ('mileage', 4023, 0): 0.0037174721189591076,\n",
       "  ('mileage', 436, 0): 0.0037174721189591076,\n",
       "  ('mileage', 2995, 0): 0.0037174721189591076,\n",
       "  ('mileage', 4015, 0): 0.0037174721189591076,\n",
       "  ('mileage', 430, 0): 0.0037174721189591076,\n",
       "  ('mileage', 429, 0): 0.0037174721189591076,\n",
       "  ('mileage', 2476, 0): 0.0037174721189591076,\n",
       "  ('mileage', 938, 0): 0.0037174721189591076,\n",
       "  ('mileage', 1447, 0): 0.0037174721189591076,\n",
       "  ('mileage', 581, 0): 0.0037174721189591076,\n",
       "  ('mileage', 933, 0): 0.0037174721189591076,\n",
       "  ('mileage', 932, 0): 0.0037174721189591076,\n",
       "  ('mileage', 929, 0): 0.0037174721189591076,\n",
       "  ('mileage', 1841, 0): 0.0037174721189591076,\n",
       "  ('mileage', 926, 0): 0.0037174721189591076,\n",
       "  ('mileage', 1949, 0): 0.0037174721189591076,\n",
       "  ('mileage', 17, 0): 0.0037174721189591076,\n",
       "  ('mileage', 3481, 0): 0.0037174721189591076,\n",
       "  ('mileage', 409, 0): 0.0037174721189591076,\n",
       "  ('mileage', 1939, 0): 0.0037174721189591076,\n",
       "  ('mileage', 1424, 0): 0.0037174721189591076,\n",
       "  ('mileage', 399, 0): 0.0037174721189591076,\n",
       "  ('mileage', 1934, 0): 0.0037174721189591076,\n",
       "  ('mileage', 1929, 0): 0.0037174721189591076,\n",
       "  ('mileage', 903, 0): 0.0037174721189591076,\n",
       "  ('mileage', 1411, 0): 0.0037174721189591076,\n",
       "  ('mileage', 2496, 0): 0.0037174721189591076,\n",
       "  ('mileage', 3010, 0): 0.0037174721189591076,\n",
       "  ('mileage', 969, 0): 0.0037174721189591076,\n",
       "  ('mileage', 2909, 0): 0.0037174721189591076,\n",
       "  ('mileage', 509, 0): 0.0037174721189591076,\n",
       "  ('mileage', 508, 0): 0.0037174721189591076,\n",
       "  ('mileage', 1528, 0): 0.0037174721189591076,\n",
       "  ('mileage', 2039, 0): 0.0037174721189591076,\n",
       "  ('mileage', 2037, 0): 0.0037174721189591076,\n",
       "  ('mileage', 2035, 0): 0.0037174721189591076,\n",
       "  ('mileage', 494, 0): 0.0037174721189591076,\n",
       "  ('mileage', 266, 0): 0.0037174721189591076,\n",
       "  ('mileage', 2539, 0): 0.0037174721189591076,\n",
       "  ('mileage', 490, 0): 0.0037174721189591076,\n",
       "  ('mileage', 4216, 0): 0.0037174721189591076,\n",
       "  ('mileage', 1035, 0): 0.0037174721189591076,\n",
       "  ('mileage', 995, 0): 0.0037174721189591076,\n",
       "  ('mileage', 140, 0): 0.0037174721189591076,\n",
       "  ('mileage', 458, 0): 0.0037174721189591076,\n",
       "  ('mileage', 1130, 0): 0.0037174721189591076,\n",
       "  ('mileage', 354, 0): 0.0037174721189591076,\n",
       "  ('mileage', 2240, 0): 0.0037174721189591076,\n",
       "  ('mileage', 1496, 0): 0.0037174721189591076,\n",
       "  ('mileage', 1541, 0): 0.0037174721189591076,\n",
       "  ('mileage', 469, 0): 0.0037174721189591076,\n",
       "  ('mileage', 1218, 0): 0.0037174721189591076,\n",
       "  ('mileage', 48, 0): 0.0037174721189591076,\n",
       "  ('mileage', 466, 0): 0.0037174721189591076,\n",
       "  ('mileage', 612, 0): 0.0037174721189591076,\n",
       "  ('mileage', 3536, 0): 0.0037174721189591076,\n",
       "  ('mileage', 2510, 0): 0.0037174721189591076,\n",
       "  ('mileage', 1995, 0): 0.0037174721189591076,\n",
       "  ('mileage', 1452, 0): 0.0037174721189591076,\n",
       "  ('mileage', -1408, 0): 0.0037174721189591076,\n",
       "  ('mileage', 894, 0): 0.0037174721189591076,\n",
       "  ('mileage', 8987, 0): 0.0037174721189591076,\n",
       "  ('mileage', 827, 0): 0.0037174721189591076,\n",
       "  ('mileage', 3008, 0): 0.0037174721189591076,\n",
       "  ('mileage', 824, 0): 0.0037174721189591076,\n",
       "  ('mileage', 2359, 0): 0.0037174721189591076,\n",
       "  ('mileage', 3381, 0): 0.0037174721189591076,\n",
       "  ('mileage', 1836, 0): 0.0037174721189591076,\n",
       "  ('mileage', 1832, 0): 0.0037174721189591076,\n",
       "  ('mileage', 1317, 0): 0.0037174721189591076,\n",
       "  ('mileage', 3364, 0): 0.0037174721189591076,\n",
       "  ('mileage', 1827, 0): 0.0037174721189591076,\n",
       "  ('mileage', 15138, 0): 0.0037174721189591076,\n",
       "  ('mileage', 2848, 0): 0.0037174721189591076,\n",
       "  ('mileage', 1746, 0): 0.0037174721189591076,\n",
       "  ('mileage', 1818, 0): 0.0037174721189591076,\n",
       "  ('mileage', 1343, 0): 0.0037174721189591076,\n",
       "  ('mileage', 2839, 0): 0.0037174721189591076,\n",
       "  ('mileage', 790, 0): 0.0037174721189591076,\n",
       "  ('mileage', 2324, 0): 0.0037174721189591076,\n",
       "  ('mileage', 2323, 0): 0.0037174721189591076,\n",
       "  ('mileage', 1298, 0): 0.0037174721189591076,\n",
       "  ('mileage', 1808, 0): 0.0037174721189591076,\n",
       "  ('mileage', 269, 0): 0.0037174721189591076,\n",
       "  ('mileage', 779, 0): 0.0037174721189591076,\n",
       "  ('mileage', 4874, 0): 0.0037174721189591076,\n",
       "  ('mileage', 534, 0): 0.0037174721189591076,\n",
       "  ('mileage', 3336, 0): 0.0037174721189591076,\n",
       "  ('mileage', 1684, 0): 0.0037174721189591076,\n",
       "  ('mileage', 2046, 0): 0.0037174721189591076,\n",
       "  ('mileage', 830, 0): 0.0037174721189591076,\n",
       "  ('mileage', 833, 0): 0.0037174721189591076,\n",
       "  ('mileage', 892, 0): 0.0037174721189591076,\n",
       "  ('mileage', 347, 0): 0.0037174721189591076,\n",
       "  ('mileage', 379, 0): 0.0037174721189591076,\n",
       "  ('mileage', 1851, 0): 0.0037174721189591076,\n",
       "  ('mileage', 1400, 0): 0.0037174721189591076,\n",
       "  ('mileage', 368, 0): 0.0037174721189591076,\n",
       "  ('mileage', 366, 0): 0.0037174721189591076,\n",
       "  ('mileage', 877, 0): 0.0037174721189591076,\n",
       "  ('mileage', 1899, 0): 0.0037174721189591076,\n",
       "  ('mileage', 2410, 0): 0.0037174721189591076,\n",
       "  ('mileage', 871, 0): 0.0037174721189591076,\n",
       "  ('mileage', 1893, 0): 0.0037174721189591076,\n",
       "  ('mileage', 866, 0): 0.0037174721189591076,\n",
       "  ('mileage', 1889, 0): 0.0037174721189591076,\n",
       "  ('mileage', 1373, 0): 0.0037174721189591076,\n",
       "  ('mileage', 2906, 0): 0.0037174721189591076,\n",
       "  ('mileage', 324, 0): 0.0037174721189591076,\n",
       "  ('mileage', 1367, 0): 0.0037174721189591076,\n",
       "  ('mileage', 852, 0): 0.0037174721189591076,\n",
       "  ('mileage', 1875, 0): 0.0037174721189591076,\n",
       "  ('mileage', 850, 0): 0.0037174721189591076,\n",
       "  ('mileage', 1870, 0): 0.0037174721189591076,\n",
       "  ('mileage', 1497, 0): 0.0037174721189591076,\n",
       "  ('mileage', 1355, 0): 0.0037174721189591076,\n",
       "  ('mileage', 330, 0): 0.0037174721189591076,\n",
       "  ('mileage', 2377, 0): 0.0037174721189591076,\n",
       "  ('mileage', 840, 0): 0.0037174721189591076,\n",
       "  ('mileage', 327, 0): 0.0037174721189591076,\n",
       "  ('mileage', 1705, 0): 0.0037174721189591076,\n",
       "  ('mileage', 2373, 0): 0.0037174721189591076,\n",
       "  ('mileage', 1024, 0): 0.0037174721189591076,\n",
       "  ('avg_speed', 55.35420420420421, 2): 0.014492753623188406,\n",
       "  ('avg_speed', 68.77972612925213, 2): 0.014492753623188406,\n",
       "  ('avg_speed', 53.13593576544656, 2): 0.014492753623188406,\n",
       "  ('avg_speed', 51.01419831223629, 2): 0.014492753623188406,\n",
       "  ('avg_speed', 62.79877312509365, 2): 0.014492753623188406,\n",
       "  ('avg_speed', 62.963635526497534, 2): 0.014492753623188406,\n",
       "  ('avg_speed', 62.98532590341101, 2): 0.014492753623188406,\n",
       "  ('avg_speed', 50.76484887772466, 2): 0.014492753623188406,\n",
       "  ('avg_speed', 54.78169307756464, 2): 0.014492753623188406,\n",
       "  ('avg_speed', 37.18666343120602, 2): 0.014492753623188406,\n",
       "  ('avg_speed', 42.395779079861114, 2): 0.014492753623188406,\n",
       "  ('avg_speed', 58.18048452220727, 2): 0.014492753623188406,\n",
       "  ('avg_speed', 56.716082033034404, 2): 0.014492753623188406,\n",
       "  ('avg_speed', 48.07164307935765, 2): 0.014492753623188406,\n",
       "  ('avg_speed', 55.59882347631155, 2): 0.014492753623188406,\n",
       "  ('avg_speed', 57.43948854722309, 2): 0.014492753623188406,\n",
       "  ('avg_speed', 58.94003304680393, 2): 0.014492753623188406,\n",
       "  ('avg_speed', 49.98867826313278, 2): 0.014492753623188406,\n",
       "  ('avg_speed', 57.90377633496754, 2): 0.014492753623188406,\n",
       "  ('avg_speed', 57.65039624608968, 2): 0.014492753623188406,\n",
       "  ('avg_speed', 43.66381905459279, 2): 0.014492753623188406,\n",
       "  ('avg_speed', 58.98014351715325, 2): 0.014492753623188406,\n",
       "  ('avg_speed', 51.89650137258338, 2): 0.014492753623188406,\n",
       "  ('avg_speed', 58.362590718738744, 2): 0.014492753623188406,\n",
       "  ('avg_speed', 50.277500917206794, 2): 0.014492753623188406,\n",
       "  ('avg_speed', 61.10378265482032, 2): 0.014492753623188406,\n",
       "  ('avg_speed', 58.011435035335495, 2): 0.014492753623188406,\n",
       "  ('avg_speed', 67.85825360765368, 2): 0.014492753623188406,\n",
       "  ('avg_speed', 59.82490241752708, 2): 0.014492753623188406,\n",
       "  ('avg_speed', 57.955790970168074, 2): 0.014492753623188406,\n",
       "  ('avg_speed', 39.40371320068811, 2): 0.014492753623188406,\n",
       "  ('avg_speed', 61.45603296954896, 2): 0.014492753623188406,\n",
       "  ('avg_speed', 55.2369298999141, 2): 0.014492753623188406,\n",
       "  ('avg_speed', 55.970129533067514, 2): 0.014492753623188406,\n",
       "  ('avg_speed', 49.65227705157034, 2): 0.014492753623188406,\n",
       "  ('avg_speed', 53.47564188259348, 2): 0.014492753623188406,\n",
       "  ('avg_speed', 47.43901390282356, 2): 0.014492753623188406,\n",
       "  ('avg_speed', 58.271012482662975, 2): 0.014492753623188406,\n",
       "  ('avg_speed', 58.47774966000447, 2): 0.014492753623188406,\n",
       "  ('avg_speed', 40.35591903062846, 2): 0.014492753623188406,\n",
       "  ('avg_speed', 44.66677745085581, 2): 0.014492753623188406,\n",
       "  ('avg_speed', 52.95549937994849, 2): 0.014492753623188406,\n",
       "  ('avg_speed', 70.24874048468354, 2): 0.014492753623188406,\n",
       "  ('avg_speed', 59.34641482069787, 2): 0.014492753623188406,\n",
       "  ('avg_speed', 59.440697380611475, 2): 0.014492753623188406,\n",
       "  ('avg_speed', 64.82826443270807, 2): 0.014492753623188406,\n",
       "  ('avg_speed', 61.943347596940214, 2): 0.014492753623188406,\n",
       "  ('avg_speed', 41.697852629171074, 2): 0.014492753623188406,\n",
       "  ('avg_speed', 57.98255327068019, 2): 0.014492753623188406,\n",
       "  ('avg_speed', 60.838334338238134, 2): 0.014492753623188406,\n",
       "  ('avg_speed', 49.90940992365207, 2): 0.014492753623188406,\n",
       "  ('avg_speed', 48.510871217880485, 2): 0.014492753623188406,\n",
       "  ('avg_speed', 58.86247448075723, 2): 0.014492753623188406,\n",
       "  ('avg_speed', 56.27899524821808, 2): 0.014492753623188406,\n",
       "  ('avg_speed', 41.735463661171295, 2): 0.014492753623188406,\n",
       "  ('avg_speed', 56.38682507485753, 2): 0.014492753623188406,\n",
       "  ('avg_speed', 65.43189323759039, 2): 0.014492753623188406,\n",
       "  ('avg_speed', 61.41053619915243, 2): 0.014492753623188406,\n",
       "  ('avg_speed', 59.269903349067214, 2): 0.014492753623188406,\n",
       "  ('avg_speed', 43.90201105413864, 2): 0.014492753623188406,\n",
       "  ('avg_speed', 48.35675550405561, 2): 0.014492753623188406,\n",
       "  ('avg_speed', 51.1201656097, 2): 0.014492753623188406,\n",
       "  ('avg_speed', 61.3764127354559, 2): 0.014492753623188406,\n",
       "  ('avg_speed', 41.52212397166865, 2): 0.014492753623188406,\n",
       "  ('avg_speed', 47.20985915492958, 2): 0.014492753623188406,\n",
       "  ('avg_speed', 55.81888885903877, 2): 0.014492753623188406,\n",
       "  ('avg_speed', 58.92229144222212, 2): 0.014492753623188406,\n",
       "  ('avg_speed', 40.40652107976949, 2): 0.014492753623188406,\n",
       "  ('avg_speed', 62.22099501706753, 2): 0.014492753623188406,\n",
       "  ('avg_speed', 49.36802760207016, 1): 0.00909090909090909,\n",
       "  ('avg_speed', 78.12245528511106, 1): 0.00909090909090909,\n",
       "  ('avg_speed', 38.328106600557796, 1): 0.00909090909090909,\n",
       "  ('avg_speed', 69.6920426016311, 1): 0.00909090909090909,\n",
       "  ('avg_speed', 77.78199411820509, 1): 0.00909090909090909,\n",
       "  ('avg_speed', 51.63864578535237, 1): 0.00909090909090909,\n",
       "  ('avg_speed', 72.79320818602798, 1): 0.00909090909090909,\n",
       "  ('avg_speed', 62.94804102365008, 1): 0.00909090909090909,\n",
       "  ('avg_speed', 77.91379549297335, 1): 0.00909090909090909,\n",
       "  ('avg_speed', 69.8408549127515, 1): 0.00909090909090909,\n",
       "  ('avg_speed', 47.678540432436506, 1): 0.00909090909090909,\n",
       "  ('avg_speed', 65.0865756097561, 1): 0.00909090909090909,\n",
       "  ('avg_speed', 51.514329447013615, 1): 0.00909090909090909,\n",
       "  ('avg_speed', 43.49666619378635, 1): 0.00909090909090909,\n",
       "  ('avg_speed', 64.86180832857958, 1): 0.00909090909090909,\n",
       "  ('avg_speed', 59.65700780928894, 1): 0.00909090909090909,\n",
       "  ('avg_speed', 49.98219749652295, 1): 0.00909090909090909,\n",
       "  ('avg_speed', 47.92817421374831, 1): 0.00909090909090909,\n",
       "  ('avg_speed', 62.364076837320994, 1): 0.00909090909090909,\n",
       "  ('avg_speed', 73.13399672424983, 1): 0.00909090909090909,\n",
       "  ('avg_speed', 70.94036953111382, 1): 0.00909090909090909,\n",
       "  ('avg_speed', 53.07489458115678, 1): 0.00909090909090909,\n",
       "  ('avg_speed', 56.975782807552484, 1): 0.00909090909090909,\n",
       "  ('avg_speed', 70.99945288278666, 1): 0.00909090909090909,\n",
       "  ('avg_speed', 46.13891844241115, 1): 0.00909090909090909,\n",
       "  ('avg_speed', 77.67156594480494, 1): 0.00909090909090909,\n",
       "  ('avg_speed', 76.6368571681468, 1): 0.00909090909090909,\n",
       "  ('avg_speed', 75.82446452476573, 1): 0.00909090909090909,\n",
       "  ('avg_speed', 65.36528407110491, 1): 0.00909090909090909,\n",
       "  ('avg_speed', 76.75805675805674, 1): 0.00909090909090909,\n",
       "  ('avg_speed', 64.29038395019025, 1): 0.00909090909090909,\n",
       "  ('avg_speed', 68.53663698086588, 1): 0.00909090909090909,\n",
       "  ('avg_speed', 51.68223918575064, 1): 0.00909090909090909,\n",
       "  ('avg_speed', 65.87466487935657, 1): 0.00909090909090909,\n",
       "  ('avg_speed', 68.2518829297882, 1): 0.00909090909090909,\n",
       "  ('avg_speed', 73.37641433189657, 1): 0.00909090909090909,\n",
       "  ('avg_speed', 83.68031854379976, 1): 0.00909090909090909,\n",
       "  ('avg_speed', 55.79170460293374, 1): 0.00909090909090909,\n",
       "  ('avg_speed', 62.270819556496065, 1): 0.00909090909090909,\n",
       "  ('avg_speed', 68.11225611023669, 1): 0.00909090909090909,\n",
       "  ('avg_speed', 66.57390150313032, 1): 0.00909090909090909,\n",
       "  ('avg_speed', 70.03506101938262, 1): 0.00909090909090909,\n",
       "  ('avg_speed', 78.27010548217602, 1): 0.00909090909090909,\n",
       "  ('avg_speed', 61.28409008617568, 1): 0.00909090909090909,\n",
       "  ('avg_speed', 72.8018947015426, 1): 0.00909090909090909,\n",
       "  ('avg_speed', 62.52659968584215, 1): 0.00909090909090909,\n",
       "  ('avg_speed', 61.35875618811881, 1): 0.00909090909090909,\n",
       "  ('avg_speed', 74.15347611411879, 1): 0.00909090909090909,\n",
       "  ...})"
      ]
     },
     "execution_count": 184,
     "metadata": {},
     "output_type": "execute_result"
    }
   ],
   "source": [
    "nb_fit(X1,y)"
   ]
  },
  {
   "cell_type": "markdown",
   "metadata": {},
   "source": [
    "得到'疲劳'、'激进'、'稳健'的后验概率判别结果分别为：0.600446，0.245536，0.154018。"
   ]
  },
  {
   "cell_type": "code",
   "execution_count": 188,
   "metadata": {},
   "outputs": [
    {
     "name": "stdout",
     "output_type": "stream",
     "text": [
      "x = \n",
      " [[-1.15456698e-01 -2.57497312e-01 -1.02261729e-01 ... -6.33694154e-02\n",
      "   1.52957373e+00 -5.70786996e-01]\n",
      " [-8.02160702e-02  7.18532783e-02 -9.74371761e-03 ... -5.63507256e-02\n",
      "   1.93020708e+00 -5.82268868e-01]\n",
      " [ 1.38575275e-03  1.24844082e-01  2.62192707e-02 ... -5.05175430e-02\n",
      "   1.05355686e+00 -9.61347322e-02]\n",
      " ...\n",
      " [-2.14118799e-01 -3.54635386e-01 -1.12322683e-01 ... -6.66157516e-02\n",
      "  -3.29026594e-01 -5.33793503e-01]\n",
      " [-2.09903959e-01 -2.29545653e-01 -1.26957696e-01 ... -6.37045420e-02\n",
      "  -8.04670355e-01 -7.77135674e-01]\n",
      " [-1.96152186e-01 -3.12126909e-01 -1.23978524e-01 ... -6.53887320e-02\n",
      "   6.89840079e-01 -5.08099131e-01]]\n",
      "y = \n",
      " ['稳健型' '激进型' '激进型' '激进型' '激进型' '稳健型' '激进型' '疲劳型' '疲劳型' '疲劳型' '稳健型' '激进型'\n",
      " '激进型' '激进型' '激进型' '激进型' '稳健型' '稳健型' '激进型' '稳健型' '激进型' '激进型' '激进型' '疲劳型'\n",
      " '疲劳型' '疲劳型' '激进型' '激进型' '激进型' '疲劳型' '激进型' '激进型' '激进型' '疲劳型' '激进型' '激进型'\n",
      " '激进型' '疲劳型' '疲劳型' '疲劳型' '激进型' '疲劳型' '疲劳型' '激进型' '疲劳型' '激进型' '激进型' '激进型'\n",
      " '疲劳型' '疲劳型' '疲劳型' '激进型' '激进型' '疲劳型' '疲劳型' '激进型' '激进型' '激进型' '疲劳型' '激进型'\n",
      " '激进型' '疲劳型' '激进型' '稳健型' '激进型' '激进型' '疲劳型' '激进型' '稳健型' '稳健型' '疲劳型' '疲劳型'\n",
      " '稳健型' '激进型' '疲劳型' '疲劳型' '疲劳型' '激进型' '疲劳型' '稳健型' '疲劳型' '疲劳型' '激进型' '疲劳型'\n",
      " '疲劳型' '激进型' '激进型' '激进型' '激进型' '疲劳型' '激进型' '激进型' '疲劳型' '疲劳型' '激进型' '疲劳型'\n",
      " '疲劳型' '疲劳型' '疲劳型' '激进型' '疲劳型' '疲劳型' '激进型' '激进型' '疲劳型' '疲劳型' '疲劳型' '疲劳型'\n",
      " '疲劳型' '疲劳型' '疲劳型' '疲劳型' '疲劳型' '激进型' '疲劳型' '激进型' '稳健型' '疲劳型' '疲劳型' '疲劳型'\n",
      " '疲劳型' '疲劳型' '稳健型' '稳健型' '稳健型' '稳健型' '激进型' '稳健型' '疲劳型' '激进型' '稳健型' '激进型'\n",
      " '激进型' '疲劳型' '稳健型' '稳健型' '稳健型' '疲劳型' '稳健型' '激进型' '稳健型' '稳健型' '疲劳型' '疲劳型'\n",
      " '稳健型' '疲劳型' '稳健型' '稳健型' '疲劳型' '稳健型' '稳健型' '稳健型' '稳健型' '疲劳型' '疲劳型' '疲劳型'\n",
      " '疲劳型' '疲劳型' '稳健型' '疲劳型' '稳健型' '疲劳型' '疲劳型' '疲劳型' '疲劳型' '稳健型' '疲劳型' '稳健型'\n",
      " '疲劳型' '稳健型' '疲劳型' '疲劳型' '稳健型' '疲劳型' '疲劳型' '疲劳型' '疲劳型' '稳健型' '稳健型' '激进型'\n",
      " '稳健型' '稳健型' '疲劳型' '疲劳型' '疲劳型' '稳健型' '稳健型' '稳健型' '稳健型' '稳健型' '稳健型' '稳健型'\n",
      " '稳健型' '稳健型' '稳健型' '稳健型' '稳健型' '稳健型' '稳健型' '激进型' '稳健型' '稳健型' '稳健型' '稳健型'\n",
      " '稳健型' '疲劳型' '疲劳型' '激进型' '疲劳型' '稳健型' '疲劳型' '疲劳型' '疲劳型' '稳健型' '疲劳型' '疲劳型'\n",
      " '疲劳型' '激进型' '疲劳型' '疲劳型' '疲劳型' '疲劳型' '疲劳型' '激进型' '激进型' '激进型' '疲劳型' '疲劳型'\n",
      " '疲劳型' '激进型' '疲劳型' '激进型' '疲劳型' '疲劳型' '疲劳型' '疲劳型' '疲劳型' '疲劳型' '激进型' '疲劳型'\n",
      " '疲劳型' '疲劳型' '疲劳型' '疲劳型' '激进型' '激进型' '激进型' '疲劳型' '疲劳型' '疲劳型' '疲劳型' '疲劳型'\n",
      " '疲劳型' '激进型' '疲劳型' '激进型' '激进型' '激进型' '疲劳型' '激进型' '疲劳型' '激进型' '疲劳型' '疲劳型'\n",
      " '激进型' '疲劳型' '疲劳型' '疲劳型' '激进型' '疲劳型' '疲劳型' '激进型' '疲劳型' '疲劳型' '激进型' '疲劳型'\n",
      " '疲劳型' '激进型' '疲劳型' '疲劳型' '激进型' '疲劳型' '激进型' '激进型' '疲劳型' '激进型' '疲劳型' '疲劳型'\n",
      " '疲劳型' '疲劳型' '疲劳型' '疲劳型' '疲劳型' '疲劳型' '疲劳型' '疲劳型' '激进型' '激进型' '疲劳型' '疲劳型'\n",
      " '疲劳型' '疲劳型' '疲劳型' '稳健型' '激进型' '激进型' '激进型' '激进型' '疲劳型' '激进型' '激进型' '疲劳型'\n",
      " '激进型' '疲劳型' '疲劳型' '疲劳型' '稳健型' '疲劳型' '疲劳型' '疲劳型' '稳健型' '疲劳型' '疲劳型' '疲劳型'\n",
      " '疲劳型' '疲劳型' '疲劳型' '疲劳型' '疲劳型' '疲劳型' '疲劳型' '疲劳型' '疲劳型' '疲劳型' '疲劳型' '疲劳型'\n",
      " '稳健型' '疲劳型' '稳健型' '疲劳型' '疲劳型' '疲劳型' '疲劳型' '疲劳型' '疲劳型' '疲劳型' '疲劳型' '疲劳型'\n",
      " '疲劳型' '疲劳型' '疲劳型' '疲劳型' '疲劳型' '疲劳型' '疲劳型' '疲劳型' '疲劳型' '疲劳型' '稳健型' '稳健型'\n",
      " '疲劳型' '疲劳型' '疲劳型' '疲劳型' '激进型' '疲劳型' '疲劳型' '疲劳型' '疲劳型' '疲劳型' '疲劳型' '疲劳型'\n",
      " '激进型' '疲劳型' '疲劳型' '疲劳型' '疲劳型' '疲劳型' '疲劳型' '疲劳型' '疲劳型' '疲劳型' '疲劳型' '疲劳型'\n",
      " '疲劳型' '疲劳型' '疲劳型' '疲劳型' '疲劳型' '疲劳型' '疲劳型' '激进型' '疲劳型' '疲劳型' '疲劳型' '疲劳型'\n",
      " '疲劳型' '疲劳型' '疲劳型' '疲劳型' '疲劳型' '疲劳型' '疲劳型' '疲劳型' '疲劳型' '疲劳型' '疲劳型' '疲劳型'\n",
      " '疲劳型' '疲劳型' '疲劳型' '疲劳型' '疲劳型' '疲劳型' '疲劳型' '疲劳型' '疲劳型' '疲劳型' '疲劳型' '疲劳型'\n",
      " '疲劳型' '疲劳型' '疲劳型' '疲劳型' '疲劳型' '疲劳型' '疲劳型' '激进型' '疲劳型' '疲劳型' '疲劳型' '激进型'\n",
      " '激进型' '激进型' '激进型' '激进型' '激进型' '疲劳型' '疲劳型' '激进型' '激进型' '疲劳型' '疲劳型' '激进型'\n",
      " '疲劳型' '疲劳型' '疲劳型' '激进型']\n",
      "['激进型' '疲劳型' '稳健型']\n",
      "Last Version, y = \n",
      " [2 0 0 0 0 2 0 1 1 1 2 0 0 0 0 0 2 2 0 2 0 0 0 1 1 1 0 0 0 1 0 0 0 1 0 0 0\n",
      " 1 1 1 0 1 1 0 1 0 0 0 1 1 1 0 0 1 1 0 0 0 1 0 0 1 0 2 0 0 1 0 2 2 1 1 2 0\n",
      " 1 1 1 0 1 2 1 1 0 1 1 0 0 0 0 1 0 0 1 1 0 1 1 1 1 0 1 1 0 0 1 1 1 1 1 1 1\n",
      " 1 1 0 1 0 2 1 1 1 1 1 2 2 2 2 0 2 1 0 2 0 0 1 2 2 2 1 2 0 2 2 1 1 2 1 2 2\n",
      " 1 2 2 2 2 1 1 1 1 1 2 1 2 1 1 1 1 2 1 2 1 2 1 1 2 1 1 1 1 2 2 0 2 2 1 1 1\n",
      " 2 2 2 2 2 2 2 2 2 2 2 2 2 2 0 2 2 2 2 2 1 1 0 1 2 1 1 1 2 1 1 1 0 1 1 1 1\n",
      " 1 0 0 0 1 1 1 0 1 0 1 1 1 1 1 1 0 1 1 1 1 1 0 0 0 1 1 1 1 1 1 0 1 0 0 0 1\n",
      " 0 1 0 1 1 0 1 1 1 0 1 1 0 1 1 0 1 1 0 1 1 0 1 0 0 1 0 1 1 1 1 1 1 1 1 1 1\n",
      " 0 0 1 1 1 1 1 2 0 0 0 0 1 0 0 1 0 1 1 1 2 1 1 1 2 1 1 1 1 1 1 1 1 1 1 1 1\n",
      " 1 1 1 2 1 2 1 1 1 1 1 1 1 1 1 1 1 1 1 1 1 1 1 1 1 2 2 1 1 1 1 0 1 1 1 1 1\n",
      " 1 1 0 1 1 1 1 1 1 1 1 1 1 1 1 1 1 1 1 1 1 0 1 1 1 1 1 1 1 1 1 1 1 1 1 1 1\n",
      " 1 1 1 1 1 1 1 1 1 1 1 1 1 1 1 1 1 1 1 1 0 1 1 1 0 0 0 0 0 0 1 1 0 0 1 1 0\n",
      " 1 1 1 0]\n"
     ]
    }
   ],
   "source": [
    "from sklearn import preprocessing\n",
    "cars['labels']=y_pre_com[4].tolist()\n",
    "x1 =X2\n",
    "y1 = data.values[:, -1]\n",
    "print('x = \\n', x1)\n",
    "print('y = \\n', y1)\n",
    "le = preprocessing.LabelEncoder()\n",
    "le.fit(['疲劳型', '激进型', '稳健型'])\n",
    "print(le.classes_)\n",
    "y1 = le.transform(y1)\n",
    "print('Last Version, y = \\n', y1)"
   ]
  },
  {
   "cell_type": "code",
   "execution_count": 189,
   "metadata": {},
   "outputs": [
    {
     "data": {
      "text/plain": [
       "GaussianNB()"
      ]
     },
     "execution_count": 189,
     "metadata": {},
     "output_type": "execute_result"
    }
   ],
   "source": [
    "from sklearn.naive_bayes import GaussianNB,BernoulliNB\n",
    "GN =GaussianNB()#先验为高斯分布的朴素贝叶斯\n",
    "GN.fit(x1,y1)"
   ]
  },
  {
   "cell_type": "code",
   "execution_count": 190,
   "metadata": {},
   "outputs": [
    {
     "data": {
      "text/plain": [
       "0.5267857142857143"
      ]
     },
     "execution_count": 190,
     "metadata": {},
     "output_type": "execute_result"
    }
   ],
   "source": [
    "GN.score(x1,y1)"
   ]
  },
  {
   "cell_type": "code",
   "execution_count": 191,
   "metadata": {},
   "outputs": [
    {
     "data": {
      "text/plain": [
       "BernoulliNB()"
      ]
     },
     "execution_count": 191,
     "metadata": {},
     "output_type": "execute_result"
    }
   ],
   "source": [
    "BN=BernoulliNB()#先验为伯努利分布的朴素贝叶斯\n",
    "BN.fit(x1,y1)"
   ]
  },
  {
   "cell_type": "code",
   "execution_count": 192,
   "metadata": {},
   "outputs": [
    {
     "data": {
      "text/plain": [
       "0.8482142857142857"
      ]
     },
     "execution_count": 192,
     "metadata": {},
     "output_type": "execute_result"
    }
   ],
   "source": [
    "BN.score(x1,y1)"
   ]
  },
  {
   "cell_type": "markdown",
   "metadata": {},
   "source": [
    "先验为伯努利分布的朴素贝叶斯准确率高于先验为高斯分布的朴素贝叶斯"
   ]
  },
  {
   "cell_type": "markdown",
   "metadata": {},
   "source": [
    "BP 神经网络模型"
   ]
  },
  {
   "cell_type": "code",
   "execution_count": 186,
   "metadata": {},
   "outputs": [
    {
     "name": "stdout",
     "output_type": "stream",
     "text": [
      "Note: you may need to restart the kernel to use updated packages.\n"
     ]
    },
    {
     "name": "stderr",
     "output_type": "stream",
     "text": [
      "ERROR: Exception:\n",
      "Traceback (most recent call last):\n",
      "  File \"C:\\Users\\lenovo\\anaconda3\\lib\\site-packages\\pip\\_vendor\\urllib3\\response.py\", line 437, in _error_catcher\n",
      "    yield\n",
      "  File \"C:\\Users\\lenovo\\anaconda3\\lib\\site-packages\\pip\\_vendor\\urllib3\\response.py\", line 519, in read\n",
      "    data = self._fp.read(amt) if not fp_closed else b\"\"\n",
      "  File \"C:\\Users\\lenovo\\anaconda3\\lib\\site-packages\\pip\\_vendor\\cachecontrol\\filewrapper.py\", line 62, in read\n",
      "    data = self.__fp.read(amt)\n",
      "  File \"C:\\Users\\lenovo\\anaconda3\\lib\\http\\client.py\", line 458, in read\n",
      "    n = self.readinto(b)\n",
      "  File \"C:\\Users\\lenovo\\anaconda3\\lib\\http\\client.py\", line 502, in readinto\n",
      "    n = self.fp.readinto(b)\n",
      "  File \"C:\\Users\\lenovo\\anaconda3\\lib\\socket.py\", line 669, in readinto\n",
      "    return self._sock.recv_into(b)\n",
      "  File \"C:\\Users\\lenovo\\anaconda3\\lib\\ssl.py\", line 1241, in recv_into\n",
      "    return self.read(nbytes, buffer)\n",
      "  File \"C:\\Users\\lenovo\\anaconda3\\lib\\ssl.py\", line 1099, in read\n",
      "    return self._sslobj.read(len, buffer)\n",
      "socket.timeout: The read operation timed out\n",
      "\n",
      "During handling of the above exception, another exception occurred:\n",
      "\n",
      "Traceback (most recent call last):\n",
      "  File \"C:\\Users\\lenovo\\anaconda3\\lib\\site-packages\\pip\\_internal\\cli\\base_command.py\", line 216, in _main\n",
      "    status = self.run(options, args)\n",
      "  File \"C:\\Users\\lenovo\\anaconda3\\lib\\site-packages\\pip\\_internal\\cli\\req_command.py\", line 182, in wrapper\n",
      "    return func(self, options, args)\n",
      "  File \"C:\\Users\\lenovo\\anaconda3\\lib\\site-packages\\pip\\_internal\\commands\\install.py\", line 324, in run\n",
      "    requirement_set = resolver.resolve(\n",
      "  File \"C:\\Users\\lenovo\\anaconda3\\lib\\site-packages\\pip\\_internal\\resolution\\legacy\\resolver.py\", line 183, in resolve\n",
      "    discovered_reqs.extend(self._resolve_one(requirement_set, req))\n",
      "  File \"C:\\Users\\lenovo\\anaconda3\\lib\\site-packages\\pip\\_internal\\resolution\\legacy\\resolver.py\", line 388, in _resolve_one\n",
      "    abstract_dist = self._get_abstract_dist_for(req_to_install)\n",
      "  File \"C:\\Users\\lenovo\\anaconda3\\lib\\site-packages\\pip\\_internal\\resolution\\legacy\\resolver.py\", line 340, in _get_abstract_dist_for\n",
      "    abstract_dist = self.preparer.prepare_linked_requirement(req)\n",
      "  File \"C:\\Users\\lenovo\\anaconda3\\lib\\site-packages\\pip\\_internal\\operations\\prepare.py\", line 467, in prepare_linked_requirement\n",
      "    local_file = unpack_url(\n",
      "  File \"C:\\Users\\lenovo\\anaconda3\\lib\\site-packages\\pip\\_internal\\operations\\prepare.py\", line 255, in unpack_url\n",
      "    file = get_http_url(\n",
      "  File \"C:\\Users\\lenovo\\anaconda3\\lib\\site-packages\\pip\\_internal\\operations\\prepare.py\", line 129, in get_http_url\n",
      "    from_path, content_type = _download_http_url(\n",
      "  File \"C:\\Users\\lenovo\\anaconda3\\lib\\site-packages\\pip\\_internal\\operations\\prepare.py\", line 282, in _download_http_url\n",
      "    for chunk in download.chunks:\n",
      "  File \"C:\\Users\\lenovo\\anaconda3\\lib\\site-packages\\pip\\_internal\\cli\\progress_bars.py\", line 168, in iter\n",
      "    for x in it:\n",
      "  File \"C:\\Users\\lenovo\\anaconda3\\lib\\site-packages\\pip\\_internal\\network\\utils.py\", line 64, in response_chunks\n",
      "    for chunk in response.raw.stream(\n",
      "  File \"C:\\Users\\lenovo\\anaconda3\\lib\\site-packages\\pip\\_vendor\\urllib3\\response.py\", line 576, in stream\n",
      "    data = self.read(amt=amt, decode_content=decode_content)\n",
      "  File \"C:\\Users\\lenovo\\anaconda3\\lib\\site-packages\\pip\\_vendor\\urllib3\\response.py\", line 541, in read\n",
      "    raise IncompleteRead(self._fp_bytes_read, self.length_remaining)\n",
      "  File \"C:\\Users\\lenovo\\anaconda3\\lib\\contextlib.py\", line 131, in __exit__\n",
      "    self.gen.throw(type, value, traceback)\n",
      "  File \"C:\\Users\\lenovo\\anaconda3\\lib\\site-packages\\pip\\_vendor\\urllib3\\response.py\", line 442, in _error_catcher\n",
      "    raise ReadTimeoutError(self._pool, None, \"Read timed out.\")\n",
      "pip._vendor.urllib3.exceptions.ReadTimeoutError: HTTPSConnectionPool(host='files.pythonhosted.org', port=443): Read timed out.\n"
     ]
    },
    {
     "name": "stdout",
     "output_type": "stream",
     "text": [
      "Collecting tensorflow\n",
      "  Downloading tensorflow-2.10.0-cp38-cp38-win_amd64.whl (455.9 MB)\n"
     ]
    }
   ],
   "source": [
    "pip install tensorflow"
   ]
  },
  {
   "cell_type": "code",
   "execution_count": 193,
   "metadata": {},
   "outputs": [
    {
     "ename": "ModuleNotFoundError",
     "evalue": "No module named 'tensorflow'",
     "output_type": "error",
     "traceback": [
      "\u001b[1;31m---------------------------------------------------------------------------\u001b[0m",
      "\u001b[1;31mModuleNotFoundError\u001b[0m                       Traceback (most recent call last)",
      "\u001b[1;32m<ipython-input-193-1e0ff912e1b1>\u001b[0m in \u001b[0;36m<module>\u001b[1;34m\u001b[0m\n\u001b[0;32m      1\u001b[0m \u001b[1;32mfrom\u001b[0m \u001b[0msklearn\u001b[0m\u001b[1;33m.\u001b[0m\u001b[0mmodel_selection\u001b[0m \u001b[1;32mimport\u001b[0m \u001b[0mtrain_test_split\u001b[0m\u001b[1;33m\u001b[0m\u001b[1;33m\u001b[0m\u001b[0m\n\u001b[1;32m----> 2\u001b[1;33m \u001b[1;32mimport\u001b[0m \u001b[0mtensorflow\u001b[0m \u001b[1;32mas\u001b[0m \u001b[0mtf\u001b[0m\u001b[1;33m\u001b[0m\u001b[1;33m\u001b[0m\u001b[0m\n\u001b[0m",
      "\u001b[1;31mModuleNotFoundError\u001b[0m: No module named 'tensorflow'"
     ]
    }
   ],
   "source": [
    "from sklearn.model_selection import train_test_split\n",
    "import tensorflow as tf\n"
   ]
  },
  {
   "cell_type": "markdown",
   "metadata": {},
   "source": [
    "电脑装不了tensorflow，用的视频里的代码所得结论。"
   ]
  },
  {
   "cell_type": "code",
   "execution_count": null,
   "metadata": {},
   "outputs": [],
   "source": [
    "x_train,x_test,y_train,y_test = train_test_split(np.float32(X),np.float32(target),test_size = 0.2)"
   ]
  },
  {
   "cell_type": "code",
   "execution_count": null,
   "metadata": {},
   "outputs": [],
   "source": [
    "#将标签写成独热编码\n",
    "tf.compat.v1.disable_eager_execution()\n",
    "target = tf.one_hot(cars['labels'],3)\n",
    "with tf.compat.v1.Session() as sess:\n",
    "    target = sess.run(target)"
   ]
  },
  {
   "cell_type": "code",
   "execution_count": null,
   "metadata": {},
   "outputs": [],
   "source": [
    "#参数设置\n",
    "w0 = tf.Variable(tf.zeros([7,10]))\n",
    "b0 = tf.Variable(tf.ones([10]))\n",
    "w1 = tf.Variable(tf.zeros([10,3]))\n",
    "b1 = tf.Variable(tf.zeros([3]))\n",
    "#传递\n",
    "H = tf.sigmoid(tf.matmul(X_train,w0)+b0)\n",
    "y = tf.nn.softmax(tf.matmul(H,w1)+b1)\n",
    "#优化\n",
    "cross_entropy = tf.reduce_mean(-tf.reduce_sum(y_train*tf.math.log(y),\n",
    "                                              axis=1))\n",
    "tf.compat.v1.disable_eager_execution()\n",
    "optimizer = tf.compat.v1.train.GradientDescentOptimizer(0.25).minimize(cross_entropy)"
   ]
  },
  {
   "cell_type": "code",
   "execution_count": null,
   "metadata": {},
   "outputs": [],
   "source": [
    "#训练模型\n",
    "tf.compat.v1.disable_eager_execution()\n",
    "sess = tf.compat.v1.Session()\n",
    "sess.run(tf.compat.v1.global_variables_initializer())\n",
    "for i in range(1000):\n",
    "    sess.run(optimizer)\n",
    "    if i %100 == 0:\n",
    "        H_ = tf.sigmoid(tf.matmul(x_test,w0) +b0)\n",
    "        y_ = tf.nn.softmax(tf.matmul(H_,w1) + b1)\n",
    "        procorrect = tf.equal(tf.argmax(y_,1),tf.argmax(y_test,1))\n",
    "        pre = sess.run(procorrect)\n",
    "print(sum(pre)/len(y_test))\n",
    "sess.close()"
   ]
  },
  {
   "cell_type": "code",
   "execution_count": null,
   "metadata": {},
   "outputs": [],
   "source": []
  }
 ],
 "metadata": {
  "kernelspec": {
   "display_name": "Python 3",
   "language": "python",
   "name": "python3"
  },
  "language_info": {
   "codemirror_mode": {
    "name": "ipython",
    "version": 3
   },
   "file_extension": ".py",
   "mimetype": "text/x-python",
   "name": "python",
   "nbconvert_exporter": "python",
   "pygments_lexer": "ipython3",
   "version": "3.8.5"
  }
 },
 "nbformat": 4,
 "nbformat_minor": 4
}
